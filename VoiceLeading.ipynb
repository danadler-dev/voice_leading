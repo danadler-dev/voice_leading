{
  "nbformat": 4,
  "nbformat_minor": 0,
  "metadata": {
    "colab": {
      "provenance": [],
      "authorship_tag": "ABX9TyOy+OB+z0T/cIXdANEsa+Jp",
      "include_colab_link": true
    },
    "kernelspec": {
      "name": "python3",
      "display_name": "Python 3"
    },
    "language_info": {
      "name": "python"
    }
  },
  "cells": [
    {
      "cell_type": "markdown",
      "metadata": {
        "id": "view-in-github",
        "colab_type": "text"
      },
      "source": [
        "<a href=\"https://colab.research.google.com/github/danadler-dev/voice_leading/blob/main/VoiceLeading.ipynb\" target=\"_parent\"><img src=\"https://colab.research.google.com/assets/colab-badge.svg\" alt=\"Open In Colab\"/></a>"
      ]
    },
    {
      "cell_type": "code",
      "source": [
        "import pandas as pd\n",
        "from enum import Enum\n",
        "\n",
        "class Scale(Enum):\n",
        "    MAJOR = 1\n",
        "    H_MINOR = 2\n",
        "    M_MINOR = 3\n",
        "\n",
        "############################################################\n",
        "# Class to generate 3,4,5 part diatonic chords for any scale\n",
        "# For example: 4 part chords in F Major:\n",
        "# c = Diatonic(\"F\", Scale.MAJOR)\n",
        "# c.chords(4)\n",
        "############################################################\n",
        "\n",
        "class Diatonic:\n",
        "  _tonic = '?'\n",
        "  _scale = []\n",
        "  _notes_flat  = [\"C\", \"Db\", \"D\", \"Eb\", \"E\", \"F\", \"Gb\", \"G\", \"Ab\", \"A\", \"Bb\", \"B\"]\n",
        "  _Notes_flat  = pd.Series(_notes_flat)\n",
        "\n",
        "  _notes_sharp = [\"C\", \"C#\", \"D\", \"D#\", \"E\", \"F\", \"F#\", \"G\", \"G#\", \"A\", \"A#\", \"B\"]\n",
        "  _Notes_sharp = pd.Series(_notes_sharp)\n",
        "\n",
        "  def _mk_scale(self, intervals):\n",
        "    sharp = lambda t: ('#' in t) or (t in [\"D\", \"E\", \"G\", \"A\", \"B\"])\n",
        "    notes = self._notes_sharp if sharp(self._tonic) else self._notes_flat\n",
        "    Notes = self._Notes_sharp if sharp(self._tonic) else self._Notes_flat\n",
        "    offset = notes.index(self.tonic)\n",
        "    ivals = [(x + offset) % 12 for x in intervals]\n",
        "    return list(Notes[ivals])\n",
        "\n",
        "  def _major(self):\n",
        "    return self._mk_scale([0,2,4,5,7,9,11])\n",
        "\n",
        "  def _mel_minor(self):\n",
        "    return self._mk_scale([0,2,3,5,7,9,11])\n",
        "\n",
        "  def _har_minor(self):\n",
        "    return self._mk_scale([0,2,3,5,7,8,11])\n",
        "\n",
        "  def __init__(self, tonic:str, kind:Scale ):\n",
        "    self.tonic = tonic\n",
        "    if kind == Scale.MAJOR:\n",
        "      self._scale = self._major()\n",
        "    elif kind == Scale.M_MINOR:\n",
        "      self._scale = self._mel_minor()\n",
        "    else:\n",
        "      self._scale = self._har_minor() \n",
        "\n",
        "  def chords(self, num=3):\n",
        "    next = lambda x, n=1: self._scale[(self._scale.index(x)+n) % len(self._scale)]\n",
        "    return [tuple([next(c,2*i) for i in range(num)]) for c in self._scale]\n"
      ],
      "metadata": {
        "id": "Yoa5FaEOJFpj"
      },
      "execution_count": 1,
      "outputs": []
    },
    {
      "cell_type": "code",
      "source": [
        "# 4-part diatonic chords in F melodic minor\n",
        "c = Diatonic(\"F\", Scale.M_MINOR)\n",
        "assert c.chords(4) == [\n",
        " ('F', 'Ab', 'C', 'E'),\n",
        " ('G', 'Bb', 'D', 'F'),\n",
        " ('Ab', 'C', 'E', 'G'),\n",
        " ('Bb', 'D', 'F', 'Ab'),\n",
        " ('C', 'E', 'G', 'Bb'),\n",
        " ('D', 'F', 'Ab', 'C'),\n",
        " ('E', 'G', 'Bb', 'D')]"
      ],
      "metadata": {
        "id": "SqdbfISQJQ6C"
      },
      "execution_count": 2,
      "outputs": []
    },
    {
      "cell_type": "code",
      "source": [
        "# 5-part diatonic chords in C major\n",
        "c = Diatonic(\"C\", Scale.MAJOR)\n",
        "assert c.chords(5) == [\n",
        " ('C', 'E', 'G', 'B', 'D'),\n",
        " ('D', 'F', 'A', 'C', 'E'),\n",
        " ('E', 'G', 'B', 'D', 'F'),\n",
        " ('F', 'A', 'C', 'E', 'G'),\n",
        " ('G', 'B', 'D', 'F', 'A'),\n",
        " ('A', 'C', 'E', 'G', 'B'),\n",
        " ('B', 'D', 'F', 'A', 'C') \n",
        "]"
      ],
      "metadata": {
        "id": "ve0ElvvuJ-1h"
      },
      "execution_count": 3,
      "outputs": []
    },
    {
      "cell_type": "code",
      "source": [],
      "metadata": {
        "id": "JTgbRzf4zcfW"
      },
      "execution_count": 3,
      "outputs": []
    },
    {
      "cell_type": "code",
      "source": [
        "class VoicingCycle:\n",
        "  # The 6 cycles as defined in the book intro\n",
        "  _pc = (5,3,1) # cycle: 5->3->1->5...\n",
        "  \n",
        "  def _perm(self, *args):\n",
        "    return tuple([self._pc[(self._pc.index(a)+1) % len(self._pc)] for a in args[0]])\n",
        "  \n",
        "  def __init__(self, chords, pc):\n",
        "    self.Cycle2 = []; self.Cycle3 = []; self.Cycle4 = []; self.Cycle5 = []; self.Cycle6 = []; self.Cycle7 = []\n",
        "    self.Cycles = [self.Cycle2, self.Cycle3, self.Cycle4, self.Cycle5, self.Cycle6, self.Cycle7 ]\n",
        "    for i in range(len(self.Cycles)):\n",
        "      j=0\n",
        "      for k in range(len(chords)):\n",
        "        self.Cycles[i].append(chords[j])\n",
        "        j = (j + i + 1) % len(chords)\n",
        "    self._pc = pc  \n",
        "\n",
        "  # invert a chord like (C,E, G) by a permutation like (3,1,5)\n",
        "  @classmethod\n",
        "  def _invert(cls, chord, prm):\n",
        "    _chord_tone = {1:0, 3:1, 5:2, 7:3, 9:4}\n",
        "    loc = tuple([_chord_tone[t] for t in prm]) \n",
        "    return tuple([chord[loc[i]] for i in range(len(prm))])\n",
        "    \n",
        "  def gen(self, cycle, start):\n",
        "    for p in start:\n",
        "      for i in range(len(p)):\n",
        "        for c in cycle:\n",
        "          print(self._invert(c, p))\n",
        "          p = self._perm(p)\n",
        "        print('---------------')\n",
        "      print('================')\n"
      ],
      "metadata": {
        "id": "GJTLO9AlUOup"
      },
      "execution_count": 19,
      "outputs": []
    },
    {
      "cell_type": "code",
      "source": [
        "assert VoicingCycle._invert(('C','E','G'), (3,5,1)) == ('E', 'G', 'C')"
      ],
      "metadata": {
        "id": "Qy18h921WTZ1"
      },
      "execution_count": 20,
      "outputs": []
    },
    {
      "cell_type": "code",
      "source": [
        "# start with C Major Triads\n",
        "c = Diatonic(\"C\", Scale.MAJOR)"
      ],
      "metadata": {
        "id": "ht1aUnzjbc7j"
      },
      "execution_count": 21,
      "outputs": []
    },
    {
      "cell_type": "code",
      "source": [
        "vc = VoicingCycle(c.chords(3), (5,3,1)) # cycle: 5->3->1->5...\n",
        "voicings = [(1,3,5), (1,5,3)] # close voicing, spread voicing\n",
        "vc.gen(vc.Cycle2, voicings ) "
      ],
      "metadata": {
        "colab": {
          "base_uri": "https://localhost:8080/"
        },
        "id": "0Tw6MZwfYZvy",
        "outputId": "eabe6121-3704-4d2d-bdb9-6bb87e91cca2"
      },
      "execution_count": 22,
      "outputs": [
        {
          "output_type": "stream",
          "name": "stdout",
          "text": [
            "('C', 'E', 'G')\n",
            "('A', 'D', 'F')\n",
            "('G', 'B', 'E')\n",
            "('F', 'A', 'C')\n",
            "('D', 'G', 'B')\n",
            "('C', 'E', 'A')\n",
            "('B', 'D', 'F')\n",
            "---------------\n",
            "('G', 'C', 'E')\n",
            "('F', 'A', 'D')\n",
            "('E', 'G', 'B')\n",
            "('C', 'F', 'A')\n",
            "('B', 'D', 'G')\n",
            "('A', 'C', 'E')\n",
            "('F', 'B', 'D')\n",
            "---------------\n",
            "('E', 'G', 'C')\n",
            "('D', 'F', 'A')\n",
            "('B', 'E', 'G')\n",
            "('A', 'C', 'F')\n",
            "('G', 'B', 'D')\n",
            "('E', 'A', 'C')\n",
            "('D', 'F', 'B')\n",
            "---------------\n",
            "================\n",
            "('C', 'G', 'E')\n",
            "('A', 'F', 'D')\n",
            "('G', 'E', 'B')\n",
            "('F', 'C', 'A')\n",
            "('D', 'B', 'G')\n",
            "('C', 'A', 'E')\n",
            "('B', 'F', 'D')\n",
            "---------------\n",
            "('G', 'E', 'C')\n",
            "('F', 'D', 'A')\n",
            "('E', 'B', 'G')\n",
            "('C', 'A', 'F')\n",
            "('B', 'G', 'D')\n",
            "('A', 'E', 'C')\n",
            "('F', 'D', 'B')\n",
            "---------------\n",
            "('E', 'C', 'G')\n",
            "('D', 'A', 'F')\n",
            "('B', 'G', 'E')\n",
            "('A', 'F', 'C')\n",
            "('G', 'D', 'B')\n",
            "('E', 'C', 'A')\n",
            "('D', 'B', 'F')\n",
            "---------------\n",
            "================\n"
          ]
        }
      ]
    },
    {
      "cell_type": "code",
      "source": [
        "vc = VoicingCycle(c.chords(3), (5,3,1)) # cycle: 5->3->1->5...\n",
        "voicings = [(1,3,5), (1,5,3)] # close voicing, spread voicing\n",
        "vc.gen(vc.Cycle4, voicings) # close voicing, spread voicing"
      ],
      "metadata": {
        "colab": {
          "base_uri": "https://localhost:8080/"
        },
        "id": "bF-EqtNFceuC",
        "outputId": "92c1cf40-9eea-4a36-c924-a1669a0af63c"
      },
      "execution_count": 23,
      "outputs": [
        {
          "output_type": "stream",
          "name": "stdout",
          "text": [
            "('C', 'E', 'G')\n",
            "('C', 'F', 'A')\n",
            "('D', 'F', 'B')\n",
            "('E', 'G', 'B')\n",
            "('E', 'A', 'C')\n",
            "('F', 'A', 'D')\n",
            "('G', 'B', 'D')\n",
            "---------------\n",
            "('G', 'C', 'E')\n",
            "('A', 'C', 'F')\n",
            "('B', 'D', 'F')\n",
            "('B', 'E', 'G')\n",
            "('C', 'E', 'A')\n",
            "('D', 'F', 'A')\n",
            "('D', 'G', 'B')\n",
            "---------------\n",
            "('E', 'G', 'C')\n",
            "('F', 'A', 'C')\n",
            "('F', 'B', 'D')\n",
            "('G', 'B', 'E')\n",
            "('A', 'C', 'E')\n",
            "('A', 'D', 'F')\n",
            "('B', 'D', 'G')\n",
            "---------------\n",
            "================\n",
            "('C', 'G', 'E')\n",
            "('C', 'A', 'F')\n",
            "('D', 'B', 'F')\n",
            "('E', 'B', 'G')\n",
            "('E', 'C', 'A')\n",
            "('F', 'D', 'A')\n",
            "('G', 'D', 'B')\n",
            "---------------\n",
            "('G', 'E', 'C')\n",
            "('A', 'F', 'C')\n",
            "('B', 'F', 'D')\n",
            "('B', 'G', 'E')\n",
            "('C', 'A', 'E')\n",
            "('D', 'A', 'F')\n",
            "('D', 'B', 'G')\n",
            "---------------\n",
            "('E', 'C', 'G')\n",
            "('F', 'C', 'A')\n",
            "('F', 'D', 'B')\n",
            "('G', 'E', 'B')\n",
            "('A', 'E', 'C')\n",
            "('A', 'F', 'D')\n",
            "('B', 'G', 'D')\n",
            "---------------\n",
            "================\n"
          ]
        }
      ]
    },
    {
      "cell_type": "code",
      "source": [
        "vc = VoicingCycle(c.chords(3), (5,1,3)) # cycle: 5->3->1->5...\n",
        "voicings = [(1,3,5), (1,5,3)] # close voicing, spread voicing\n",
        "vc.gen(vc.Cycle6, voicings) # close voicing, spread voicing"
      ],
      "metadata": {
        "colab": {
          "base_uri": "https://localhost:8080/"
        },
        "id": "AnIIuAVVjVL1",
        "outputId": "0538dd3a-d8ca-4982-f2ed-d6fc3249b68d"
      },
      "execution_count": 24,
      "outputs": [
        {
          "output_type": "stream",
          "name": "stdout",
          "text": [
            "('C', 'E', 'G')\n",
            "('C', 'E', 'A')\n",
            "('C', 'F', 'A')\n",
            "('D', 'F', 'A')\n",
            "('D', 'F', 'B')\n",
            "('D', 'G', 'B')\n",
            "('E', 'G', 'B')\n",
            "---------------\n",
            "('E', 'G', 'C')\n",
            "('E', 'A', 'C')\n",
            "('F', 'A', 'C')\n",
            "('F', 'A', 'D')\n",
            "('F', 'B', 'D')\n",
            "('G', 'B', 'D')\n",
            "('G', 'B', 'E')\n",
            "---------------\n",
            "('G', 'C', 'E')\n",
            "('A', 'C', 'E')\n",
            "('A', 'C', 'F')\n",
            "('A', 'D', 'F')\n",
            "('B', 'D', 'F')\n",
            "('B', 'D', 'G')\n",
            "('B', 'E', 'G')\n",
            "---------------\n",
            "================\n",
            "('C', 'G', 'E')\n",
            "('C', 'A', 'E')\n",
            "('C', 'A', 'F')\n",
            "('D', 'A', 'F')\n",
            "('D', 'B', 'F')\n",
            "('D', 'B', 'G')\n",
            "('E', 'B', 'G')\n",
            "---------------\n",
            "('E', 'C', 'G')\n",
            "('E', 'C', 'A')\n",
            "('F', 'C', 'A')\n",
            "('F', 'D', 'A')\n",
            "('F', 'D', 'B')\n",
            "('G', 'D', 'B')\n",
            "('G', 'E', 'B')\n",
            "---------------\n",
            "('G', 'E', 'C')\n",
            "('A', 'E', 'C')\n",
            "('A', 'F', 'C')\n",
            "('A', 'F', 'D')\n",
            "('B', 'F', 'D')\n",
            "('B', 'G', 'D')\n",
            "('B', 'G', 'E')\n",
            "---------------\n",
            "================\n"
          ]
        }
      ]
    },
    {
      "cell_type": "code",
      "source": [
        "vc = VoicingCycle(c.chords(3), (5,1,3)) # cycle: 5->3->1->5...\n",
        "voicings = [(1,3,5), (1,5,3)] # close voicing, spread voicing\n",
        "vc.gen(vc.Cycle7, voicings) # close voicing, spread voicing"
      ],
      "metadata": {
        "colab": {
          "base_uri": "https://localhost:8080/"
        },
        "id": "HkXb8QcQFst-",
        "outputId": "15ab85aa-aa56-4f60-dd0a-8715e50ffeed"
      },
      "execution_count": 25,
      "outputs": [
        {
          "output_type": "stream",
          "name": "stdout",
          "text": [
            "('C', 'E', 'G')\n",
            "('D', 'F', 'B')\n",
            "('E', 'A', 'C')\n",
            "('G', 'B', 'D')\n",
            "('A', 'C', 'F')\n",
            "('B', 'E', 'G')\n",
            "('D', 'F', 'A')\n",
            "---------------\n",
            "('E', 'G', 'C')\n",
            "('F', 'B', 'D')\n",
            "('A', 'C', 'E')\n",
            "('B', 'D', 'G')\n",
            "('C', 'F', 'A')\n",
            "('E', 'G', 'B')\n",
            "('F', 'A', 'D')\n",
            "---------------\n",
            "('G', 'C', 'E')\n",
            "('B', 'D', 'F')\n",
            "('C', 'E', 'A')\n",
            "('D', 'G', 'B')\n",
            "('F', 'A', 'C')\n",
            "('G', 'B', 'E')\n",
            "('A', 'D', 'F')\n",
            "---------------\n",
            "================\n",
            "('C', 'G', 'E')\n",
            "('D', 'B', 'F')\n",
            "('E', 'C', 'A')\n",
            "('G', 'D', 'B')\n",
            "('A', 'F', 'C')\n",
            "('B', 'G', 'E')\n",
            "('D', 'A', 'F')\n",
            "---------------\n",
            "('E', 'C', 'G')\n",
            "('F', 'D', 'B')\n",
            "('A', 'E', 'C')\n",
            "('B', 'G', 'D')\n",
            "('C', 'A', 'F')\n",
            "('E', 'B', 'G')\n",
            "('F', 'D', 'A')\n",
            "---------------\n",
            "('G', 'E', 'C')\n",
            "('B', 'F', 'D')\n",
            "('C', 'A', 'E')\n",
            "('D', 'B', 'G')\n",
            "('F', 'C', 'A')\n",
            "('G', 'E', 'B')\n",
            "('A', 'F', 'D')\n",
            "---------------\n",
            "================\n"
          ]
        }
      ]
    },
    {
      "cell_type": "code",
      "source": [
        "vc = VoicingCycle(c.chords(3), (1,3, 5)) # cycle: 1->3->5->1...\n",
        "voicings = [(1,3,5), (1,5,3)] # close voicing, spread voicing\n",
        "vc.gen(vc.Cycle5, voicings) # close voicing, spread voicing"
      ],
      "metadata": {
        "colab": {
          "base_uri": "https://localhost:8080/"
        },
        "id": "pgCMezBFkqOl",
        "outputId": "c87b8742-fc81-4c8b-e8dc-f1158a8f93be"
      },
      "execution_count": 26,
      "outputs": [
        {
          "output_type": "stream",
          "name": "stdout",
          "text": [
            "('C', 'E', 'G')\n",
            "('B', 'D', 'G')\n",
            "('A', 'D', 'F')\n",
            "('A', 'C', 'E')\n",
            "('G', 'B', 'E')\n",
            "('F', 'B', 'D')\n",
            "('F', 'A', 'C')\n",
            "---------------\n",
            "('E', 'G', 'C')\n",
            "('D', 'G', 'B')\n",
            "('D', 'F', 'A')\n",
            "('C', 'E', 'A')\n",
            "('B', 'E', 'G')\n",
            "('B', 'D', 'F')\n",
            "('A', 'C', 'F')\n",
            "---------------\n",
            "('G', 'C', 'E')\n",
            "('G', 'B', 'D')\n",
            "('F', 'A', 'D')\n",
            "('E', 'A', 'C')\n",
            "('E', 'G', 'B')\n",
            "('D', 'F', 'B')\n",
            "('C', 'F', 'A')\n",
            "---------------\n",
            "================\n",
            "('C', 'G', 'E')\n",
            "('B', 'G', 'D')\n",
            "('A', 'F', 'D')\n",
            "('A', 'E', 'C')\n",
            "('G', 'E', 'B')\n",
            "('F', 'D', 'B')\n",
            "('F', 'C', 'A')\n",
            "---------------\n",
            "('E', 'C', 'G')\n",
            "('D', 'B', 'G')\n",
            "('D', 'A', 'F')\n",
            "('C', 'A', 'E')\n",
            "('B', 'G', 'E')\n",
            "('B', 'F', 'D')\n",
            "('A', 'F', 'C')\n",
            "---------------\n",
            "('G', 'E', 'C')\n",
            "('G', 'D', 'B')\n",
            "('F', 'D', 'A')\n",
            "('E', 'C', 'A')\n",
            "('E', 'B', 'G')\n",
            "('D', 'B', 'F')\n",
            "('C', 'A', 'F')\n",
            "---------------\n",
            "================\n"
          ]
        }
      ]
    },
    {
      "cell_type": "code",
      "source": [
        "vc = VoicingCycle(c.chords(3), (1,5, 3)) # cycle: 1->5->3->1...\n",
        "voicings = [(1,3,5), (1,5,3)] # close voicing, spread voicing\n",
        "vc.gen(vc.Cycle3, voicings) # close voicing, spread voicing"
      ],
      "metadata": {
        "colab": {
          "base_uri": "https://localhost:8080/"
        },
        "id": "R37F-3v3k68e",
        "outputId": "6a05c67b-ea07-4752-fd8d-a402373261fd"
      },
      "execution_count": 27,
      "outputs": [
        {
          "output_type": "stream",
          "name": "stdout",
          "text": [
            "('C', 'E', 'G')\n",
            "('B', 'E', 'G')\n",
            "('B', 'D', 'G')\n",
            "('B', 'D', 'F')\n",
            "('A', 'D', 'F')\n",
            "('A', 'C', 'F')\n",
            "('A', 'C', 'E')\n",
            "---------------\n",
            "('G', 'C', 'E')\n",
            "('G', 'B', 'E')\n",
            "('G', 'B', 'D')\n",
            "('F', 'B', 'D')\n",
            "('F', 'A', 'D')\n",
            "('F', 'A', 'C')\n",
            "('E', 'A', 'C')\n",
            "---------------\n",
            "('E', 'G', 'C')\n",
            "('E', 'G', 'B')\n",
            "('D', 'G', 'B')\n",
            "('D', 'F', 'B')\n",
            "('D', 'F', 'A')\n",
            "('C', 'F', 'A')\n",
            "('C', 'E', 'A')\n",
            "---------------\n",
            "================\n",
            "('C', 'G', 'E')\n",
            "('B', 'G', 'E')\n",
            "('B', 'G', 'D')\n",
            "('B', 'F', 'D')\n",
            "('A', 'F', 'D')\n",
            "('A', 'F', 'C')\n",
            "('A', 'E', 'C')\n",
            "---------------\n",
            "('G', 'E', 'C')\n",
            "('G', 'E', 'B')\n",
            "('G', 'D', 'B')\n",
            "('F', 'D', 'B')\n",
            "('F', 'D', 'A')\n",
            "('F', 'C', 'A')\n",
            "('E', 'C', 'A')\n",
            "---------------\n",
            "('E', 'C', 'G')\n",
            "('E', 'B', 'G')\n",
            "('D', 'B', 'G')\n",
            "('D', 'B', 'F')\n",
            "('D', 'A', 'F')\n",
            "('C', 'A', 'F')\n",
            "('C', 'A', 'E')\n",
            "---------------\n",
            "================\n"
          ]
        }
      ]
    },
    {
      "cell_type": "code",
      "source": [
        "# start with C Melodic Minor Triads\n",
        "c = Diatonic(\"C\", Scale.M_MINOR)"
      ],
      "metadata": {
        "id": "rhPGTCRBmf7F"
      },
      "execution_count": 28,
      "outputs": []
    },
    {
      "cell_type": "code",
      "source": [
        "vc = VoicingCycle(c.chords(3), (5,3,1)) # cycle: 5->3->1->5...\n",
        "voicings = [(1,3,5), (1,5,3)] # close voicing, spread voicing\n",
        "vc.gen(vc.Cycle2, voicings ) "
      ],
      "metadata": {
        "colab": {
          "base_uri": "https://localhost:8080/"
        },
        "id": "qVle4EnUlLEm",
        "outputId": "7105bcdd-e251-4f82-ed26-51d765f44c8c"
      },
      "execution_count": 29,
      "outputs": [
        {
          "output_type": "stream",
          "name": "stdout",
          "text": [
            "('C', 'Eb', 'G')\n",
            "('A', 'D', 'F')\n",
            "('G', 'B', 'Eb')\n",
            "('F', 'A', 'C')\n",
            "('D', 'G', 'B')\n",
            "('C', 'Eb', 'A')\n",
            "('B', 'D', 'F')\n",
            "---------------\n",
            "('G', 'C', 'Eb')\n",
            "('F', 'A', 'D')\n",
            "('Eb', 'G', 'B')\n",
            "('C', 'F', 'A')\n",
            "('B', 'D', 'G')\n",
            "('A', 'C', 'Eb')\n",
            "('F', 'B', 'D')\n",
            "---------------\n",
            "('Eb', 'G', 'C')\n",
            "('D', 'F', 'A')\n",
            "('B', 'Eb', 'G')\n",
            "('A', 'C', 'F')\n",
            "('G', 'B', 'D')\n",
            "('Eb', 'A', 'C')\n",
            "('D', 'F', 'B')\n",
            "---------------\n",
            "================\n",
            "('C', 'G', 'Eb')\n",
            "('A', 'F', 'D')\n",
            "('G', 'Eb', 'B')\n",
            "('F', 'C', 'A')\n",
            "('D', 'B', 'G')\n",
            "('C', 'A', 'Eb')\n",
            "('B', 'F', 'D')\n",
            "---------------\n",
            "('G', 'Eb', 'C')\n",
            "('F', 'D', 'A')\n",
            "('Eb', 'B', 'G')\n",
            "('C', 'A', 'F')\n",
            "('B', 'G', 'D')\n",
            "('A', 'Eb', 'C')\n",
            "('F', 'D', 'B')\n",
            "---------------\n",
            "('Eb', 'C', 'G')\n",
            "('D', 'A', 'F')\n",
            "('B', 'G', 'Eb')\n",
            "('A', 'F', 'C')\n",
            "('G', 'D', 'B')\n",
            "('Eb', 'C', 'A')\n",
            "('D', 'B', 'F')\n",
            "---------------\n",
            "================\n"
          ]
        }
      ]
    },
    {
      "cell_type": "code",
      "source": [
        "# start with C Harmonic Minor Triads\n",
        "c = Diatonic(\"C\", Scale.H_MINOR)"
      ],
      "metadata": {
        "id": "4dNGGcq6mlTG"
      },
      "execution_count": 30,
      "outputs": []
    },
    {
      "cell_type": "code",
      "source": [
        "vc = VoicingCycle(c.chords(3), (5,3,1)) # cycle: 5->3->1->5...\n",
        "voicings = [(1,3,5), (1,5,3)] # close voicing, spread voicing\n",
        "vc.gen(vc.Cycle2, voicings ) "
      ],
      "metadata": {
        "colab": {
          "base_uri": "https://localhost:8080/"
        },
        "id": "_dqWihGEnJOH",
        "outputId": "e79713e9-11a2-4a96-be13-1ad24817f573"
      },
      "execution_count": 31,
      "outputs": [
        {
          "output_type": "stream",
          "name": "stdout",
          "text": [
            "('C', 'Eb', 'G')\n",
            "('Ab', 'D', 'F')\n",
            "('G', 'B', 'Eb')\n",
            "('F', 'Ab', 'C')\n",
            "('D', 'G', 'B')\n",
            "('C', 'Eb', 'Ab')\n",
            "('B', 'D', 'F')\n",
            "---------------\n",
            "('G', 'C', 'Eb')\n",
            "('F', 'Ab', 'D')\n",
            "('Eb', 'G', 'B')\n",
            "('C', 'F', 'Ab')\n",
            "('B', 'D', 'G')\n",
            "('Ab', 'C', 'Eb')\n",
            "('F', 'B', 'D')\n",
            "---------------\n",
            "('Eb', 'G', 'C')\n",
            "('D', 'F', 'Ab')\n",
            "('B', 'Eb', 'G')\n",
            "('Ab', 'C', 'F')\n",
            "('G', 'B', 'D')\n",
            "('Eb', 'Ab', 'C')\n",
            "('D', 'F', 'B')\n",
            "---------------\n",
            "================\n",
            "('C', 'G', 'Eb')\n",
            "('Ab', 'F', 'D')\n",
            "('G', 'Eb', 'B')\n",
            "('F', 'C', 'Ab')\n",
            "('D', 'B', 'G')\n",
            "('C', 'Ab', 'Eb')\n",
            "('B', 'F', 'D')\n",
            "---------------\n",
            "('G', 'Eb', 'C')\n",
            "('F', 'D', 'Ab')\n",
            "('Eb', 'B', 'G')\n",
            "('C', 'Ab', 'F')\n",
            "('B', 'G', 'D')\n",
            "('Ab', 'Eb', 'C')\n",
            "('F', 'D', 'B')\n",
            "---------------\n",
            "('Eb', 'C', 'G')\n",
            "('D', 'Ab', 'F')\n",
            "('B', 'G', 'Eb')\n",
            "('Ab', 'F', 'C')\n",
            "('G', 'D', 'B')\n",
            "('Eb', 'C', 'Ab')\n",
            "('D', 'B', 'F')\n",
            "---------------\n",
            "================\n"
          ]
        }
      ]
    },
    {
      "cell_type": "code",
      "source": [
        "# start with C Major 7sth Chords\n",
        "c = Diatonic(\"C\", Scale.MAJOR)"
      ],
      "metadata": {
        "id": "tmsA-JnrnKQP"
      },
      "execution_count": 32,
      "outputs": []
    },
    {
      "cell_type": "code",
      "source": [
        "vc = VoicingCycle(c.chords(4), (5,3,1,7)) # cycle: 5->3->1->7->5...\n",
        "voicings = [(1,3,5,7)] # close voicing\n",
        "vc.gen(vc.Cycle2, voicings ) "
      ],
      "metadata": {
        "colab": {
          "base_uri": "https://localhost:8080/"
        },
        "id": "TtVMwL03omGQ",
        "outputId": "34edd093-0b76-4f82-c51a-16860dec372e"
      },
      "execution_count": 33,
      "outputs": [
        {
          "output_type": "stream",
          "name": "stdout",
          "text": [
            "('C', 'E', 'G', 'B')\n",
            "('C', 'D', 'F', 'A')\n",
            "('B', 'D', 'E', 'G')\n",
            "('A', 'C', 'E', 'F')\n",
            "('G', 'B', 'D', 'F')\n",
            "('G', 'A', 'C', 'E')\n",
            "('F', 'A', 'B', 'D')\n",
            "---------------\n",
            "('E', 'G', 'B', 'C')\n",
            "('D', 'F', 'A', 'C')\n",
            "('D', 'E', 'G', 'B')\n",
            "('C', 'E', 'F', 'A')\n",
            "('B', 'D', 'F', 'G')\n",
            "('A', 'C', 'E', 'G')\n",
            "('A', 'B', 'D', 'F')\n",
            "---------------\n",
            "('G', 'B', 'C', 'E')\n",
            "('F', 'A', 'C', 'D')\n",
            "('E', 'G', 'B', 'D')\n",
            "('E', 'F', 'A', 'C')\n",
            "('D', 'F', 'G', 'B')\n",
            "('C', 'E', 'G', 'A')\n",
            "('B', 'D', 'F', 'A')\n",
            "---------------\n",
            "('B', 'C', 'E', 'G')\n",
            "('A', 'C', 'D', 'F')\n",
            "('G', 'B', 'D', 'E')\n",
            "('F', 'A', 'C', 'E')\n",
            "('F', 'G', 'B', 'D')\n",
            "('E', 'G', 'A', 'C')\n",
            "('D', 'F', 'A', 'B')\n",
            "---------------\n",
            "================\n"
          ]
        }
      ]
    },
    {
      "cell_type": "code",
      "source": [
        "voicings = [(1,5,7,3)] # drop-2 voicing\n",
        "vc.gen(vc.Cycle2, voicings ) "
      ],
      "metadata": {
        "colab": {
          "base_uri": "https://localhost:8080/"
        },
        "id": "akB8xary8Fao",
        "outputId": "202b5c0c-a495-4136-8b6e-e9ed72e18390"
      },
      "execution_count": 34,
      "outputs": [
        {
          "output_type": "stream",
          "name": "stdout",
          "text": [
            "('C', 'G', 'B', 'E')\n",
            "('C', 'F', 'A', 'D')\n",
            "('B', 'E', 'G', 'D')\n",
            "('A', 'E', 'F', 'C')\n",
            "('G', 'D', 'F', 'B')\n",
            "('G', 'C', 'E', 'A')\n",
            "('F', 'B', 'D', 'A')\n",
            "---------------\n",
            "('E', 'B', 'C', 'G')\n",
            "('D', 'A', 'C', 'F')\n",
            "('D', 'G', 'B', 'E')\n",
            "('C', 'F', 'A', 'E')\n",
            "('B', 'F', 'G', 'D')\n",
            "('A', 'E', 'G', 'C')\n",
            "('A', 'D', 'F', 'B')\n",
            "---------------\n",
            "('G', 'C', 'E', 'B')\n",
            "('F', 'C', 'D', 'A')\n",
            "('E', 'B', 'D', 'G')\n",
            "('E', 'A', 'C', 'F')\n",
            "('D', 'G', 'B', 'F')\n",
            "('C', 'G', 'A', 'E')\n",
            "('B', 'F', 'A', 'D')\n",
            "---------------\n",
            "('B', 'E', 'G', 'C')\n",
            "('A', 'D', 'F', 'C')\n",
            "('G', 'D', 'E', 'B')\n",
            "('F', 'C', 'E', 'A')\n",
            "('F', 'B', 'D', 'G')\n",
            "('E', 'A', 'C', 'G')\n",
            "('D', 'A', 'B', 'F')\n",
            "---------------\n",
            "================\n"
          ]
        }
      ]
    },
    {
      "cell_type": "code",
      "source": [
        "voicings = [(1,7,3,5)] # drop 3 voicing\n",
        "vc.gen(vc.Cycle2, voicings ) "
      ],
      "metadata": {
        "colab": {
          "base_uri": "https://localhost:8080/"
        },
        "id": "-z6dUk_89ADg",
        "outputId": "4e807df6-f082-407b-ae7b-e4bf942c2e74"
      },
      "execution_count": 35,
      "outputs": [
        {
          "output_type": "stream",
          "name": "stdout",
          "text": [
            "('C', 'B', 'E', 'G')\n",
            "('C', 'A', 'D', 'F')\n",
            "('B', 'G', 'D', 'E')\n",
            "('A', 'F', 'C', 'E')\n",
            "('G', 'F', 'B', 'D')\n",
            "('G', 'E', 'A', 'C')\n",
            "('F', 'D', 'A', 'B')\n",
            "---------------\n",
            "('E', 'C', 'G', 'B')\n",
            "('D', 'C', 'F', 'A')\n",
            "('D', 'B', 'E', 'G')\n",
            "('C', 'A', 'E', 'F')\n",
            "('B', 'G', 'D', 'F')\n",
            "('A', 'G', 'C', 'E')\n",
            "('A', 'F', 'B', 'D')\n",
            "---------------\n",
            "('G', 'E', 'B', 'C')\n",
            "('F', 'D', 'A', 'C')\n",
            "('E', 'D', 'G', 'B')\n",
            "('E', 'C', 'F', 'A')\n",
            "('D', 'B', 'F', 'G')\n",
            "('C', 'A', 'E', 'G')\n",
            "('B', 'A', 'D', 'F')\n",
            "---------------\n",
            "('B', 'G', 'C', 'E')\n",
            "('A', 'F', 'C', 'D')\n",
            "('G', 'E', 'B', 'D')\n",
            "('F', 'E', 'A', 'C')\n",
            "('F', 'D', 'G', 'B')\n",
            "('E', 'C', 'G', 'A')\n",
            "('D', 'B', 'F', 'A')\n",
            "---------------\n",
            "================\n"
          ]
        }
      ]
    },
    {
      "cell_type": "code",
      "source": [
        "voicings = [(1,3,7,5)] # drop 2 & 3 voicing\n",
        "vc.gen(vc.Cycle2, voicings ) "
      ],
      "metadata": {
        "colab": {
          "base_uri": "https://localhost:8080/"
        },
        "id": "RHcz7KAV9Uth",
        "outputId": "b999d40f-f3aa-42d3-d0f8-b77f6168ddc8"
      },
      "execution_count": 36,
      "outputs": [
        {
          "output_type": "stream",
          "name": "stdout",
          "text": [
            "('C', 'E', 'B', 'G')\n",
            "('C', 'D', 'A', 'F')\n",
            "('B', 'D', 'G', 'E')\n",
            "('A', 'C', 'F', 'E')\n",
            "('G', 'B', 'F', 'D')\n",
            "('G', 'A', 'E', 'C')\n",
            "('F', 'A', 'D', 'B')\n",
            "---------------\n",
            "('E', 'G', 'C', 'B')\n",
            "('D', 'F', 'C', 'A')\n",
            "('D', 'E', 'B', 'G')\n",
            "('C', 'E', 'A', 'F')\n",
            "('B', 'D', 'G', 'F')\n",
            "('A', 'C', 'G', 'E')\n",
            "('A', 'B', 'F', 'D')\n",
            "---------------\n",
            "('G', 'B', 'E', 'C')\n",
            "('F', 'A', 'D', 'C')\n",
            "('E', 'G', 'D', 'B')\n",
            "('E', 'F', 'C', 'A')\n",
            "('D', 'F', 'B', 'G')\n",
            "('C', 'E', 'A', 'G')\n",
            "('B', 'D', 'A', 'F')\n",
            "---------------\n",
            "('B', 'C', 'G', 'E')\n",
            "('A', 'C', 'F', 'D')\n",
            "('G', 'B', 'E', 'D')\n",
            "('F', 'A', 'E', 'C')\n",
            "('F', 'G', 'D', 'B')\n",
            "('E', 'G', 'C', 'A')\n",
            "('D', 'F', 'B', 'A')\n",
            "---------------\n",
            "================\n"
          ]
        }
      ]
    },
    {
      "cell_type": "code",
      "source": [
        "voicings = [(1,5,3,7)] # drop 2 & 4 voicing\n",
        "vc.gen(vc.Cycle2, voicings ) "
      ],
      "metadata": {
        "colab": {
          "base_uri": "https://localhost:8080/"
        },
        "id": "DyGaq43y90UR",
        "outputId": "87627f22-3e6e-49e7-8bf5-3bcccbdcbe7a"
      },
      "execution_count": 37,
      "outputs": [
        {
          "output_type": "stream",
          "name": "stdout",
          "text": [
            "('C', 'G', 'E', 'B')\n",
            "('C', 'F', 'D', 'A')\n",
            "('B', 'E', 'D', 'G')\n",
            "('A', 'E', 'C', 'F')\n",
            "('G', 'D', 'B', 'F')\n",
            "('G', 'C', 'A', 'E')\n",
            "('F', 'B', 'A', 'D')\n",
            "---------------\n",
            "('E', 'B', 'G', 'C')\n",
            "('D', 'A', 'F', 'C')\n",
            "('D', 'G', 'E', 'B')\n",
            "('C', 'F', 'E', 'A')\n",
            "('B', 'F', 'D', 'G')\n",
            "('A', 'E', 'C', 'G')\n",
            "('A', 'D', 'B', 'F')\n",
            "---------------\n",
            "('G', 'C', 'B', 'E')\n",
            "('F', 'C', 'A', 'D')\n",
            "('E', 'B', 'G', 'D')\n",
            "('E', 'A', 'F', 'C')\n",
            "('D', 'G', 'F', 'B')\n",
            "('C', 'G', 'E', 'A')\n",
            "('B', 'F', 'D', 'A')\n",
            "---------------\n",
            "('B', 'E', 'C', 'G')\n",
            "('A', 'D', 'C', 'F')\n",
            "('G', 'D', 'B', 'E')\n",
            "('F', 'C', 'A', 'E')\n",
            "('F', 'B', 'G', 'D')\n",
            "('E', 'A', 'G', 'C')\n",
            "('D', 'A', 'F', 'B')\n",
            "---------------\n",
            "================\n"
          ]
        }
      ]
    },
    {
      "cell_type": "code",
      "source": [
        "voicings = [(1,7,5,3)] # double drop 2 & 3 voicing\n",
        "vc.gen(vc.Cycle2, voicings ) "
      ],
      "metadata": {
        "colab": {
          "base_uri": "https://localhost:8080/"
        },
        "id": "s0-Q_WUz-YeQ",
        "outputId": "c3a5ca6b-618f-414c-a584-b7f2775f585f"
      },
      "execution_count": 38,
      "outputs": [
        {
          "output_type": "stream",
          "name": "stdout",
          "text": [
            "('C', 'B', 'G', 'E')\n",
            "('C', 'A', 'F', 'D')\n",
            "('B', 'G', 'E', 'D')\n",
            "('A', 'F', 'E', 'C')\n",
            "('G', 'F', 'D', 'B')\n",
            "('G', 'E', 'C', 'A')\n",
            "('F', 'D', 'B', 'A')\n",
            "---------------\n",
            "('E', 'C', 'B', 'G')\n",
            "('D', 'C', 'A', 'F')\n",
            "('D', 'B', 'G', 'E')\n",
            "('C', 'A', 'F', 'E')\n",
            "('B', 'G', 'F', 'D')\n",
            "('A', 'G', 'E', 'C')\n",
            "('A', 'F', 'D', 'B')\n",
            "---------------\n",
            "('G', 'E', 'C', 'B')\n",
            "('F', 'D', 'C', 'A')\n",
            "('E', 'D', 'B', 'G')\n",
            "('E', 'C', 'A', 'F')\n",
            "('D', 'B', 'G', 'F')\n",
            "('C', 'A', 'G', 'E')\n",
            "('B', 'A', 'F', 'D')\n",
            "---------------\n",
            "('B', 'G', 'E', 'C')\n",
            "('A', 'F', 'D', 'C')\n",
            "('G', 'E', 'D', 'B')\n",
            "('F', 'E', 'C', 'A')\n",
            "('F', 'D', 'B', 'G')\n",
            "('E', 'C', 'A', 'G')\n",
            "('D', 'B', 'A', 'F')\n",
            "---------------\n",
            "================\n"
          ]
        }
      ]
    },
    {
      "cell_type": "code",
      "source": [],
      "metadata": {
        "id": "HZ1x_Q_6-zsg"
      },
      "execution_count": null,
      "outputs": []
    }
  ]
}