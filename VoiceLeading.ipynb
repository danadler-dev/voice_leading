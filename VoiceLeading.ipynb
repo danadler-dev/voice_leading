{
  "nbformat": 4,
  "nbformat_minor": 0,
  "metadata": {
    "colab": {
      "provenance": [],
      "authorship_tag": "ABX9TyPNyfZzMcWslp89mCPOt6bW",
      "include_colab_link": true
    },
    "kernelspec": {
      "name": "python3",
      "display_name": "Python 3"
    },
    "language_info": {
      "name": "python"
    },
    "widgets": {
      "application/vnd.jupyter.widget-state+json": {
        "e9198f4a67f149a5bb7fce5a1d268b93": {
          "model_module": "@jupyter-widgets/controls",
          "model_name": "HBoxModel",
          "model_module_version": "1.5.0",
          "state": {
            "_dom_classes": [],
            "_model_module": "@jupyter-widgets/controls",
            "_model_module_version": "1.5.0",
            "_model_name": "HBoxModel",
            "_view_count": null,
            "_view_module": "@jupyter-widgets/controls",
            "_view_module_version": "1.5.0",
            "_view_name": "HBoxView",
            "box_style": "",
            "children": [
              "IPY_MODEL_c8c9b78c3dbd4f2dadb9bea4f9100a54",
              "IPY_MODEL_106f70014e1d4d24b570f89ec17303e3",
              "IPY_MODEL_65b44bcb90f344b7840b63bef748bb98",
              "IPY_MODEL_c80a1a167e284c3a8e082245fd258111",
              "IPY_MODEL_1b0ae499449546a2ab12ad5d026d1969"
            ],
            "layout": "IPY_MODEL_500c23c056f6458085de2a3779814c64"
          }
        },
        "c8c9b78c3dbd4f2dadb9bea4f9100a54": {
          "model_module": "@jupyter-widgets/controls",
          "model_name": "ButtonModel",
          "model_module_version": "1.5.0",
          "state": {
            "_dom_classes": [],
            "_model_module": "@jupyter-widgets/controls",
            "_model_module_version": "1.5.0",
            "_model_name": "ButtonModel",
            "_view_count": null,
            "_view_module": "@jupyter-widgets/controls",
            "_view_module_version": "1.5.0",
            "_view_name": "ButtonView",
            "button_style": "",
            "description": "Generate",
            "disabled": false,
            "icon": "",
            "layout": "IPY_MODEL_76bed1f1beff4c3daa5b6c29efea1713",
            "style": "IPY_MODEL_9eb7a4c4aae248d597d96e0b8d86f619",
            "tooltip": ""
          }
        },
        "106f70014e1d4d24b570f89ec17303e3": {
          "model_module": "@jupyter-widgets/controls",
          "model_name": "DropdownModel",
          "model_module_version": "1.5.0",
          "state": {
            "_dom_classes": [],
            "_model_module": "@jupyter-widgets/controls",
            "_model_module_version": "1.5.0",
            "_model_name": "DropdownModel",
            "_options_labels": [
              "C",
              "Db",
              "D",
              "Eb",
              "E",
              "F",
              "Gb",
              "G",
              "Ab",
              "A",
              "Bb",
              "B"
            ],
            "_view_count": null,
            "_view_module": "@jupyter-widgets/controls",
            "_view_module_version": "1.5.0",
            "_view_name": "DropdownView",
            "description": "Key:",
            "description_tooltip": null,
            "disabled": false,
            "index": 0,
            "layout": "IPY_MODEL_9dd1049d35f447aa894ea28904e126a6",
            "style": "IPY_MODEL_73ad227d1b32482d95d315971d45eb2a"
          }
        },
        "65b44bcb90f344b7840b63bef748bb98": {
          "model_module": "@jupyter-widgets/controls",
          "model_name": "DropdownModel",
          "model_module_version": "1.5.0",
          "state": {
            "_dom_classes": [],
            "_model_module": "@jupyter-widgets/controls",
            "_model_module_version": "1.5.0",
            "_model_name": "DropdownModel",
            "_options_labels": [
              "Major",
              "Mel. Minor",
              "Har. Minor"
            ],
            "_view_count": null,
            "_view_module": "@jupyter-widgets/controls",
            "_view_module_version": "1.5.0",
            "_view_name": "DropdownView",
            "description": "Scale:",
            "description_tooltip": null,
            "disabled": false,
            "index": 0,
            "layout": "IPY_MODEL_0f14d24558ad4c9aac5729da66dd8810",
            "style": "IPY_MODEL_f6a3330986fc4fcfa4462ba4b9d6efb3"
          }
        },
        "c80a1a167e284c3a8e082245fd258111": {
          "model_module": "@jupyter-widgets/controls",
          "model_name": "DropdownModel",
          "model_module_version": "1.5.0",
          "state": {
            "_dom_classes": [],
            "_model_module": "@jupyter-widgets/controls",
            "_model_module_version": "1.5.0",
            "_model_name": "DropdownModel",
            "_options_labels": [
              "[1,3,5]",
              "[1,3,5,7]",
              "[1,2,5,7]",
              "[1,4,5,7]"
            ],
            "_view_count": null,
            "_view_module": "@jupyter-widgets/controls",
            "_view_module_version": "1.5.0",
            "_view_name": "DropdownView",
            "description": "Chord:",
            "description_tooltip": null,
            "disabled": false,
            "index": 0,
            "layout": "IPY_MODEL_c746cdf113b44490989ba9f5c1d005b3",
            "style": "IPY_MODEL_dd0a09af64d949aeb01d9058970cf78a"
          }
        },
        "1b0ae499449546a2ab12ad5d026d1969": {
          "model_module": "@jupyter-widgets/controls",
          "model_name": "DropdownModel",
          "model_module_version": "1.5.0",
          "state": {
            "_dom_classes": [],
            "_model_module": "@jupyter-widgets/controls",
            "_model_module_version": "1.5.0",
            "_model_name": "DropdownModel",
            "_options_labels": [
              "Cycle2",
              "Cycle3",
              "Cycle4",
              "Cycle5",
              "Cycle6",
              "Cycle7"
            ],
            "_view_count": null,
            "_view_module": "@jupyter-widgets/controls",
            "_view_module_version": "1.5.0",
            "_view_name": "DropdownView",
            "description": "Cycle:",
            "description_tooltip": null,
            "disabled": false,
            "index": 0,
            "layout": "IPY_MODEL_412b5ff7c23a48cab1eb8529aa2b1d4e",
            "style": "IPY_MODEL_60c104ed068c4506813fa342a0882037"
          }
        },
        "500c23c056f6458085de2a3779814c64": {
          "model_module": "@jupyter-widgets/base",
          "model_name": "LayoutModel",
          "model_module_version": "1.2.0",
          "state": {
            "_model_module": "@jupyter-widgets/base",
            "_model_module_version": "1.2.0",
            "_model_name": "LayoutModel",
            "_view_count": null,
            "_view_module": "@jupyter-widgets/base",
            "_view_module_version": "1.2.0",
            "_view_name": "LayoutView",
            "align_content": null,
            "align_items": null,
            "align_self": null,
            "border": null,
            "bottom": null,
            "display": null,
            "flex": null,
            "flex_flow": null,
            "grid_area": null,
            "grid_auto_columns": null,
            "grid_auto_flow": null,
            "grid_auto_rows": null,
            "grid_column": null,
            "grid_gap": null,
            "grid_row": null,
            "grid_template_areas": null,
            "grid_template_columns": null,
            "grid_template_rows": null,
            "height": null,
            "justify_content": null,
            "justify_items": null,
            "left": null,
            "margin": null,
            "max_height": null,
            "max_width": null,
            "min_height": null,
            "min_width": null,
            "object_fit": null,
            "object_position": null,
            "order": null,
            "overflow": null,
            "overflow_x": null,
            "overflow_y": null,
            "padding": null,
            "right": null,
            "top": null,
            "visibility": null,
            "width": null
          }
        },
        "76bed1f1beff4c3daa5b6c29efea1713": {
          "model_module": "@jupyter-widgets/base",
          "model_name": "LayoutModel",
          "model_module_version": "1.2.0",
          "state": {
            "_model_module": "@jupyter-widgets/base",
            "_model_module_version": "1.2.0",
            "_model_name": "LayoutModel",
            "_view_count": null,
            "_view_module": "@jupyter-widgets/base",
            "_view_module_version": "1.2.0",
            "_view_name": "LayoutView",
            "align_content": null,
            "align_items": null,
            "align_self": null,
            "border": null,
            "bottom": null,
            "display": null,
            "flex": null,
            "flex_flow": null,
            "grid_area": null,
            "grid_auto_columns": null,
            "grid_auto_flow": null,
            "grid_auto_rows": null,
            "grid_column": null,
            "grid_gap": null,
            "grid_row": null,
            "grid_template_areas": null,
            "grid_template_columns": null,
            "grid_template_rows": null,
            "height": null,
            "justify_content": null,
            "justify_items": null,
            "left": null,
            "margin": null,
            "max_height": null,
            "max_width": null,
            "min_height": null,
            "min_width": null,
            "object_fit": null,
            "object_position": null,
            "order": null,
            "overflow": null,
            "overflow_x": null,
            "overflow_y": null,
            "padding": null,
            "right": null,
            "top": null,
            "visibility": null,
            "width": null
          }
        },
        "9eb7a4c4aae248d597d96e0b8d86f619": {
          "model_module": "@jupyter-widgets/controls",
          "model_name": "ButtonStyleModel",
          "model_module_version": "1.5.0",
          "state": {
            "_model_module": "@jupyter-widgets/controls",
            "_model_module_version": "1.5.0",
            "_model_name": "ButtonStyleModel",
            "_view_count": null,
            "_view_module": "@jupyter-widgets/base",
            "_view_module_version": "1.2.0",
            "_view_name": "StyleView",
            "button_color": "lightgreen",
            "font_weight": ""
          }
        },
        "9dd1049d35f447aa894ea28904e126a6": {
          "model_module": "@jupyter-widgets/base",
          "model_name": "LayoutModel",
          "model_module_version": "1.2.0",
          "state": {
            "_model_module": "@jupyter-widgets/base",
            "_model_module_version": "1.2.0",
            "_model_name": "LayoutModel",
            "_view_count": null,
            "_view_module": "@jupyter-widgets/base",
            "_view_module_version": "1.2.0",
            "_view_name": "LayoutView",
            "align_content": null,
            "align_items": null,
            "align_self": null,
            "border": null,
            "bottom": null,
            "display": null,
            "flex": null,
            "flex_flow": null,
            "grid_area": null,
            "grid_auto_columns": null,
            "grid_auto_flow": null,
            "grid_auto_rows": null,
            "grid_column": null,
            "grid_gap": null,
            "grid_row": null,
            "grid_template_areas": null,
            "grid_template_columns": null,
            "grid_template_rows": null,
            "height": null,
            "justify_content": null,
            "justify_items": null,
            "left": null,
            "margin": null,
            "max_height": null,
            "max_width": null,
            "min_height": null,
            "min_width": null,
            "object_fit": null,
            "object_position": null,
            "order": null,
            "overflow": null,
            "overflow_x": null,
            "overflow_y": null,
            "padding": null,
            "right": null,
            "top": null,
            "visibility": null,
            "width": null
          }
        },
        "73ad227d1b32482d95d315971d45eb2a": {
          "model_module": "@jupyter-widgets/controls",
          "model_name": "DescriptionStyleModel",
          "model_module_version": "1.5.0",
          "state": {
            "_model_module": "@jupyter-widgets/controls",
            "_model_module_version": "1.5.0",
            "_model_name": "DescriptionStyleModel",
            "_view_count": null,
            "_view_module": "@jupyter-widgets/base",
            "_view_module_version": "1.2.0",
            "_view_name": "StyleView",
            "description_width": ""
          }
        },
        "0f14d24558ad4c9aac5729da66dd8810": {
          "model_module": "@jupyter-widgets/base",
          "model_name": "LayoutModel",
          "model_module_version": "1.2.0",
          "state": {
            "_model_module": "@jupyter-widgets/base",
            "_model_module_version": "1.2.0",
            "_model_name": "LayoutModel",
            "_view_count": null,
            "_view_module": "@jupyter-widgets/base",
            "_view_module_version": "1.2.0",
            "_view_name": "LayoutView",
            "align_content": null,
            "align_items": null,
            "align_self": null,
            "border": null,
            "bottom": null,
            "display": null,
            "flex": null,
            "flex_flow": null,
            "grid_area": null,
            "grid_auto_columns": null,
            "grid_auto_flow": null,
            "grid_auto_rows": null,
            "grid_column": null,
            "grid_gap": null,
            "grid_row": null,
            "grid_template_areas": null,
            "grid_template_columns": null,
            "grid_template_rows": null,
            "height": null,
            "justify_content": null,
            "justify_items": null,
            "left": null,
            "margin": null,
            "max_height": null,
            "max_width": null,
            "min_height": null,
            "min_width": null,
            "object_fit": null,
            "object_position": null,
            "order": null,
            "overflow": null,
            "overflow_x": null,
            "overflow_y": null,
            "padding": null,
            "right": null,
            "top": null,
            "visibility": null,
            "width": null
          }
        },
        "f6a3330986fc4fcfa4462ba4b9d6efb3": {
          "model_module": "@jupyter-widgets/controls",
          "model_name": "DescriptionStyleModel",
          "model_module_version": "1.5.0",
          "state": {
            "_model_module": "@jupyter-widgets/controls",
            "_model_module_version": "1.5.0",
            "_model_name": "DescriptionStyleModel",
            "_view_count": null,
            "_view_module": "@jupyter-widgets/base",
            "_view_module_version": "1.2.0",
            "_view_name": "StyleView",
            "description_width": ""
          }
        },
        "c746cdf113b44490989ba9f5c1d005b3": {
          "model_module": "@jupyter-widgets/base",
          "model_name": "LayoutModel",
          "model_module_version": "1.2.0",
          "state": {
            "_model_module": "@jupyter-widgets/base",
            "_model_module_version": "1.2.0",
            "_model_name": "LayoutModel",
            "_view_count": null,
            "_view_module": "@jupyter-widgets/base",
            "_view_module_version": "1.2.0",
            "_view_name": "LayoutView",
            "align_content": null,
            "align_items": null,
            "align_self": null,
            "border": null,
            "bottom": null,
            "display": null,
            "flex": null,
            "flex_flow": null,
            "grid_area": null,
            "grid_auto_columns": null,
            "grid_auto_flow": null,
            "grid_auto_rows": null,
            "grid_column": null,
            "grid_gap": null,
            "grid_row": null,
            "grid_template_areas": null,
            "grid_template_columns": null,
            "grid_template_rows": null,
            "height": null,
            "justify_content": null,
            "justify_items": null,
            "left": null,
            "margin": null,
            "max_height": null,
            "max_width": null,
            "min_height": null,
            "min_width": null,
            "object_fit": null,
            "object_position": null,
            "order": null,
            "overflow": null,
            "overflow_x": null,
            "overflow_y": null,
            "padding": null,
            "right": null,
            "top": null,
            "visibility": null,
            "width": null
          }
        },
        "dd0a09af64d949aeb01d9058970cf78a": {
          "model_module": "@jupyter-widgets/controls",
          "model_name": "DescriptionStyleModel",
          "model_module_version": "1.5.0",
          "state": {
            "_model_module": "@jupyter-widgets/controls",
            "_model_module_version": "1.5.0",
            "_model_name": "DescriptionStyleModel",
            "_view_count": null,
            "_view_module": "@jupyter-widgets/base",
            "_view_module_version": "1.2.0",
            "_view_name": "StyleView",
            "description_width": ""
          }
        },
        "412b5ff7c23a48cab1eb8529aa2b1d4e": {
          "model_module": "@jupyter-widgets/base",
          "model_name": "LayoutModel",
          "model_module_version": "1.2.0",
          "state": {
            "_model_module": "@jupyter-widgets/base",
            "_model_module_version": "1.2.0",
            "_model_name": "LayoutModel",
            "_view_count": null,
            "_view_module": "@jupyter-widgets/base",
            "_view_module_version": "1.2.0",
            "_view_name": "LayoutView",
            "align_content": null,
            "align_items": null,
            "align_self": null,
            "border": null,
            "bottom": null,
            "display": null,
            "flex": null,
            "flex_flow": null,
            "grid_area": null,
            "grid_auto_columns": null,
            "grid_auto_flow": null,
            "grid_auto_rows": null,
            "grid_column": null,
            "grid_gap": null,
            "grid_row": null,
            "grid_template_areas": null,
            "grid_template_columns": null,
            "grid_template_rows": null,
            "height": null,
            "justify_content": null,
            "justify_items": null,
            "left": null,
            "margin": null,
            "max_height": null,
            "max_width": null,
            "min_height": null,
            "min_width": null,
            "object_fit": null,
            "object_position": null,
            "order": null,
            "overflow": null,
            "overflow_x": null,
            "overflow_y": null,
            "padding": null,
            "right": null,
            "top": null,
            "visibility": null,
            "width": null
          }
        },
        "60c104ed068c4506813fa342a0882037": {
          "model_module": "@jupyter-widgets/controls",
          "model_name": "DescriptionStyleModel",
          "model_module_version": "1.5.0",
          "state": {
            "_model_module": "@jupyter-widgets/controls",
            "_model_module_version": "1.5.0",
            "_model_name": "DescriptionStyleModel",
            "_view_count": null,
            "_view_module": "@jupyter-widgets/base",
            "_view_module_version": "1.2.0",
            "_view_name": "StyleView",
            "description_width": ""
          }
        },
        "ff56240db0bf43988c8a280ccbbd451b": {
          "model_module": "@jupyter-widgets/output",
          "model_name": "OutputModel",
          "model_module_version": "1.0.0",
          "state": {
            "_dom_classes": [],
            "_model_module": "@jupyter-widgets/output",
            "_model_module_version": "1.0.0",
            "_model_name": "OutputModel",
            "_view_count": null,
            "_view_module": "@jupyter-widgets/output",
            "_view_module_version": "1.0.0",
            "_view_name": "OutputView",
            "layout": "IPY_MODEL_63363802671b42518a3930722ef4ed65",
            "msg_id": "",
            "outputs": [
              {
                "output_type": "stream",
                "name": "stdout",
                "text": [
                  "('C', 'E', 'G')\n",
                  "('A', 'D', 'F')\n",
                  "('G', 'B', 'E')\n",
                  "('F', 'A', 'C')\n",
                  "('D', 'G', 'B')\n",
                  "('C', 'E', 'A')\n",
                  "('B', 'D', 'F')\n",
                  "---------------\n",
                  "('G', 'C', 'E')\n",
                  "('F', 'A', 'D')\n",
                  "('E', 'G', 'B')\n",
                  "('C', 'F', 'A')\n",
                  "('B', 'D', 'G')\n",
                  "('A', 'C', 'E')\n",
                  "('F', 'B', 'D')\n",
                  "---------------\n",
                  "('E', 'G', 'C')\n",
                  "('D', 'F', 'A')\n",
                  "('B', 'E', 'G')\n",
                  "('A', 'C', 'F')\n",
                  "('G', 'B', 'D')\n",
                  "('E', 'A', 'C')\n",
                  "('D', 'F', 'B')\n",
                  "---------------\n",
                  "================\n",
                  "('C', 'G', 'E')\n",
                  "('A', 'F', 'D')\n",
                  "('G', 'E', 'B')\n",
                  "('F', 'C', 'A')\n",
                  "('D', 'B', 'G')\n",
                  "('C', 'A', 'E')\n",
                  "('B', 'F', 'D')\n",
                  "---------------\n",
                  "('G', 'E', 'C')\n",
                  "('F', 'D', 'A')\n",
                  "('E', 'B', 'G')\n",
                  "('C', 'A', 'F')\n",
                  "('B', 'G', 'D')\n",
                  "('A', 'E', 'C')\n",
                  "('F', 'D', 'B')\n",
                  "---------------\n",
                  "('E', 'C', 'G')\n",
                  "('D', 'A', 'F')\n",
                  "('B', 'G', 'E')\n",
                  "('A', 'F', 'C')\n",
                  "('G', 'D', 'B')\n",
                  "('E', 'C', 'A')\n",
                  "('D', 'B', 'F')\n",
                  "---------------\n",
                  "================\n"
                ]
              }
            ]
          }
        },
        "63363802671b42518a3930722ef4ed65": {
          "model_module": "@jupyter-widgets/base",
          "model_name": "LayoutModel",
          "model_module_version": "1.2.0",
          "state": {
            "_model_module": "@jupyter-widgets/base",
            "_model_module_version": "1.2.0",
            "_model_name": "LayoutModel",
            "_view_count": null,
            "_view_module": "@jupyter-widgets/base",
            "_view_module_version": "1.2.0",
            "_view_name": "LayoutView",
            "align_content": null,
            "align_items": null,
            "align_self": null,
            "border": null,
            "bottom": null,
            "display": null,
            "flex": null,
            "flex_flow": null,
            "grid_area": null,
            "grid_auto_columns": null,
            "grid_auto_flow": null,
            "grid_auto_rows": null,
            "grid_column": null,
            "grid_gap": null,
            "grid_row": null,
            "grid_template_areas": null,
            "grid_template_columns": null,
            "grid_template_rows": null,
            "height": null,
            "justify_content": null,
            "justify_items": null,
            "left": null,
            "margin": null,
            "max_height": null,
            "max_width": null,
            "min_height": null,
            "min_width": null,
            "object_fit": null,
            "object_position": null,
            "order": null,
            "overflow": null,
            "overflow_x": null,
            "overflow_y": null,
            "padding": null,
            "right": null,
            "top": null,
            "visibility": null,
            "width": null
          }
        }
      }
    }
  },
  "cells": [
    {
      "cell_type": "markdown",
      "metadata": {
        "id": "view-in-github",
        "colab_type": "text"
      },
      "source": [
        "<a href=\"https://colab.research.google.com/github/danadler-dev/voice_leading/blob/main/VoiceLeading.ipynb\" target=\"_parent\"><img src=\"https://colab.research.google.com/assets/colab-badge.svg\" alt=\"Open In Colab\"/></a>"
      ]
    },
    {
      "cell_type": "code",
      "source": [
        "from pandas.core.api import isnull\n",
        "import pandas as pd\n",
        "from enum import Enum\n",
        "\n",
        "class Scale(Enum):\n",
        "    MAJOR = 1\n",
        "    H_MINOR = 2\n",
        "    M_MINOR = 3\n",
        "\n",
        "############################################################\n",
        "# Class to generate 3,4,5 part diatonic chords for any scale\n",
        "# For example: 4 part chords in F Major:\n",
        "# c = Diatonic(\"F\", Scale.MAJOR)\n",
        "# c.chords(4)\n",
        "############################################################\n",
        "\n",
        "class Diatonic:\n",
        "  _tonic = '?'\n",
        "  _scale = []\n",
        "  _notes_flat  = [\"C\", \"Db\", \"D\", \"Eb\", \"E\", \"F\", \"Gb\", \"G\", \"Ab\", \"A\", \"Bb\", \"B\"]\n",
        "  _Notes_flat  = pd.Series(_notes_flat)\n",
        "\n",
        "  _notes_sharp = [\"C\", \"C#\", \"D\", \"D#\", \"E\", \"F\", \"F#\", \"G\", \"G#\", \"A\", \"A#\", \"B\"]\n",
        "  _Notes_sharp = pd.Series(_notes_sharp)\n",
        "\n",
        "  def _mk_scale(self, intervals):\n",
        "    sharp = lambda t: ('#' in t) or (t in [\"D\", \"E\", \"G\", \"A\", \"B\"])\n",
        "    notes = self._notes_sharp if sharp(self._tonic) else self._notes_flat\n",
        "    Notes = self._Notes_sharp if sharp(self._tonic) else self._Notes_flat\n",
        "    offset = notes.index(self._tonic)\n",
        "    ivals = [(x + offset) % 12 for x in intervals]\n",
        "    return list(Notes[ivals])\n",
        "\n",
        "  def _major(self):\n",
        "    return self._mk_scale([0,2,4,5,7,9,11])\n",
        "\n",
        "  def _mel_minor(self):\n",
        "    return self._mk_scale([0,2,3,5,7,9,11])\n",
        "\n",
        "  def _har_minor(self):\n",
        "    return self._mk_scale([0,2,3,5,7,8,11])\n",
        "\n",
        "  def __init__(self, tonic:str, kind:Scale = Scale.MAJOR ):\n",
        "    self._tonic = tonic\n",
        "    if kind == Scale.MAJOR:\n",
        "      self._scale = self._major()\n",
        "    elif kind == Scale.M_MINOR:\n",
        "      self._scale = self._mel_minor()\n",
        "    else:\n",
        "      self._scale = self._har_minor() \n",
        "\n",
        "  def chords(self, intervals=None):\n",
        "    ints = intervals or [1,3,5]\n",
        "    next = lambda x, n=1: self._scale[(self._scale.index(x)+n-1) % len(self._scale)]\n",
        "    return [tuple([next(c, x) for x in ints]) for c in self._scale]\n"
      ],
      "metadata": {
        "id": "Yoa5FaEOJFpj"
      },
      "execution_count": 60,
      "outputs": []
    },
    {
      "cell_type": "code",
      "source": [
        "# 4-part diatonic chords in F melodic minor\n",
        "c = Diatonic(\"F\", Scale.M_MINOR)\n",
        "assert c.chords([1,3,5,7]) == [\n",
        " ('F', 'Ab', 'C', 'E'),\n",
        " ('G', 'Bb', 'D', 'F'),\n",
        " ('Ab', 'C', 'E', 'G'),\n",
        " ('Bb', 'D', 'F', 'Ab'),\n",
        " ('C', 'E', 'G', 'Bb'),\n",
        " ('D', 'F', 'Ab', 'C'),\n",
        " ('E', 'G', 'Bb', 'D')]"
      ],
      "metadata": {
        "id": "SqdbfISQJQ6C"
      },
      "execution_count": 61,
      "outputs": []
    },
    {
      "cell_type": "code",
      "source": [
        "# 5-part diatonic chords in C major\n",
        "c = Diatonic(\"C\", Scale.MAJOR)\n",
        "assert c.chords([1,3,5,7,9]) == [\n",
        " ('C', 'E', 'G', 'B', 'D'),\n",
        " ('D', 'F', 'A', 'C', 'E'),\n",
        " ('E', 'G', 'B', 'D', 'F'),\n",
        " ('F', 'A', 'C', 'E', 'G'),\n",
        " ('G', 'B', 'D', 'F', 'A'),\n",
        " ('A', 'C', 'E', 'G', 'B'),\n",
        " ('B', 'D', 'F', 'A', 'C') \n",
        "]"
      ],
      "metadata": {
        "id": "ve0ElvvuJ-1h"
      },
      "execution_count": 62,
      "outputs": []
    },
    {
      "cell_type": "code",
      "source": [
        "# 5-part diatonic chords in D major\n",
        "d = Diatonic(\"D\", Scale.MAJOR)\n",
        "assert d.chords([1,3,5,7]) == [\n",
        " ('D', 'F#', 'A', 'C#'),\n",
        " ('E', 'G', 'B', 'D'),\n",
        " ('F#', 'A', 'C#', 'E'),\n",
        " ('G', 'B', 'D', 'F#'),\n",
        " ('A', 'C#', 'E', 'G'),\n",
        " ('B', 'D', 'F#', 'A'),\n",
        " ('C#', 'E', 'G', 'B')\n",
        "]"
      ],
      "metadata": {
        "id": "Y8i11EqU0jl-"
      },
      "execution_count": 63,
      "outputs": []
    },
    {
      "cell_type": "code",
      "source": [
        "class VoicingCycle:\n",
        "  # The 6 cycles as defined in the book intro\n",
        "  _pc = (5,3,1) # cycle: 5->3->1->5...\n",
        "  \n",
        "  def _perm(self, *args):\n",
        "    return tuple([self._pc[(self._pc.index(a)+1) % len(self._pc)] for a in args[0]])\n",
        "  \n",
        "  def __init__(self, chords, pc):\n",
        "    self.Cycle2 = []; self.Cycle3 = []; self.Cycle4 = []; self.Cycle5 = []; self.Cycle6 = []; self.Cycle7 = []\n",
        "    self.Cycles = [self.Cycle2, self.Cycle3, self.Cycle4, self.Cycle5, self.Cycle6, self.Cycle7 ]\n",
        "    for i in range(len(self.Cycles)):\n",
        "      j=0\n",
        "      for k in range(len(chords)):\n",
        "        self.Cycles[i].append(chords[j])\n",
        "        j = (j + i + 1) % len(chords)\n",
        "    self._pc = pc  \n",
        "\n",
        "  # invert a chord like (C,E, G) by a permutation like (3,1,5)\n",
        "  @classmethod\n",
        "  def _invert(cls, chord, prm):\n",
        "    _chord_tone = {1:0, 2:1, 3:1, 4:2, 5:2, 7:3, 9:4}\n",
        "    loc = tuple([_chord_tone[t] for t in prm]) \n",
        "    return tuple([chord[loc[i]] for i in range(len(prm))])\n",
        "    \n",
        "  def gen(self, cycle, start):\n",
        "    for p in start:\n",
        "      for i in range(len(p)):\n",
        "        for c in cycle:\n",
        "          print(self._invert(c, p))\n",
        "          p = self._perm(p)\n",
        "        print('---------------')\n",
        "      print('================')\n"
      ],
      "metadata": {
        "id": "GJTLO9AlUOup"
      },
      "execution_count": 64,
      "outputs": []
    },
    {
      "cell_type": "code",
      "source": [
        "assert VoicingCycle._invert(('C','E','G'), (3,5,1)) == ('E', 'G', 'C')"
      ],
      "metadata": {
        "id": "Qy18h921WTZ1"
      },
      "execution_count": 65,
      "outputs": []
    },
    {
      "cell_type": "code",
      "source": [
        "# start with C Major Triads\n",
        "c = Diatonic(\"C\", Scale.MAJOR)"
      ],
      "metadata": {
        "id": "ht1aUnzjbc7j"
      },
      "execution_count": 66,
      "outputs": []
    },
    {
      "cell_type": "code",
      "source": [
        "vc = VoicingCycle(c.chords(), (5,3,1)) # cycle: 5->3->1->5...\n",
        "voicings = [(1,3,5), (1,5,3)] # close voicing, spread voicing\n",
        "vc.gen(vc.Cycle2, voicings )"
      ],
      "metadata": {
        "colab": {
          "base_uri": "https://localhost:8080/"
        },
        "id": "0Tw6MZwfYZvy",
        "outputId": "acf19b03-482a-4fe8-ed0b-d5038382b144"
      },
      "execution_count": 68,
      "outputs": [
        {
          "output_type": "stream",
          "name": "stdout",
          "text": [
            "('C', 'E', 'G')\n",
            "('A', 'D', 'F')\n",
            "('G', 'B', 'E')\n",
            "('F', 'A', 'C')\n",
            "('D', 'G', 'B')\n",
            "('C', 'E', 'A')\n",
            "('B', 'D', 'F')\n",
            "---------------\n",
            "('G', 'C', 'E')\n",
            "('F', 'A', 'D')\n",
            "('E', 'G', 'B')\n",
            "('C', 'F', 'A')\n",
            "('B', 'D', 'G')\n",
            "('A', 'C', 'E')\n",
            "('F', 'B', 'D')\n",
            "---------------\n",
            "('E', 'G', 'C')\n",
            "('D', 'F', 'A')\n",
            "('B', 'E', 'G')\n",
            "('A', 'C', 'F')\n",
            "('G', 'B', 'D')\n",
            "('E', 'A', 'C')\n",
            "('D', 'F', 'B')\n",
            "---------------\n",
            "================\n",
            "('C', 'G', 'E')\n",
            "('A', 'F', 'D')\n",
            "('G', 'E', 'B')\n",
            "('F', 'C', 'A')\n",
            "('D', 'B', 'G')\n",
            "('C', 'A', 'E')\n",
            "('B', 'F', 'D')\n",
            "---------------\n",
            "('G', 'E', 'C')\n",
            "('F', 'D', 'A')\n",
            "('E', 'B', 'G')\n",
            "('C', 'A', 'F')\n",
            "('B', 'G', 'D')\n",
            "('A', 'E', 'C')\n",
            "('F', 'D', 'B')\n",
            "---------------\n",
            "('E', 'C', 'G')\n",
            "('D', 'A', 'F')\n",
            "('B', 'G', 'E')\n",
            "('A', 'F', 'C')\n",
            "('G', 'D', 'B')\n",
            "('E', 'C', 'A')\n",
            "('D', 'B', 'F')\n",
            "---------------\n",
            "================\n"
          ]
        }
      ]
    },
    {
      "cell_type": "code",
      "source": [
        "vc = VoicingCycle(c.chords([1,3,5]), (5,3,1)) # cycle: 5->3->1->5...\n",
        "voicings = [(1,3,5), (1,5,3)] # close voicing, spread voicing\n",
        "vc.gen(vc.Cycle4, voicings) # close voicing, spread voicing"
      ],
      "metadata": {
        "colab": {
          "base_uri": "https://localhost:8080/"
        },
        "id": "bF-EqtNFceuC",
        "outputId": "329ef402-f75b-4cfa-db1a-138d5081f27b"
      },
      "execution_count": 69,
      "outputs": [
        {
          "output_type": "stream",
          "name": "stdout",
          "text": [
            "('C', 'E', 'G')\n",
            "('C', 'F', 'A')\n",
            "('D', 'F', 'B')\n",
            "('E', 'G', 'B')\n",
            "('E', 'A', 'C')\n",
            "('F', 'A', 'D')\n",
            "('G', 'B', 'D')\n",
            "---------------\n",
            "('G', 'C', 'E')\n",
            "('A', 'C', 'F')\n",
            "('B', 'D', 'F')\n",
            "('B', 'E', 'G')\n",
            "('C', 'E', 'A')\n",
            "('D', 'F', 'A')\n",
            "('D', 'G', 'B')\n",
            "---------------\n",
            "('E', 'G', 'C')\n",
            "('F', 'A', 'C')\n",
            "('F', 'B', 'D')\n",
            "('G', 'B', 'E')\n",
            "('A', 'C', 'E')\n",
            "('A', 'D', 'F')\n",
            "('B', 'D', 'G')\n",
            "---------------\n",
            "================\n",
            "('C', 'G', 'E')\n",
            "('C', 'A', 'F')\n",
            "('D', 'B', 'F')\n",
            "('E', 'B', 'G')\n",
            "('E', 'C', 'A')\n",
            "('F', 'D', 'A')\n",
            "('G', 'D', 'B')\n",
            "---------------\n",
            "('G', 'E', 'C')\n",
            "('A', 'F', 'C')\n",
            "('B', 'F', 'D')\n",
            "('B', 'G', 'E')\n",
            "('C', 'A', 'E')\n",
            "('D', 'A', 'F')\n",
            "('D', 'B', 'G')\n",
            "---------------\n",
            "('E', 'C', 'G')\n",
            "('F', 'C', 'A')\n",
            "('F', 'D', 'B')\n",
            "('G', 'E', 'B')\n",
            "('A', 'E', 'C')\n",
            "('A', 'F', 'D')\n",
            "('B', 'G', 'D')\n",
            "---------------\n",
            "================\n"
          ]
        }
      ]
    },
    {
      "cell_type": "code",
      "source": [
        "vc = VoicingCycle(c.chords([1,3,5]), (5,1,3)) # cycle: 5->3->1->5...\n",
        "voicings = [(1,3,5), (1,5,3)] # close voicing, spread voicing\n",
        "vc.gen(vc.Cycle6, voicings) # close voicing, spread voicing"
      ],
      "metadata": {
        "colab": {
          "base_uri": "https://localhost:8080/"
        },
        "id": "AnIIuAVVjVL1",
        "outputId": "55738673-0893-4743-e82c-e2838611eda3"
      },
      "execution_count": 70,
      "outputs": [
        {
          "output_type": "stream",
          "name": "stdout",
          "text": [
            "('C', 'E', 'G')\n",
            "('C', 'E', 'A')\n",
            "('C', 'F', 'A')\n",
            "('D', 'F', 'A')\n",
            "('D', 'F', 'B')\n",
            "('D', 'G', 'B')\n",
            "('E', 'G', 'B')\n",
            "---------------\n",
            "('E', 'G', 'C')\n",
            "('E', 'A', 'C')\n",
            "('F', 'A', 'C')\n",
            "('F', 'A', 'D')\n",
            "('F', 'B', 'D')\n",
            "('G', 'B', 'D')\n",
            "('G', 'B', 'E')\n",
            "---------------\n",
            "('G', 'C', 'E')\n",
            "('A', 'C', 'E')\n",
            "('A', 'C', 'F')\n",
            "('A', 'D', 'F')\n",
            "('B', 'D', 'F')\n",
            "('B', 'D', 'G')\n",
            "('B', 'E', 'G')\n",
            "---------------\n",
            "================\n",
            "('C', 'G', 'E')\n",
            "('C', 'A', 'E')\n",
            "('C', 'A', 'F')\n",
            "('D', 'A', 'F')\n",
            "('D', 'B', 'F')\n",
            "('D', 'B', 'G')\n",
            "('E', 'B', 'G')\n",
            "---------------\n",
            "('E', 'C', 'G')\n",
            "('E', 'C', 'A')\n",
            "('F', 'C', 'A')\n",
            "('F', 'D', 'A')\n",
            "('F', 'D', 'B')\n",
            "('G', 'D', 'B')\n",
            "('G', 'E', 'B')\n",
            "---------------\n",
            "('G', 'E', 'C')\n",
            "('A', 'E', 'C')\n",
            "('A', 'F', 'C')\n",
            "('A', 'F', 'D')\n",
            "('B', 'F', 'D')\n",
            "('B', 'G', 'D')\n",
            "('B', 'G', 'E')\n",
            "---------------\n",
            "================\n"
          ]
        }
      ]
    },
    {
      "cell_type": "code",
      "source": [
        "vc = VoicingCycle(c.chords([1,3,5]), (5,1,3)) # cycle: 5->3->1->5...\n",
        "voicings = [(1,3,5), (1,5,3)] # close voicing, spread voicing\n",
        "vc.gen(vc.Cycle7, voicings) # close voicing, spread voicing"
      ],
      "metadata": {
        "colab": {
          "base_uri": "https://localhost:8080/"
        },
        "id": "HkXb8QcQFst-",
        "outputId": "079cfcd8-1ce5-4a3b-a469-24422be92994"
      },
      "execution_count": 71,
      "outputs": [
        {
          "output_type": "stream",
          "name": "stdout",
          "text": [
            "('C', 'E', 'G')\n",
            "('D', 'F', 'B')\n",
            "('E', 'A', 'C')\n",
            "('G', 'B', 'D')\n",
            "('A', 'C', 'F')\n",
            "('B', 'E', 'G')\n",
            "('D', 'F', 'A')\n",
            "---------------\n",
            "('E', 'G', 'C')\n",
            "('F', 'B', 'D')\n",
            "('A', 'C', 'E')\n",
            "('B', 'D', 'G')\n",
            "('C', 'F', 'A')\n",
            "('E', 'G', 'B')\n",
            "('F', 'A', 'D')\n",
            "---------------\n",
            "('G', 'C', 'E')\n",
            "('B', 'D', 'F')\n",
            "('C', 'E', 'A')\n",
            "('D', 'G', 'B')\n",
            "('F', 'A', 'C')\n",
            "('G', 'B', 'E')\n",
            "('A', 'D', 'F')\n",
            "---------------\n",
            "================\n",
            "('C', 'G', 'E')\n",
            "('D', 'B', 'F')\n",
            "('E', 'C', 'A')\n",
            "('G', 'D', 'B')\n",
            "('A', 'F', 'C')\n",
            "('B', 'G', 'E')\n",
            "('D', 'A', 'F')\n",
            "---------------\n",
            "('E', 'C', 'G')\n",
            "('F', 'D', 'B')\n",
            "('A', 'E', 'C')\n",
            "('B', 'G', 'D')\n",
            "('C', 'A', 'F')\n",
            "('E', 'B', 'G')\n",
            "('F', 'D', 'A')\n",
            "---------------\n",
            "('G', 'E', 'C')\n",
            "('B', 'F', 'D')\n",
            "('C', 'A', 'E')\n",
            "('D', 'B', 'G')\n",
            "('F', 'C', 'A')\n",
            "('G', 'E', 'B')\n",
            "('A', 'F', 'D')\n",
            "---------------\n",
            "================\n"
          ]
        }
      ]
    },
    {
      "cell_type": "code",
      "source": [
        "vc = VoicingCycle(c.chords([1,3,5]), (1,3, 5)) # cycle: 1->3->5->1...\n",
        "voicings = [(1,3,5), (1,5,3)] # close voicing, spread voicing\n",
        "vc.gen(vc.Cycle5, voicings) # close voicing, spread voicing"
      ],
      "metadata": {
        "colab": {
          "base_uri": "https://localhost:8080/"
        },
        "id": "pgCMezBFkqOl",
        "outputId": "2cf1c9dc-ce55-4c3f-b2ce-761d97d08fcf"
      },
      "execution_count": 72,
      "outputs": [
        {
          "output_type": "stream",
          "name": "stdout",
          "text": [
            "('C', 'E', 'G')\n",
            "('B', 'D', 'G')\n",
            "('A', 'D', 'F')\n",
            "('A', 'C', 'E')\n",
            "('G', 'B', 'E')\n",
            "('F', 'B', 'D')\n",
            "('F', 'A', 'C')\n",
            "---------------\n",
            "('E', 'G', 'C')\n",
            "('D', 'G', 'B')\n",
            "('D', 'F', 'A')\n",
            "('C', 'E', 'A')\n",
            "('B', 'E', 'G')\n",
            "('B', 'D', 'F')\n",
            "('A', 'C', 'F')\n",
            "---------------\n",
            "('G', 'C', 'E')\n",
            "('G', 'B', 'D')\n",
            "('F', 'A', 'D')\n",
            "('E', 'A', 'C')\n",
            "('E', 'G', 'B')\n",
            "('D', 'F', 'B')\n",
            "('C', 'F', 'A')\n",
            "---------------\n",
            "================\n",
            "('C', 'G', 'E')\n",
            "('B', 'G', 'D')\n",
            "('A', 'F', 'D')\n",
            "('A', 'E', 'C')\n",
            "('G', 'E', 'B')\n",
            "('F', 'D', 'B')\n",
            "('F', 'C', 'A')\n",
            "---------------\n",
            "('E', 'C', 'G')\n",
            "('D', 'B', 'G')\n",
            "('D', 'A', 'F')\n",
            "('C', 'A', 'E')\n",
            "('B', 'G', 'E')\n",
            "('B', 'F', 'D')\n",
            "('A', 'F', 'C')\n",
            "---------------\n",
            "('G', 'E', 'C')\n",
            "('G', 'D', 'B')\n",
            "('F', 'D', 'A')\n",
            "('E', 'C', 'A')\n",
            "('E', 'B', 'G')\n",
            "('D', 'B', 'F')\n",
            "('C', 'A', 'F')\n",
            "---------------\n",
            "================\n"
          ]
        }
      ]
    },
    {
      "cell_type": "code",
      "source": [
        "vc = VoicingCycle(c.chords([1,3,5]), (1,5, 3)) # cycle: 1->5->3->1...\n",
        "voicings = [(1,3,5), (1,5,3)] # close voicing, spread voicing\n",
        "vc.gen(vc.Cycle3, voicings) # close voicing, spread voicing"
      ],
      "metadata": {
        "colab": {
          "base_uri": "https://localhost:8080/"
        },
        "id": "R37F-3v3k68e",
        "outputId": "960dda36-f2f4-4aef-924d-c200d24e40f2"
      },
      "execution_count": 74,
      "outputs": [
        {
          "output_type": "stream",
          "name": "stdout",
          "text": [
            "('C', 'E', 'G')\n",
            "('B', 'E', 'G')\n",
            "('B', 'D', 'G')\n",
            "('B', 'D', 'F')\n",
            "('A', 'D', 'F')\n",
            "('A', 'C', 'F')\n",
            "('A', 'C', 'E')\n",
            "---------------\n",
            "('G', 'C', 'E')\n",
            "('G', 'B', 'E')\n",
            "('G', 'B', 'D')\n",
            "('F', 'B', 'D')\n",
            "('F', 'A', 'D')\n",
            "('F', 'A', 'C')\n",
            "('E', 'A', 'C')\n",
            "---------------\n",
            "('E', 'G', 'C')\n",
            "('E', 'G', 'B')\n",
            "('D', 'G', 'B')\n",
            "('D', 'F', 'B')\n",
            "('D', 'F', 'A')\n",
            "('C', 'F', 'A')\n",
            "('C', 'E', 'A')\n",
            "---------------\n",
            "================\n",
            "('C', 'G', 'E')\n",
            "('B', 'G', 'E')\n",
            "('B', 'G', 'D')\n",
            "('B', 'F', 'D')\n",
            "('A', 'F', 'D')\n",
            "('A', 'F', 'C')\n",
            "('A', 'E', 'C')\n",
            "---------------\n",
            "('G', 'E', 'C')\n",
            "('G', 'E', 'B')\n",
            "('G', 'D', 'B')\n",
            "('F', 'D', 'B')\n",
            "('F', 'D', 'A')\n",
            "('F', 'C', 'A')\n",
            "('E', 'C', 'A')\n",
            "---------------\n",
            "('E', 'C', 'G')\n",
            "('E', 'B', 'G')\n",
            "('D', 'B', 'G')\n",
            "('D', 'B', 'F')\n",
            "('D', 'A', 'F')\n",
            "('C', 'A', 'F')\n",
            "('C', 'A', 'E')\n",
            "---------------\n",
            "================\n"
          ]
        }
      ]
    },
    {
      "cell_type": "code",
      "source": [
        "# start with C Melodic Minor Triads\n",
        "c = Diatonic(\"C\", Scale.M_MINOR)"
      ],
      "metadata": {
        "id": "rhPGTCRBmf7F"
      },
      "execution_count": 75,
      "outputs": []
    },
    {
      "cell_type": "code",
      "source": [
        "vc = VoicingCycle(c.chords([1,3,5]), (5,3,1)) # cycle: 5->3->1->5...\n",
        "voicings = [(1,3,5), (1,5,3)] # close voicing, spread voicing\n",
        "vc.gen(vc.Cycle2, voicings ) "
      ],
      "metadata": {
        "colab": {
          "base_uri": "https://localhost:8080/"
        },
        "id": "qVle4EnUlLEm",
        "outputId": "9496a242-a186-44ac-bedd-5a84335f2cf9"
      },
      "execution_count": 76,
      "outputs": [
        {
          "output_type": "stream",
          "name": "stdout",
          "text": [
            "('C', 'Eb', 'G')\n",
            "('A', 'D', 'F')\n",
            "('G', 'B', 'Eb')\n",
            "('F', 'A', 'C')\n",
            "('D', 'G', 'B')\n",
            "('C', 'Eb', 'A')\n",
            "('B', 'D', 'F')\n",
            "---------------\n",
            "('G', 'C', 'Eb')\n",
            "('F', 'A', 'D')\n",
            "('Eb', 'G', 'B')\n",
            "('C', 'F', 'A')\n",
            "('B', 'D', 'G')\n",
            "('A', 'C', 'Eb')\n",
            "('F', 'B', 'D')\n",
            "---------------\n",
            "('Eb', 'G', 'C')\n",
            "('D', 'F', 'A')\n",
            "('B', 'Eb', 'G')\n",
            "('A', 'C', 'F')\n",
            "('G', 'B', 'D')\n",
            "('Eb', 'A', 'C')\n",
            "('D', 'F', 'B')\n",
            "---------------\n",
            "================\n",
            "('C', 'G', 'Eb')\n",
            "('A', 'F', 'D')\n",
            "('G', 'Eb', 'B')\n",
            "('F', 'C', 'A')\n",
            "('D', 'B', 'G')\n",
            "('C', 'A', 'Eb')\n",
            "('B', 'F', 'D')\n",
            "---------------\n",
            "('G', 'Eb', 'C')\n",
            "('F', 'D', 'A')\n",
            "('Eb', 'B', 'G')\n",
            "('C', 'A', 'F')\n",
            "('B', 'G', 'D')\n",
            "('A', 'Eb', 'C')\n",
            "('F', 'D', 'B')\n",
            "---------------\n",
            "('Eb', 'C', 'G')\n",
            "('D', 'A', 'F')\n",
            "('B', 'G', 'Eb')\n",
            "('A', 'F', 'C')\n",
            "('G', 'D', 'B')\n",
            "('Eb', 'C', 'A')\n",
            "('D', 'B', 'F')\n",
            "---------------\n",
            "================\n"
          ]
        }
      ]
    },
    {
      "cell_type": "code",
      "source": [
        "# start with C Harmonic Minor Triads\n",
        "c = Diatonic(\"C\", Scale.H_MINOR)"
      ],
      "metadata": {
        "id": "4dNGGcq6mlTG"
      },
      "execution_count": 112,
      "outputs": []
    },
    {
      "cell_type": "code",
      "source": [
        "vc = VoicingCycle(c.chords([1,3,5]), (5,3,1)) # cycle: 5->3->1->5...\n",
        "voicings = [(1,3,5), (1,5,3)] # close voicing, spread voicing\n",
        "vc.gen(vc.Cycle2, voicings ) "
      ],
      "metadata": {
        "colab": {
          "base_uri": "https://localhost:8080/"
        },
        "id": "_dqWihGEnJOH",
        "outputId": "39fcafca-2603-459c-9e66-67b35ec393e6"
      },
      "execution_count": 77,
      "outputs": [
        {
          "output_type": "stream",
          "name": "stdout",
          "text": [
            "('C', 'Eb', 'G')\n",
            "('A', 'D', 'F')\n",
            "('G', 'B', 'Eb')\n",
            "('F', 'A', 'C')\n",
            "('D', 'G', 'B')\n",
            "('C', 'Eb', 'A')\n",
            "('B', 'D', 'F')\n",
            "---------------\n",
            "('G', 'C', 'Eb')\n",
            "('F', 'A', 'D')\n",
            "('Eb', 'G', 'B')\n",
            "('C', 'F', 'A')\n",
            "('B', 'D', 'G')\n",
            "('A', 'C', 'Eb')\n",
            "('F', 'B', 'D')\n",
            "---------------\n",
            "('Eb', 'G', 'C')\n",
            "('D', 'F', 'A')\n",
            "('B', 'Eb', 'G')\n",
            "('A', 'C', 'F')\n",
            "('G', 'B', 'D')\n",
            "('Eb', 'A', 'C')\n",
            "('D', 'F', 'B')\n",
            "---------------\n",
            "================\n",
            "('C', 'G', 'Eb')\n",
            "('A', 'F', 'D')\n",
            "('G', 'Eb', 'B')\n",
            "('F', 'C', 'A')\n",
            "('D', 'B', 'G')\n",
            "('C', 'A', 'Eb')\n",
            "('B', 'F', 'D')\n",
            "---------------\n",
            "('G', 'Eb', 'C')\n",
            "('F', 'D', 'A')\n",
            "('Eb', 'B', 'G')\n",
            "('C', 'A', 'F')\n",
            "('B', 'G', 'D')\n",
            "('A', 'Eb', 'C')\n",
            "('F', 'D', 'B')\n",
            "---------------\n",
            "('Eb', 'C', 'G')\n",
            "('D', 'A', 'F')\n",
            "('B', 'G', 'Eb')\n",
            "('A', 'F', 'C')\n",
            "('G', 'D', 'B')\n",
            "('Eb', 'C', 'A')\n",
            "('D', 'B', 'F')\n",
            "---------------\n",
            "================\n"
          ]
        }
      ]
    },
    {
      "cell_type": "code",
      "source": [
        "# start with C Major 7sth Chords\n",
        "c = Diatonic(\"C\", Scale.MAJOR)"
      ],
      "metadata": {
        "id": "tmsA-JnrnKQP"
      },
      "execution_count": 79,
      "outputs": []
    },
    {
      "cell_type": "code",
      "source": [
        "vc = VoicingCycle(c.chords([1,3,5,7]), (5,3,1,7)) # cycle: 5->3->1->7->5...\n",
        "voicings = [(1,3,5,7)] # close voicing\n",
        "vc.gen(vc.Cycle2, voicings ) "
      ],
      "metadata": {
        "colab": {
          "base_uri": "https://localhost:8080/"
        },
        "id": "TtVMwL03omGQ",
        "outputId": "39884442-5d44-43df-c3b8-077d5992d361"
      },
      "execution_count": 80,
      "outputs": [
        {
          "output_type": "stream",
          "name": "stdout",
          "text": [
            "('C', 'E', 'G', 'B')\n",
            "('C', 'D', 'F', 'A')\n",
            "('B', 'D', 'E', 'G')\n",
            "('A', 'C', 'E', 'F')\n",
            "('G', 'B', 'D', 'F')\n",
            "('G', 'A', 'C', 'E')\n",
            "('F', 'A', 'B', 'D')\n",
            "---------------\n",
            "('E', 'G', 'B', 'C')\n",
            "('D', 'F', 'A', 'C')\n",
            "('D', 'E', 'G', 'B')\n",
            "('C', 'E', 'F', 'A')\n",
            "('B', 'D', 'F', 'G')\n",
            "('A', 'C', 'E', 'G')\n",
            "('A', 'B', 'D', 'F')\n",
            "---------------\n",
            "('G', 'B', 'C', 'E')\n",
            "('F', 'A', 'C', 'D')\n",
            "('E', 'G', 'B', 'D')\n",
            "('E', 'F', 'A', 'C')\n",
            "('D', 'F', 'G', 'B')\n",
            "('C', 'E', 'G', 'A')\n",
            "('B', 'D', 'F', 'A')\n",
            "---------------\n",
            "('B', 'C', 'E', 'G')\n",
            "('A', 'C', 'D', 'F')\n",
            "('G', 'B', 'D', 'E')\n",
            "('F', 'A', 'C', 'E')\n",
            "('F', 'G', 'B', 'D')\n",
            "('E', 'G', 'A', 'C')\n",
            "('D', 'F', 'A', 'B')\n",
            "---------------\n",
            "================\n"
          ]
        }
      ]
    },
    {
      "cell_type": "code",
      "source": [
        "voicings = [(1,5,7,3)] # drop-2 voicing\n",
        "vc.gen(vc.Cycle2, voicings ) "
      ],
      "metadata": {
        "colab": {
          "base_uri": "https://localhost:8080/"
        },
        "id": "akB8xary8Fao",
        "outputId": "854cc12c-d2ac-4894-9d45-5ab95db3cbb5"
      },
      "execution_count": 81,
      "outputs": [
        {
          "output_type": "stream",
          "name": "stdout",
          "text": [
            "('C', 'G', 'B', 'E')\n",
            "('C', 'F', 'A', 'D')\n",
            "('B', 'E', 'G', 'D')\n",
            "('A', 'E', 'F', 'C')\n",
            "('G', 'D', 'F', 'B')\n",
            "('G', 'C', 'E', 'A')\n",
            "('F', 'B', 'D', 'A')\n",
            "---------------\n",
            "('E', 'B', 'C', 'G')\n",
            "('D', 'A', 'C', 'F')\n",
            "('D', 'G', 'B', 'E')\n",
            "('C', 'F', 'A', 'E')\n",
            "('B', 'F', 'G', 'D')\n",
            "('A', 'E', 'G', 'C')\n",
            "('A', 'D', 'F', 'B')\n",
            "---------------\n",
            "('G', 'C', 'E', 'B')\n",
            "('F', 'C', 'D', 'A')\n",
            "('E', 'B', 'D', 'G')\n",
            "('E', 'A', 'C', 'F')\n",
            "('D', 'G', 'B', 'F')\n",
            "('C', 'G', 'A', 'E')\n",
            "('B', 'F', 'A', 'D')\n",
            "---------------\n",
            "('B', 'E', 'G', 'C')\n",
            "('A', 'D', 'F', 'C')\n",
            "('G', 'D', 'E', 'B')\n",
            "('F', 'C', 'E', 'A')\n",
            "('F', 'B', 'D', 'G')\n",
            "('E', 'A', 'C', 'G')\n",
            "('D', 'A', 'B', 'F')\n",
            "---------------\n",
            "================\n"
          ]
        }
      ]
    },
    {
      "cell_type": "code",
      "source": [
        "voicings = [(1,7,3,5)] # drop 3 voicing\n",
        "vc.gen(vc.Cycle2, voicings ) "
      ],
      "metadata": {
        "colab": {
          "base_uri": "https://localhost:8080/"
        },
        "id": "-z6dUk_89ADg",
        "outputId": "700ee001-2d12-41c1-b2af-b25da5b5c963"
      },
      "execution_count": 82,
      "outputs": [
        {
          "output_type": "stream",
          "name": "stdout",
          "text": [
            "('C', 'B', 'E', 'G')\n",
            "('C', 'A', 'D', 'F')\n",
            "('B', 'G', 'D', 'E')\n",
            "('A', 'F', 'C', 'E')\n",
            "('G', 'F', 'B', 'D')\n",
            "('G', 'E', 'A', 'C')\n",
            "('F', 'D', 'A', 'B')\n",
            "---------------\n",
            "('E', 'C', 'G', 'B')\n",
            "('D', 'C', 'F', 'A')\n",
            "('D', 'B', 'E', 'G')\n",
            "('C', 'A', 'E', 'F')\n",
            "('B', 'G', 'D', 'F')\n",
            "('A', 'G', 'C', 'E')\n",
            "('A', 'F', 'B', 'D')\n",
            "---------------\n",
            "('G', 'E', 'B', 'C')\n",
            "('F', 'D', 'A', 'C')\n",
            "('E', 'D', 'G', 'B')\n",
            "('E', 'C', 'F', 'A')\n",
            "('D', 'B', 'F', 'G')\n",
            "('C', 'A', 'E', 'G')\n",
            "('B', 'A', 'D', 'F')\n",
            "---------------\n",
            "('B', 'G', 'C', 'E')\n",
            "('A', 'F', 'C', 'D')\n",
            "('G', 'E', 'B', 'D')\n",
            "('F', 'E', 'A', 'C')\n",
            "('F', 'D', 'G', 'B')\n",
            "('E', 'C', 'G', 'A')\n",
            "('D', 'B', 'F', 'A')\n",
            "---------------\n",
            "================\n"
          ]
        }
      ]
    },
    {
      "cell_type": "code",
      "source": [
        "voicings = [(1,3,7,5)] # drop 2 & 3 voicing\n",
        "vc.gen(vc.Cycle2, voicings ) "
      ],
      "metadata": {
        "colab": {
          "base_uri": "https://localhost:8080/"
        },
        "id": "RHcz7KAV9Uth",
        "outputId": "4a7a2da7-4438-439f-bd16-0bf5ca9e30fe"
      },
      "execution_count": 83,
      "outputs": [
        {
          "output_type": "stream",
          "name": "stdout",
          "text": [
            "('C', 'E', 'B', 'G')\n",
            "('C', 'D', 'A', 'F')\n",
            "('B', 'D', 'G', 'E')\n",
            "('A', 'C', 'F', 'E')\n",
            "('G', 'B', 'F', 'D')\n",
            "('G', 'A', 'E', 'C')\n",
            "('F', 'A', 'D', 'B')\n",
            "---------------\n",
            "('E', 'G', 'C', 'B')\n",
            "('D', 'F', 'C', 'A')\n",
            "('D', 'E', 'B', 'G')\n",
            "('C', 'E', 'A', 'F')\n",
            "('B', 'D', 'G', 'F')\n",
            "('A', 'C', 'G', 'E')\n",
            "('A', 'B', 'F', 'D')\n",
            "---------------\n",
            "('G', 'B', 'E', 'C')\n",
            "('F', 'A', 'D', 'C')\n",
            "('E', 'G', 'D', 'B')\n",
            "('E', 'F', 'C', 'A')\n",
            "('D', 'F', 'B', 'G')\n",
            "('C', 'E', 'A', 'G')\n",
            "('B', 'D', 'A', 'F')\n",
            "---------------\n",
            "('B', 'C', 'G', 'E')\n",
            "('A', 'C', 'F', 'D')\n",
            "('G', 'B', 'E', 'D')\n",
            "('F', 'A', 'E', 'C')\n",
            "('F', 'G', 'D', 'B')\n",
            "('E', 'G', 'C', 'A')\n",
            "('D', 'F', 'B', 'A')\n",
            "---------------\n",
            "================\n"
          ]
        }
      ]
    },
    {
      "cell_type": "code",
      "source": [
        "voicings = [(1,5,3,7)] # drop 2 & 4 voicing\n",
        "vc.gen(vc.Cycle2, voicings ) "
      ],
      "metadata": {
        "colab": {
          "base_uri": "https://localhost:8080/"
        },
        "id": "DyGaq43y90UR",
        "outputId": "b3f9c280-7358-4359-b447-b4f26a6815f9"
      },
      "execution_count": 84,
      "outputs": [
        {
          "output_type": "stream",
          "name": "stdout",
          "text": [
            "('C', 'G', 'E', 'B')\n",
            "('C', 'F', 'D', 'A')\n",
            "('B', 'E', 'D', 'G')\n",
            "('A', 'E', 'C', 'F')\n",
            "('G', 'D', 'B', 'F')\n",
            "('G', 'C', 'A', 'E')\n",
            "('F', 'B', 'A', 'D')\n",
            "---------------\n",
            "('E', 'B', 'G', 'C')\n",
            "('D', 'A', 'F', 'C')\n",
            "('D', 'G', 'E', 'B')\n",
            "('C', 'F', 'E', 'A')\n",
            "('B', 'F', 'D', 'G')\n",
            "('A', 'E', 'C', 'G')\n",
            "('A', 'D', 'B', 'F')\n",
            "---------------\n",
            "('G', 'C', 'B', 'E')\n",
            "('F', 'C', 'A', 'D')\n",
            "('E', 'B', 'G', 'D')\n",
            "('E', 'A', 'F', 'C')\n",
            "('D', 'G', 'F', 'B')\n",
            "('C', 'G', 'E', 'A')\n",
            "('B', 'F', 'D', 'A')\n",
            "---------------\n",
            "('B', 'E', 'C', 'G')\n",
            "('A', 'D', 'C', 'F')\n",
            "('G', 'D', 'B', 'E')\n",
            "('F', 'C', 'A', 'E')\n",
            "('F', 'B', 'G', 'D')\n",
            "('E', 'A', 'G', 'C')\n",
            "('D', 'A', 'F', 'B')\n",
            "---------------\n",
            "================\n"
          ]
        }
      ]
    },
    {
      "cell_type": "code",
      "source": [
        "voicings = [(1,7,5,3)] # double drop 2 & 3 voicing\n",
        "vc.gen(vc.Cycle2, voicings ) "
      ],
      "metadata": {
        "colab": {
          "base_uri": "https://localhost:8080/"
        },
        "id": "s0-Q_WUz-YeQ",
        "outputId": "c4621709-5049-4e0a-afe0-f588d10c3aa4"
      },
      "execution_count": 85,
      "outputs": [
        {
          "output_type": "stream",
          "name": "stdout",
          "text": [
            "('C', 'B', 'G', 'E')\n",
            "('C', 'A', 'F', 'D')\n",
            "('B', 'G', 'E', 'D')\n",
            "('A', 'F', 'E', 'C')\n",
            "('G', 'F', 'D', 'B')\n",
            "('G', 'E', 'C', 'A')\n",
            "('F', 'D', 'B', 'A')\n",
            "---------------\n",
            "('E', 'C', 'B', 'G')\n",
            "('D', 'C', 'A', 'F')\n",
            "('D', 'B', 'G', 'E')\n",
            "('C', 'A', 'F', 'E')\n",
            "('B', 'G', 'F', 'D')\n",
            "('A', 'G', 'E', 'C')\n",
            "('A', 'F', 'D', 'B')\n",
            "---------------\n",
            "('G', 'E', 'C', 'B')\n",
            "('F', 'D', 'C', 'A')\n",
            "('E', 'D', 'B', 'G')\n",
            "('E', 'C', 'A', 'F')\n",
            "('D', 'B', 'G', 'F')\n",
            "('C', 'A', 'G', 'E')\n",
            "('B', 'A', 'F', 'D')\n",
            "---------------\n",
            "('B', 'G', 'E', 'C')\n",
            "('A', 'F', 'D', 'C')\n",
            "('G', 'E', 'D', 'B')\n",
            "('F', 'E', 'C', 'A')\n",
            "('F', 'D', 'B', 'G')\n",
            "('E', 'C', 'A', 'G')\n",
            "('D', 'B', 'A', 'F')\n",
            "---------------\n",
            "================\n"
          ]
        }
      ]
    },
    {
      "cell_type": "code",
      "source": [
        "vc = VoicingCycle(c.chords([1,3,5,7]), (5,2,1,7)) # cycle: 5->2->1->7->5...\n",
        "voicings = [(1,2,5,7)] # close voicing\n",
        "vc.gen(vc.Cycle2, voicings ) "
      ],
      "metadata": {
        "colab": {
          "base_uri": "https://localhost:8080/"
        },
        "id": "7NTQCYBo3d4q",
        "outputId": "ddb237ec-4bfe-46b0-811f-e99496c49b1e"
      },
      "execution_count": 87,
      "outputs": [
        {
          "output_type": "stream",
          "name": "stdout",
          "text": [
            "('C', 'E', 'G', 'B')\n",
            "('C', 'D', 'F', 'A')\n",
            "('B', 'D', 'E', 'G')\n",
            "('A', 'C', 'E', 'F')\n",
            "('G', 'B', 'D', 'F')\n",
            "('G', 'A', 'C', 'E')\n",
            "('F', 'A', 'B', 'D')\n",
            "---------------\n",
            "('E', 'G', 'B', 'C')\n",
            "('D', 'F', 'A', 'C')\n",
            "('D', 'E', 'G', 'B')\n",
            "('C', 'E', 'F', 'A')\n",
            "('B', 'D', 'F', 'G')\n",
            "('A', 'C', 'E', 'G')\n",
            "('A', 'B', 'D', 'F')\n",
            "---------------\n",
            "('G', 'B', 'C', 'E')\n",
            "('F', 'A', 'C', 'D')\n",
            "('E', 'G', 'B', 'D')\n",
            "('E', 'F', 'A', 'C')\n",
            "('D', 'F', 'G', 'B')\n",
            "('C', 'E', 'G', 'A')\n",
            "('B', 'D', 'F', 'A')\n",
            "---------------\n",
            "('B', 'C', 'E', 'G')\n",
            "('A', 'C', 'D', 'F')\n",
            "('G', 'B', 'D', 'E')\n",
            "('F', 'A', 'C', 'E')\n",
            "('F', 'G', 'B', 'D')\n",
            "('E', 'G', 'A', 'C')\n",
            "('D', 'F', 'A', 'B')\n",
            "---------------\n",
            "================\n"
          ]
        }
      ]
    },
    {
      "cell_type": "markdown",
      "source": [
        "Create an inline user-interface for generating any combination in the book (in all keys and cycles)"
      ],
      "metadata": {
        "id": "cRrign6iB5An"
      }
    },
    {
      "cell_type": "code",
      "source": [
        "from tables import description\n",
        "from google.colab import widgets\n",
        "import ipywidgets\n",
        "from IPython.display import display, clear_output\n",
        "\n",
        "bw = ipywidgets.widgets.Button(description=\"Generate\", colors=['Green'])\n",
        "# create output widget\n",
        "output = ipywidgets.widgets.Output()\n",
        "\n",
        "def on_button_clicked(b):\n",
        "  with output:\n",
        "    clear_output()  \n",
        "    scale = {'Major': Scale.MAJOR, 'Mel. Minor': Scale.M_MINOR,'Har. Minor': Scale.H_MINOR }\n",
        "\n",
        "    dd = Diatonic(kw.value, scale[sw.value])\n",
        "    if cw.value == '[1,3,5,7]':\n",
        "      vc = VoicingCycle(dd.chords([1,3,5,7]), (5,3,1,7)) # cycle: 5->3->1->5...\n",
        "      voicings = [(1,3,5,7)] # close voicing\n",
        "    elif cw.value == '[1,2,5,7]':\n",
        "      vc = VoicingCycle(dd.chords([1,2,5,7]), (5,3,1,7)) # cycle: 5->3->1->5...\n",
        "      voicings = [(1,3,5,7)] # close voicing\n",
        "    elif cw.value == '[1,4,5,7]':\n",
        "      vc = VoicingCycle(dd.chords([1,4,5,7]), (5,3,1,7)) # cycle: 5->3->1->5...\n",
        "      voicings = [(1,3,5,7)] # close voicing\n",
        "    else:\n",
        "      vc = VoicingCycle(dd.chords([1,3,5]), (5,3,1)) # cycle: 5->3->1->5...\n",
        "      voicings = [(1,3,5), (1,5,3)] # close voicing, spread voicing\n",
        "    \n",
        "    cycle = {'Cycle2':vc.Cycle2, 'Cycle3':vc.Cycle3, 'Cycle4':vc.Cycle4, 'Cycle5':vc.Cycle5, 'Cycle6':vc.Cycle6, 'Cycle7':vc.Cycle7}\n",
        "    vc.gen(cycle[lw.value], voicings ) \n",
        "  display(output)\n",
        "\n",
        "bw.on_click(on_button_clicked)\n",
        "bw.style.button_color = 'lightgreen'\n",
        "\n",
        "kw = ipywidgets.widgets.Dropdown(\n",
        "    options=Diatonic._notes_flat,\n",
        "    value='C',\n",
        "    size=10,\n",
        "    description='Key:'\n",
        ")\n",
        "\n",
        "sw = ipywidgets.widgets.Dropdown(\n",
        "    options=['Major', 'Mel. Minor', 'Har. Minor'],\n",
        "    value='Major',\n",
        "    description='Scale:'\n",
        ")\n",
        "\n",
        "cw = ipywidgets.widgets.Dropdown(\n",
        "    options=['[1,3,5]', '[1,3,5,7]', '[1,2,5,7]', '[1,4,5,7]'],\n",
        "    value='[1,3,5]',\n",
        "    description='Chord:'\n",
        ")\n",
        "\n",
        "lw = ipywidgets.widgets.Dropdown(\n",
        "    options =  ['Cycle2', 'Cycle3', 'Cycle4', 'Cycle5', 'Cycle6', 'Cycle7'],\n",
        "    value='Cycle2',\n",
        "    description='Cycle:'\n",
        ")\n",
        "\n",
        "ipywidgets.widgets.HBox([bw, kw, sw, cw, lw])\n"
      ],
      "metadata": {
        "colab": {
          "base_uri": "https://localhost:8080/",
          "height": 1000,
          "referenced_widgets": [
            "e9198f4a67f149a5bb7fce5a1d268b93",
            "c8c9b78c3dbd4f2dadb9bea4f9100a54",
            "106f70014e1d4d24b570f89ec17303e3",
            "65b44bcb90f344b7840b63bef748bb98",
            "c80a1a167e284c3a8e082245fd258111",
            "1b0ae499449546a2ab12ad5d026d1969",
            "500c23c056f6458085de2a3779814c64",
            "76bed1f1beff4c3daa5b6c29efea1713",
            "9eb7a4c4aae248d597d96e0b8d86f619",
            "9dd1049d35f447aa894ea28904e126a6",
            "73ad227d1b32482d95d315971d45eb2a",
            "0f14d24558ad4c9aac5729da66dd8810",
            "f6a3330986fc4fcfa4462ba4b9d6efb3",
            "c746cdf113b44490989ba9f5c1d005b3",
            "dd0a09af64d949aeb01d9058970cf78a",
            "412b5ff7c23a48cab1eb8529aa2b1d4e",
            "60c104ed068c4506813fa342a0882037",
            "ff56240db0bf43988c8a280ccbbd451b",
            "63363802671b42518a3930722ef4ed65"
          ]
        },
        "id": "HZ1x_Q_6-zsg",
        "outputId": "432495dc-5241-4c18-9910-f70751296acf"
      },
      "execution_count": 88,
      "outputs": [
        {
          "output_type": "display_data",
          "data": {
            "text/plain": [
              "HBox(children=(Button(description='Generate', style=ButtonStyle(button_color='lightgreen')), Dropdown(descript…"
            ],
            "application/vnd.jupyter.widget-view+json": {
              "version_major": 2,
              "version_minor": 0,
              "model_id": "e9198f4a67f149a5bb7fce5a1d268b93"
            }
          },
          "metadata": {}
        },
        {
          "output_type": "display_data",
          "data": {
            "text/plain": [
              "Output()"
            ],
            "application/vnd.jupyter.widget-view+json": {
              "version_major": 2,
              "version_minor": 0,
              "model_id": "ff56240db0bf43988c8a280ccbbd451b"
            }
          },
          "metadata": {}
        },
        {
          "output_type": "display_data",
          "data": {
            "text/plain": [
              "Output()"
            ],
            "application/vnd.jupyter.widget-view+json": {
              "version_major": 2,
              "version_minor": 0,
              "model_id": "ff56240db0bf43988c8a280ccbbd451b"
            }
          },
          "metadata": {}
        },
        {
          "output_type": "display_data",
          "data": {
            "text/plain": [
              "Output()"
            ],
            "application/vnd.jupyter.widget-view+json": {
              "version_major": 2,
              "version_minor": 0,
              "model_id": "ff56240db0bf43988c8a280ccbbd451b"
            }
          },
          "metadata": {}
        },
        {
          "output_type": "display_data",
          "data": {
            "text/plain": [
              "Output()"
            ],
            "application/vnd.jupyter.widget-view+json": {
              "version_major": 2,
              "version_minor": 0,
              "model_id": "ff56240db0bf43988c8a280ccbbd451b"
            }
          },
          "metadata": {}
        }
      ]
    },
    {
      "cell_type": "code",
      "source": [],
      "metadata": {
        "id": "oyh2cioE-REU"
      },
      "execution_count": null,
      "outputs": []
    }
  ]
}