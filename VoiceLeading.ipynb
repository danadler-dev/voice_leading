{
  "nbformat": 4,
  "nbformat_minor": 0,
  "metadata": {
    "colab": {
      "provenance": [],
      "authorship_tag": "ABX9TyNZ5KBDMQabVV7PLYCnRNz+",
      "include_colab_link": true
    },
    "kernelspec": {
      "name": "python3",
      "display_name": "Python 3"
    },
    "language_info": {
      "name": "python"
    }
  },
  "cells": [
    {
      "cell_type": "markdown",
      "metadata": {
        "id": "view-in-github",
        "colab_type": "text"
      },
      "source": [
        "<a href=\"https://colab.research.google.com/github/danadler-dev/voice_leading/blob/main/VoiceLeading.ipynb\" target=\"_parent\"><img src=\"https://colab.research.google.com/assets/colab-badge.svg\" alt=\"Open In Colab\"/></a>"
      ]
    },
    {
      "cell_type": "code",
      "source": [
        "A=\"A\"; B=\"B\"; C=\"C\"; D=\"D\"; E=\"E\"; F=\"F\"; G=\"G\"\n",
        "scale = [C, D, E, F, G, A, B]\n",
        "next = lambda x, n=1: scale[(scale.index(x)+n) % len(scale)]\n",
        "chords = [(next(c, 0), next(c, 2), next(c, 4)) for c in scale]\n",
        "chord_tone = {1:0, 3:1, 5:2}"
      ],
      "metadata": {
        "id": "JTgbRzf4zcfW"
      },
      "execution_count": 1,
      "outputs": []
    },
    {
      "cell_type": "code",
      "source": [
        "chords"
      ],
      "metadata": {
        "colab": {
          "base_uri": "https://localhost:8080/"
        },
        "id": "KB9ryEgXEQ9K",
        "outputId": "9ab4700a-4d57-40cc-f199-a9ec87278734"
      },
      "execution_count": 2,
      "outputs": [
        {
          "output_type": "execute_result",
          "data": {
            "text/plain": [
              "[('C', 'E', 'G'),\n",
              " ('D', 'F', 'A'),\n",
              " ('E', 'G', 'B'),\n",
              " ('F', 'A', 'C'),\n",
              " ('G', 'B', 'D'),\n",
              " ('A', 'C', 'E'),\n",
              " ('B', 'D', 'F')]"
            ]
          },
          "metadata": {},
          "execution_count": 2
        }
      ]
    },
    {
      "cell_type": "code",
      "source": [
        "pc = (5,3,1) # cycle: 5->3->1->5...\n",
        "def perm(*args):\n",
        "  return tuple([pc[(pc.index(a)+1) % len(pc)] for a in args[0]])\n"
      ],
      "metadata": {
        "id": "v8wqjiVQVpC6"
      },
      "execution_count": 3,
      "outputs": []
    },
    {
      "cell_type": "code",
      "source": [
        "start = (1,3,5)\n",
        "assert perm(perm(perm(start))) == start"
      ],
      "metadata": {
        "id": "lADT1JRYXxTY"
      },
      "execution_count": 4,
      "outputs": []
    },
    {
      "cell_type": "code",
      "source": [
        "# invert a chord like (C,E, G) by a permutation like (3,1,5)\n",
        "def invert(chord, prm):\n",
        "  loc = tuple([chord_tone[t] for t in prm]) \n",
        "  return tuple([chord[loc[i]] for i in range(len(prm))])\n"
      ],
      "metadata": {
        "id": "KXKnN7oaX1gg"
      },
      "execution_count": 5,
      "outputs": []
    },
    {
      "cell_type": "code",
      "source": [
        "assert invert((C,E,G), (3,5,1)) == ('E', 'G', 'C')"
      ],
      "metadata": {
        "id": "OPBKW-PJsxqp"
      },
      "execution_count": 6,
      "outputs": []
    },
    {
      "cell_type": "code",
      "source": [
        "# The 6 cycles as defined in the intro\n",
        "Cycle2 = []; Cycle3 = []; Cycle4 = []; Cycle5 = []; Cycle6 = []; Cycle7 = []\n",
        "Cycles = [Cycle2, Cycle3, Cycle4, Cycle5, Cycle6, Cycle7 ]\n",
        "for i in range(6): # 6 cycles\n",
        "  j=0\n",
        "  for k in range(len(chords)):\n",
        "    Cycles[i].append(chords[j])\n",
        "    j = (j + i + 1) % len(chords)"
      ],
      "metadata": {
        "id": "454VBbSFQKpq"
      },
      "execution_count": 7,
      "outputs": []
    },
    {
      "cell_type": "code",
      "source": [
        "pc = (5,3,1) # cycle: 5->3->1->5...\n",
        "start = [(1,3,5), (1,5,3)] # close voicing, spread voicing\n",
        "for p in start:\n",
        "  for i in range(3):\n",
        "    for c in Cycle2:\n",
        "      print(invert(c, p))\n",
        "      p = perm(p)\n",
        "    print('---------------')\n",
        "  print('================')"
      ],
      "metadata": {
        "colab": {
          "base_uri": "https://localhost:8080/"
        },
        "id": "4-pNtKHvuE0n",
        "outputId": "7b78e06d-f9ee-4aa9-ca67-2e7962ba2d9f"
      },
      "execution_count": 8,
      "outputs": [
        {
          "output_type": "stream",
          "name": "stdout",
          "text": [
            "('C', 'E', 'G')\n",
            "('A', 'D', 'F')\n",
            "('G', 'B', 'E')\n",
            "('F', 'A', 'C')\n",
            "('D', 'G', 'B')\n",
            "('C', 'E', 'A')\n",
            "('B', 'D', 'F')\n",
            "---------------\n",
            "('G', 'C', 'E')\n",
            "('F', 'A', 'D')\n",
            "('E', 'G', 'B')\n",
            "('C', 'F', 'A')\n",
            "('B', 'D', 'G')\n",
            "('A', 'C', 'E')\n",
            "('F', 'B', 'D')\n",
            "---------------\n",
            "('E', 'G', 'C')\n",
            "('D', 'F', 'A')\n",
            "('B', 'E', 'G')\n",
            "('A', 'C', 'F')\n",
            "('G', 'B', 'D')\n",
            "('E', 'A', 'C')\n",
            "('D', 'F', 'B')\n",
            "---------------\n",
            "================\n",
            "('C', 'G', 'E')\n",
            "('A', 'F', 'D')\n",
            "('G', 'E', 'B')\n",
            "('F', 'C', 'A')\n",
            "('D', 'B', 'G')\n",
            "('C', 'A', 'E')\n",
            "('B', 'F', 'D')\n",
            "---------------\n",
            "('G', 'E', 'C')\n",
            "('F', 'D', 'A')\n",
            "('E', 'B', 'G')\n",
            "('C', 'A', 'F')\n",
            "('B', 'G', 'D')\n",
            "('A', 'E', 'C')\n",
            "('F', 'D', 'B')\n",
            "---------------\n",
            "('E', 'C', 'G')\n",
            "('D', 'A', 'F')\n",
            "('B', 'G', 'E')\n",
            "('A', 'F', 'C')\n",
            "('G', 'D', 'B')\n",
            "('E', 'C', 'A')\n",
            "('D', 'B', 'F')\n",
            "---------------\n",
            "================\n"
          ]
        }
      ]
    },
    {
      "cell_type": "code",
      "source": [
        "pc = (5,3,1) # cycle: 5->3->1->5...\n",
        "start = [(1,3,5), (1,5,3)] # close voicing, spread voicing\n",
        "for p in start:\n",
        "  for i in range(3):\n",
        "    for c in Cycle4:\n",
        "      print(invert(c, p))\n",
        "      p = perm(p)\n",
        "    print('---------------')\n",
        "  print('================')"
      ],
      "metadata": {
        "colab": {
          "base_uri": "https://localhost:8080/"
        },
        "id": "i43dY77VKVEi",
        "outputId": "c337f6b9-70c4-47ea-8339-3af1578b4c5b"
      },
      "execution_count": 9,
      "outputs": [
        {
          "output_type": "stream",
          "name": "stdout",
          "text": [
            "('C', 'E', 'G')\n",
            "('C', 'F', 'A')\n",
            "('D', 'F', 'B')\n",
            "('E', 'G', 'B')\n",
            "('E', 'A', 'C')\n",
            "('F', 'A', 'D')\n",
            "('G', 'B', 'D')\n",
            "---------------\n",
            "('G', 'C', 'E')\n",
            "('A', 'C', 'F')\n",
            "('B', 'D', 'F')\n",
            "('B', 'E', 'G')\n",
            "('C', 'E', 'A')\n",
            "('D', 'F', 'A')\n",
            "('D', 'G', 'B')\n",
            "---------------\n",
            "('E', 'G', 'C')\n",
            "('F', 'A', 'C')\n",
            "('F', 'B', 'D')\n",
            "('G', 'B', 'E')\n",
            "('A', 'C', 'E')\n",
            "('A', 'D', 'F')\n",
            "('B', 'D', 'G')\n",
            "---------------\n",
            "================\n",
            "('C', 'G', 'E')\n",
            "('C', 'A', 'F')\n",
            "('D', 'B', 'F')\n",
            "('E', 'B', 'G')\n",
            "('E', 'C', 'A')\n",
            "('F', 'D', 'A')\n",
            "('G', 'D', 'B')\n",
            "---------------\n",
            "('G', 'E', 'C')\n",
            "('A', 'F', 'C')\n",
            "('B', 'F', 'D')\n",
            "('B', 'G', 'E')\n",
            "('C', 'A', 'E')\n",
            "('D', 'A', 'F')\n",
            "('D', 'B', 'G')\n",
            "---------------\n",
            "('E', 'C', 'G')\n",
            "('F', 'C', 'A')\n",
            "('F', 'D', 'B')\n",
            "('G', 'E', 'B')\n",
            "('A', 'E', 'C')\n",
            "('A', 'F', 'D')\n",
            "('B', 'G', 'D')\n",
            "---------------\n",
            "================\n"
          ]
        }
      ]
    },
    {
      "cell_type": "code",
      "source": [
        "pc = (5,1,3) # cycle: 5->3->1->5...\n",
        "start = [(1,3,5), (1,5,3)] # close voicing, spread voicing\n",
        "for p in start:\n",
        "  for i in range(3):\n",
        "    for c in Cycle6:\n",
        "      print(invert(c, p))\n",
        "      p = perm(p)\n",
        "    print('---------------')\n",
        "  print('================')"
      ],
      "metadata": {
        "colab": {
          "base_uri": "https://localhost:8080/"
        },
        "id": "bUeIDG_7LKJp",
        "outputId": "17a0f7ea-1f11-4fcd-8cd9-a49567b6e757"
      },
      "execution_count": 10,
      "outputs": [
        {
          "output_type": "stream",
          "name": "stdout",
          "text": [
            "('C', 'E', 'G')\n",
            "('C', 'E', 'A')\n",
            "('C', 'F', 'A')\n",
            "('D', 'F', 'A')\n",
            "('D', 'F', 'B')\n",
            "('D', 'G', 'B')\n",
            "('E', 'G', 'B')\n",
            "---------------\n",
            "('E', 'G', 'C')\n",
            "('E', 'A', 'C')\n",
            "('F', 'A', 'C')\n",
            "('F', 'A', 'D')\n",
            "('F', 'B', 'D')\n",
            "('G', 'B', 'D')\n",
            "('G', 'B', 'E')\n",
            "---------------\n",
            "('G', 'C', 'E')\n",
            "('A', 'C', 'E')\n",
            "('A', 'C', 'F')\n",
            "('A', 'D', 'F')\n",
            "('B', 'D', 'F')\n",
            "('B', 'D', 'G')\n",
            "('B', 'E', 'G')\n",
            "---------------\n",
            "================\n",
            "('C', 'G', 'E')\n",
            "('C', 'A', 'E')\n",
            "('C', 'A', 'F')\n",
            "('D', 'A', 'F')\n",
            "('D', 'B', 'F')\n",
            "('D', 'B', 'G')\n",
            "('E', 'B', 'G')\n",
            "---------------\n",
            "('E', 'C', 'G')\n",
            "('E', 'C', 'A')\n",
            "('F', 'C', 'A')\n",
            "('F', 'D', 'A')\n",
            "('F', 'D', 'B')\n",
            "('G', 'D', 'B')\n",
            "('G', 'E', 'B')\n",
            "---------------\n",
            "('G', 'E', 'C')\n",
            "('A', 'E', 'C')\n",
            "('A', 'F', 'C')\n",
            "('A', 'F', 'D')\n",
            "('B', 'F', 'D')\n",
            "('B', 'G', 'D')\n",
            "('B', 'G', 'E')\n",
            "---------------\n",
            "================\n"
          ]
        }
      ]
    },
    {
      "cell_type": "code",
      "source": [
        "Cycle2 = []; Cycle3 = []; Cycle4 = []; Cycle5 = []; Cycle6 = []; Cycle7 = []\n",
        "Cycles = [Cycle2, Cycle3, Cycle4, Cycle5, Cycle6, Cycle7 ]\n",
        "for i in range(6): # 6 cycles\n",
        "  j=0\n",
        "  for k in range(len(chords)):\n",
        "    Cycles[i].append(chords[j])\n",
        "    j = (j + i + 1) % len(chords)\n"
      ],
      "metadata": {
        "id": "SaOQJc-hNOFq"
      },
      "execution_count": 11,
      "outputs": []
    },
    {
      "cell_type": "code",
      "source": [
        "Cycle5"
      ],
      "metadata": {
        "colab": {
          "base_uri": "https://localhost:8080/"
        },
        "id": "1b1ag0FXN-Y6",
        "outputId": "1ccda97b-0e18-4298-986b-8d284286cf5a"
      },
      "execution_count": 12,
      "outputs": [
        {
          "output_type": "execute_result",
          "data": {
            "text/plain": [
              "[('C', 'E', 'G'),\n",
              " ('G', 'B', 'D'),\n",
              " ('D', 'F', 'A'),\n",
              " ('A', 'C', 'E'),\n",
              " ('E', 'G', 'B'),\n",
              " ('B', 'D', 'F'),\n",
              " ('F', 'A', 'C')]"
            ]
          },
          "metadata": {},
          "execution_count": 12
        }
      ]
    },
    {
      "cell_type": "code",
      "source": [
        "A=\"A\"; B=\"Bb\"; C=\"C\"; D=\"D\"; E=\"Eb\"; F=\"F\"; G=\"G\"\n",
        "scale = [C, D, E, F, G, A, B]\n",
        "next = lambda x, n=1: scale[(scale.index(x)+n) % len(scale)]\n",
        "chords = [(next(c, 0), next(c, 2), next(c, 4)) for c in scale]\n",
        "chord_tone = {1:0, 3:1, 5:2}\n",
        "chords"
      ],
      "metadata": {
        "id": "PNqrCmPEOJHS",
        "colab": {
          "base_uri": "https://localhost:8080/"
        },
        "outputId": "d7a9454c-50fa-42b9-9f91-8ad9c498d81e"
      },
      "execution_count": 13,
      "outputs": [
        {
          "output_type": "execute_result",
          "data": {
            "text/plain": [
              "[('C', 'Eb', 'G'),\n",
              " ('D', 'F', 'A'),\n",
              " ('Eb', 'G', 'Bb'),\n",
              " ('F', 'A', 'C'),\n",
              " ('G', 'Bb', 'D'),\n",
              " ('A', 'C', 'Eb'),\n",
              " ('Bb', 'D', 'F')]"
            ]
          },
          "metadata": {},
          "execution_count": 13
        }
      ]
    },
    {
      "cell_type": "code",
      "source": [
        "import pandas as pd\n",
        "from enum import Enum\n",
        "\n",
        "class Scale(Enum):\n",
        "    MAJOR = 1\n",
        "    H_MINOR = 2\n",
        "    M_MINOR = 3\n",
        "\n",
        "class Diatonic:\n",
        "  _tonic = '?'\n",
        "  _scale = []\n",
        "  _notes_flat  = [\"C\", \"Db\", \"D\", \"Eb\", \"E\", \"F\", \"Gb\", \"G\", \"Ab\", \"A\", \"Bb\", \"B\"]\n",
        "  _Notes_flat  = pd.Series(_notes_flat)\n",
        "\n",
        "  _notes_sharp = [\"C\", \"C#\", \"D\", \"D#\", \"E\", \"F\", \"F#\", \"G\", \"G#\", \"A\", \"A#\", \"B\"]\n",
        "  _Notes_sharp = pd.Series(_notes_sharp)\n",
        "\n",
        "  def _mk_scale(self, intervals):\n",
        "    sharp = lambda t: ('#' in t) or (t in [\"D\", \"E\", \"G\", \"A\", \"B\"])\n",
        "    notes = self._notes_sharp if sharp(self._tonic) else self._notes_flat\n",
        "    Notes = self._Notes_sharp if sharp(self._tonic) else self._Notes_flat\n",
        "    offset = notes.index(self.tonic)\n",
        "    ivals = [(x + offset) % 12 for x in intervals]\n",
        "    return list(Notes[ivals])\n",
        "\n",
        "  def _major(self):\n",
        "    return self._mk_scale([0,2,4,5,7,9,11])\n",
        "\n",
        "  def _mel_minor(self):\n",
        "    return self._mk_scale([0,2,3,5,7,9,11])\n",
        "\n",
        "  def _har_minor(self):\n",
        "    return self._mk_scale([0,2,3,5,7,8,10])\n",
        "\n",
        "  def __init__(self, tonic:str, kind:Scale ):\n",
        "    self.tonic = tonic\n",
        "    if kind == Scale.MAJOR:\n",
        "      self._scale = self._major()\n",
        "    elif kind == Scale.M_MINOR:\n",
        "      self._scale = self._mel_minor()\n",
        "    else:\n",
        "      self._scale = self._har_minor() \n",
        "\n",
        "  def chords(self, num=3):\n",
        "    next = lambda x, n=1: self._scale[(self._scale.index(x)+n) % len(self._scale)]\n",
        "    return [[next(c,2*i) for i in range(num)] for c in self._scale]\n"
      ],
      "metadata": {
        "id": "U9cLnXKu1rmh"
      },
      "execution_count": 14,
      "outputs": []
    },
    {
      "cell_type": "code",
      "source": [
        "c = Diatonic(\"F\", Scale.MAJOR)\n",
        "c.chords(4)"
      ],
      "metadata": {
        "colab": {
          "base_uri": "https://localhost:8080/"
        },
        "id": "nzK8QzB35aip",
        "outputId": "71e5847f-d38d-4e5d-cbcf-83d3df0bc28e"
      },
      "execution_count": 15,
      "outputs": [
        {
          "output_type": "execute_result",
          "data": {
            "text/plain": [
              "[['F', 'A', 'C', 'E'],\n",
              " ['G', 'Bb', 'D', 'F'],\n",
              " ['A', 'C', 'E', 'G'],\n",
              " ['Bb', 'D', 'F', 'A'],\n",
              " ['C', 'E', 'G', 'Bb'],\n",
              " ['D', 'F', 'A', 'C'],\n",
              " ['E', 'G', 'Bb', 'D']]"
            ]
          },
          "metadata": {},
          "execution_count": 15
        }
      ]
    },
    {
      "cell_type": "code",
      "source": [],
      "metadata": {
        "id": "HkXb8QcQFst-"
      },
      "execution_count": 15,
      "outputs": []
    }
  ]
}