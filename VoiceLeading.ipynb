{
  "nbformat": 4,
  "nbformat_minor": 0,
  "metadata": {
    "colab": {
      "provenance": [],
      "authorship_tag": "ABX9TyOCJl4UUKSHJPoOS9l9hS7f",
      "include_colab_link": true
    },
    "kernelspec": {
      "name": "python3",
      "display_name": "Python 3"
    },
    "language_info": {
      "name": "python"
    }
  },
  "cells": [
    {
      "cell_type": "markdown",
      "metadata": {
        "id": "view-in-github",
        "colab_type": "text"
      },
      "source": [
        "<a href=\"https://colab.research.google.com/github/danadler-dev/voice_leading/blob/main/VoiceLeading.ipynb\" target=\"_parent\"><img src=\"https://colab.research.google.com/assets/colab-badge.svg\" alt=\"Open In Colab\"/></a>"
      ]
    },
    {
      "cell_type": "code",
      "source": [
        "import pandas as pd\n",
        "from enum import Enum\n",
        "\n",
        "_chord_tone = {1:0, 3:1, 5:2}\n",
        "\n",
        "class Scale(Enum):\n",
        "    MAJOR = 1\n",
        "    H_MINOR = 2\n",
        "    M_MINOR = 3\n",
        "\n",
        "############################################################\n",
        "# Class to generate 3,4,5 part diatonic chords for any scale\n",
        "# For example: 4 part chords in F Major:\n",
        "# c = Diatonic(\"F\", Scale.MAJOR)\n",
        "# c.chords(4)\n",
        "############################################################\n",
        "\n",
        "class Diatonic:\n",
        "  _tonic = '?'\n",
        "  _scale = []\n",
        "  _notes_flat  = [\"C\", \"Db\", \"D\", \"Eb\", \"E\", \"F\", \"Gb\", \"G\", \"Ab\", \"A\", \"Bb\", \"B\"]\n",
        "  _Notes_flat  = pd.Series(_notes_flat)\n",
        "\n",
        "  _notes_sharp = [\"C\", \"C#\", \"D\", \"D#\", \"E\", \"F\", \"F#\", \"G\", \"G#\", \"A\", \"A#\", \"B\"]\n",
        "  _Notes_sharp = pd.Series(_notes_sharp)\n",
        "\n",
        "  def _mk_scale(self, intervals):\n",
        "    sharp = lambda t: ('#' in t) or (t in [\"D\", \"E\", \"G\", \"A\", \"B\"])\n",
        "    notes = self._notes_sharp if sharp(self._tonic) else self._notes_flat\n",
        "    Notes = self._Notes_sharp if sharp(self._tonic) else self._Notes_flat\n",
        "    offset = notes.index(self.tonic)\n",
        "    ivals = [(x + offset) % 12 for x in intervals]\n",
        "    return list(Notes[ivals])\n",
        "\n",
        "  def _major(self):\n",
        "    return self._mk_scale([0,2,4,5,7,9,11])\n",
        "\n",
        "  def _mel_minor(self):\n",
        "    return self._mk_scale([0,2,3,5,7,9,11])\n",
        "\n",
        "  def _har_minor(self):\n",
        "    return self._mk_scale([0,2,3,5,7,8,10])\n",
        "\n",
        "  def __init__(self, tonic:str, kind:Scale ):\n",
        "    self.tonic = tonic\n",
        "    if kind == Scale.MAJOR:\n",
        "      self._scale = self._major()\n",
        "    elif kind == Scale.M_MINOR:\n",
        "      self._scale = self._mel_minor()\n",
        "    else:\n",
        "      self._scale = self._har_minor() \n",
        "\n",
        "  def chords(self, num=3):\n",
        "    next = lambda x, n=1: self._scale[(self._scale.index(x)+n) % len(self._scale)]\n",
        "    return [tuple([next(c,2*i) for i in range(num)]) for c in self._scale]\n"
      ],
      "metadata": {
        "id": "Yoa5FaEOJFpj"
      },
      "execution_count": 1,
      "outputs": []
    },
    {
      "cell_type": "code",
      "source": [
        "# 4-part diatonic chords in F melodic minor\n",
        "c = Diatonic(\"F\", Scale.M_MINOR)\n",
        "assert c.chords(4) == [\n",
        " ('F', 'Ab', 'C', 'E'),\n",
        " ('G', 'Bb', 'D', 'F'),\n",
        " ('Ab', 'C', 'E', 'G'),\n",
        " ('Bb', 'D', 'F', 'Ab'),\n",
        " ('C', 'E', 'G', 'Bb'),\n",
        " ('D', 'F', 'Ab', 'C'),\n",
        " ('E', 'G', 'Bb', 'D')]"
      ],
      "metadata": {
        "id": "SqdbfISQJQ6C"
      },
      "execution_count": 2,
      "outputs": []
    },
    {
      "cell_type": "code",
      "source": [
        "# 5-part diatonic chords in C major\n",
        "c = Diatonic(\"C\", Scale.MAJOR)\n",
        "assert c.chords(5) == [\n",
        " ('C', 'E', 'G', 'B', 'D'),\n",
        " ('D', 'F', 'A', 'C', 'E'),\n",
        " ('E', 'G', 'B', 'D', 'F'),\n",
        " ('F', 'A', 'C', 'E', 'G'),\n",
        " ('G', 'B', 'D', 'F', 'A'),\n",
        " ('A', 'C', 'E', 'G', 'B'),\n",
        " ('B', 'D', 'F', 'A', 'C') \n",
        "]"
      ],
      "metadata": {
        "id": "ve0ElvvuJ-1h"
      },
      "execution_count": 3,
      "outputs": []
    },
    {
      "cell_type": "code",
      "source": [
        "c = Diatonic(\"C\", Scale.MAJOR)\n",
        "chords = c.chords(3)"
      ],
      "metadata": {
        "id": "JTgbRzf4zcfW"
      },
      "execution_count": 4,
      "outputs": []
    },
    {
      "cell_type": "code",
      "source": [
        "pc = (5,3,1) # cycle: 5->3->1->5...\n",
        "def perm(*args):\n",
        "  return tuple([pc[(pc.index(a)+1) % len(pc)] for a in args[0]])\n"
      ],
      "metadata": {
        "id": "v8wqjiVQVpC6"
      },
      "execution_count": 5,
      "outputs": []
    },
    {
      "cell_type": "code",
      "source": [
        "start = (1,3,5)\n",
        "assert perm(perm(perm(start))) == start"
      ],
      "metadata": {
        "id": "lADT1JRYXxTY"
      },
      "execution_count": 6,
      "outputs": []
    },
    {
      "cell_type": "code",
      "source": [
        "# invert a chord like (C,E, G) by a permutation like (3,1,5)\n",
        "def invert(chord, prm):\n",
        "  loc = tuple([_chord_tone[t] for t in prm]) \n",
        "  return tuple([chord[loc[i]] for i in range(len(prm))])\n"
      ],
      "metadata": {
        "id": "KXKnN7oaX1gg"
      },
      "execution_count": 7,
      "outputs": []
    },
    {
      "cell_type": "code",
      "source": [
        "assert invert(('C','E','G'), (3,5,1)) == ('E', 'G', 'C')"
      ],
      "metadata": {
        "id": "OPBKW-PJsxqp"
      },
      "execution_count": 8,
      "outputs": []
    },
    {
      "cell_type": "code",
      "source": [
        "# The 6 cycles as defined in the intro\n",
        "Cycle2 = []; Cycle3 = []; Cycle4 = []; Cycle5 = []; Cycle6 = []; Cycle7 = []\n",
        "Cycles = [Cycle2, Cycle3, Cycle4, Cycle5, Cycle6, Cycle7 ]\n",
        "for i in range(6): # 6 cycles\n",
        "  j=0\n",
        "  for k in range(len(chords)):\n",
        "    Cycles[i].append(chords[j])\n",
        "    j = (j + i + 1) % len(chords)"
      ],
      "metadata": {
        "id": "454VBbSFQKpq"
      },
      "execution_count": 9,
      "outputs": []
    },
    {
      "cell_type": "code",
      "source": [
        "pc = (5,3,1) # cycle: 5->3->1->5...\n",
        "start = [(1,3,5), (1,5,3)] # close voicing, spread voicing\n",
        "for p in start:\n",
        "  for i in range(3):\n",
        "    for c in Cycle2:\n",
        "      print(invert(c, p))\n",
        "      p = perm(p)\n",
        "    print('---------------')\n",
        "  print('================')"
      ],
      "metadata": {
        "colab": {
          "base_uri": "https://localhost:8080/"
        },
        "id": "4-pNtKHvuE0n",
        "outputId": "27444e20-7f8e-4a9a-812c-ddd633abdc7f"
      },
      "execution_count": 10,
      "outputs": [
        {
          "output_type": "stream",
          "name": "stdout",
          "text": [
            "('C', 'E', 'G')\n",
            "('A', 'D', 'F')\n",
            "('G', 'B', 'E')\n",
            "('F', 'A', 'C')\n",
            "('D', 'G', 'B')\n",
            "('C', 'E', 'A')\n",
            "('B', 'D', 'F')\n",
            "---------------\n",
            "('G', 'C', 'E')\n",
            "('F', 'A', 'D')\n",
            "('E', 'G', 'B')\n",
            "('C', 'F', 'A')\n",
            "('B', 'D', 'G')\n",
            "('A', 'C', 'E')\n",
            "('F', 'B', 'D')\n",
            "---------------\n",
            "('E', 'G', 'C')\n",
            "('D', 'F', 'A')\n",
            "('B', 'E', 'G')\n",
            "('A', 'C', 'F')\n",
            "('G', 'B', 'D')\n",
            "('E', 'A', 'C')\n",
            "('D', 'F', 'B')\n",
            "---------------\n",
            "================\n",
            "('C', 'G', 'E')\n",
            "('A', 'F', 'D')\n",
            "('G', 'E', 'B')\n",
            "('F', 'C', 'A')\n",
            "('D', 'B', 'G')\n",
            "('C', 'A', 'E')\n",
            "('B', 'F', 'D')\n",
            "---------------\n",
            "('G', 'E', 'C')\n",
            "('F', 'D', 'A')\n",
            "('E', 'B', 'G')\n",
            "('C', 'A', 'F')\n",
            "('B', 'G', 'D')\n",
            "('A', 'E', 'C')\n",
            "('F', 'D', 'B')\n",
            "---------------\n",
            "('E', 'C', 'G')\n",
            "('D', 'A', 'F')\n",
            "('B', 'G', 'E')\n",
            "('A', 'F', 'C')\n",
            "('G', 'D', 'B')\n",
            "('E', 'C', 'A')\n",
            "('D', 'B', 'F')\n",
            "---------------\n",
            "================\n"
          ]
        }
      ]
    },
    {
      "cell_type": "code",
      "source": [
        "pc = (5,3,1) # cycle: 5->3->1->5...\n",
        "start = [(1,3,5), (1,5,3)] # close voicing, spread voicing\n",
        "for p in start:\n",
        "  for i in range(3):\n",
        "    for c in Cycle4:\n",
        "      print(invert(c, p))\n",
        "      p = perm(p)\n",
        "    print('---------------')\n",
        "  print('================')"
      ],
      "metadata": {
        "colab": {
          "base_uri": "https://localhost:8080/"
        },
        "id": "i43dY77VKVEi",
        "outputId": "35b5fa3a-601a-4ce8-c331-aee5fa9f46b9"
      },
      "execution_count": 11,
      "outputs": [
        {
          "output_type": "stream",
          "name": "stdout",
          "text": [
            "('C', 'E', 'G')\n",
            "('C', 'F', 'A')\n",
            "('D', 'F', 'B')\n",
            "('E', 'G', 'B')\n",
            "('E', 'A', 'C')\n",
            "('F', 'A', 'D')\n",
            "('G', 'B', 'D')\n",
            "---------------\n",
            "('G', 'C', 'E')\n",
            "('A', 'C', 'F')\n",
            "('B', 'D', 'F')\n",
            "('B', 'E', 'G')\n",
            "('C', 'E', 'A')\n",
            "('D', 'F', 'A')\n",
            "('D', 'G', 'B')\n",
            "---------------\n",
            "('E', 'G', 'C')\n",
            "('F', 'A', 'C')\n",
            "('F', 'B', 'D')\n",
            "('G', 'B', 'E')\n",
            "('A', 'C', 'E')\n",
            "('A', 'D', 'F')\n",
            "('B', 'D', 'G')\n",
            "---------------\n",
            "================\n",
            "('C', 'G', 'E')\n",
            "('C', 'A', 'F')\n",
            "('D', 'B', 'F')\n",
            "('E', 'B', 'G')\n",
            "('E', 'C', 'A')\n",
            "('F', 'D', 'A')\n",
            "('G', 'D', 'B')\n",
            "---------------\n",
            "('G', 'E', 'C')\n",
            "('A', 'F', 'C')\n",
            "('B', 'F', 'D')\n",
            "('B', 'G', 'E')\n",
            "('C', 'A', 'E')\n",
            "('D', 'A', 'F')\n",
            "('D', 'B', 'G')\n",
            "---------------\n",
            "('E', 'C', 'G')\n",
            "('F', 'C', 'A')\n",
            "('F', 'D', 'B')\n",
            "('G', 'E', 'B')\n",
            "('A', 'E', 'C')\n",
            "('A', 'F', 'D')\n",
            "('B', 'G', 'D')\n",
            "---------------\n",
            "================\n"
          ]
        }
      ]
    },
    {
      "cell_type": "code",
      "source": [
        "pc = (5,1,3) # cycle: 5->3->1->5...\n",
        "start = [(1,3,5), (1,5,3)] # close voicing, spread voicing\n",
        "for p in start:\n",
        "  for i in range(3):\n",
        "    for c in Cycle6:\n",
        "      print(invert(c, p))\n",
        "      p = perm(p)\n",
        "    print('---------------')\n",
        "  print('================')"
      ],
      "metadata": {
        "colab": {
          "base_uri": "https://localhost:8080/"
        },
        "id": "bUeIDG_7LKJp",
        "outputId": "cec8aac2-d948-459e-ac1d-da10b63f89e2"
      },
      "execution_count": 12,
      "outputs": [
        {
          "output_type": "stream",
          "name": "stdout",
          "text": [
            "('C', 'E', 'G')\n",
            "('C', 'E', 'A')\n",
            "('C', 'F', 'A')\n",
            "('D', 'F', 'A')\n",
            "('D', 'F', 'B')\n",
            "('D', 'G', 'B')\n",
            "('E', 'G', 'B')\n",
            "---------------\n",
            "('E', 'G', 'C')\n",
            "('E', 'A', 'C')\n",
            "('F', 'A', 'C')\n",
            "('F', 'A', 'D')\n",
            "('F', 'B', 'D')\n",
            "('G', 'B', 'D')\n",
            "('G', 'B', 'E')\n",
            "---------------\n",
            "('G', 'C', 'E')\n",
            "('A', 'C', 'E')\n",
            "('A', 'C', 'F')\n",
            "('A', 'D', 'F')\n",
            "('B', 'D', 'F')\n",
            "('B', 'D', 'G')\n",
            "('B', 'E', 'G')\n",
            "---------------\n",
            "================\n",
            "('C', 'G', 'E')\n",
            "('C', 'A', 'E')\n",
            "('C', 'A', 'F')\n",
            "('D', 'A', 'F')\n",
            "('D', 'B', 'F')\n",
            "('D', 'B', 'G')\n",
            "('E', 'B', 'G')\n",
            "---------------\n",
            "('E', 'C', 'G')\n",
            "('E', 'C', 'A')\n",
            "('F', 'C', 'A')\n",
            "('F', 'D', 'A')\n",
            "('F', 'D', 'B')\n",
            "('G', 'D', 'B')\n",
            "('G', 'E', 'B')\n",
            "---------------\n",
            "('G', 'E', 'C')\n",
            "('A', 'E', 'C')\n",
            "('A', 'F', 'C')\n",
            "('A', 'F', 'D')\n",
            "('B', 'F', 'D')\n",
            "('B', 'G', 'D')\n",
            "('B', 'G', 'E')\n",
            "---------------\n",
            "================\n"
          ]
        }
      ]
    },
    {
      "cell_type": "code",
      "source": [
        "Cycle2 = []; Cycle3 = []; Cycle4 = []; Cycle5 = []; Cycle6 = []; Cycle7 = []\n",
        "Cycles = [Cycle2, Cycle3, Cycle4, Cycle5, Cycle6, Cycle7 ]\n",
        "for i in range(6): # 6 cycles\n",
        "  j=0\n",
        "  for k in range(len(chords)):\n",
        "    Cycles[i].append(chords[j])\n",
        "    j = (j + i + 1) % len(chords)\n"
      ],
      "metadata": {
        "id": "SaOQJc-hNOFq"
      },
      "execution_count": 13,
      "outputs": []
    },
    {
      "cell_type": "code",
      "source": [
        "Cycle5"
      ],
      "metadata": {
        "colab": {
          "base_uri": "https://localhost:8080/"
        },
        "id": "1b1ag0FXN-Y6",
        "outputId": "59fd2538-e577-452e-c90f-98a5c4d50af5"
      },
      "execution_count": 14,
      "outputs": [
        {
          "output_type": "execute_result",
          "data": {
            "text/plain": [
              "[('C', 'E', 'G'),\n",
              " ('G', 'B', 'D'),\n",
              " ('D', 'F', 'A'),\n",
              " ('A', 'C', 'E'),\n",
              " ('E', 'G', 'B'),\n",
              " ('B', 'D', 'F'),\n",
              " ('F', 'A', 'C')]"
            ]
          },
          "metadata": {},
          "execution_count": 14
        }
      ]
    },
    {
      "cell_type": "code",
      "source": [],
      "metadata": {
        "id": "nzK8QzB35aip"
      },
      "execution_count": 14,
      "outputs": []
    },
    {
      "cell_type": "code",
      "source": [],
      "metadata": {
        "id": "HkXb8QcQFst-"
      },
      "execution_count": 14,
      "outputs": []
    }
  ]
}