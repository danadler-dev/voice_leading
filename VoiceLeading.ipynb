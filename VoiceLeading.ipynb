{
  "nbformat": 4,
  "nbformat_minor": 0,
  "metadata": {
    "colab": {
      "provenance": [],
      "authorship_tag": "ABX9TyOT9FpjNxW/2rNUTVZ1oi0W",
      "include_colab_link": true
    },
    "kernelspec": {
      "name": "python3",
      "display_name": "Python 3"
    },
    "language_info": {
      "name": "python"
    },
    "widgets": {
      "application/vnd.jupyter.widget-state+json": {
        "15bea2f34cce4e0ab3cbf0a22c020963": {
          "model_module": "@jupyter-widgets/controls",
          "model_name": "VBoxModel",
          "model_module_version": "1.5.0",
          "state": {
            "_dom_classes": [],
            "_model_module": "@jupyter-widgets/controls",
            "_model_module_version": "1.5.0",
            "_model_name": "VBoxModel",
            "_view_count": null,
            "_view_module": "@jupyter-widgets/controls",
            "_view_module_version": "1.5.0",
            "_view_name": "VBoxView",
            "box_style": "",
            "children": [
              "IPY_MODEL_3037c46ed3424d17a1876c42d0c4425c",
              "IPY_MODEL_ad1db5b359d2446ca53adda7472202af"
            ],
            "layout": "IPY_MODEL_415820bbc4e84611922921e92475d1f8"
          }
        },
        "3037c46ed3424d17a1876c42d0c4425c": {
          "model_module": "@jupyter-widgets/controls",
          "model_name": "HBoxModel",
          "model_module_version": "1.5.0",
          "state": {
            "_dom_classes": [],
            "_model_module": "@jupyter-widgets/controls",
            "_model_module_version": "1.5.0",
            "_model_name": "HBoxModel",
            "_view_count": null,
            "_view_module": "@jupyter-widgets/controls",
            "_view_module_version": "1.5.0",
            "_view_name": "HBoxView",
            "box_style": "",
            "children": [
              "IPY_MODEL_56cc29ceee7840239e87deacd0d315e0",
              "IPY_MODEL_81cb4c6c9c2645ce8e6fa1d5e1f3c3d7",
              "IPY_MODEL_3a38ff10bc8342b6a62ce408fb2a96f0",
              "IPY_MODEL_7325c225b14b49cfba531489eaf69591"
            ],
            "layout": "IPY_MODEL_372f3112ba9e4f5bae9060b646130534"
          }
        },
        "ad1db5b359d2446ca53adda7472202af": {
          "model_module": "@jupyter-widgets/output",
          "model_name": "OutputModel",
          "model_module_version": "1.0.0",
          "state": {
            "_dom_classes": [],
            "_model_module": "@jupyter-widgets/output",
            "_model_module_version": "1.0.0",
            "_model_name": "OutputModel",
            "_view_count": null,
            "_view_module": "@jupyter-widgets/output",
            "_view_module_version": "1.0.0",
            "_view_name": "OutputView",
            "layout": "IPY_MODEL_a425aa3fdc404298b51584cc2f4b43a2",
            "msg_id": "",
            "outputs": []
          }
        },
        "415820bbc4e84611922921e92475d1f8": {
          "model_module": "@jupyter-widgets/base",
          "model_name": "LayoutModel",
          "model_module_version": "1.2.0",
          "state": {
            "_model_module": "@jupyter-widgets/base",
            "_model_module_version": "1.2.0",
            "_model_name": "LayoutModel",
            "_view_count": null,
            "_view_module": "@jupyter-widgets/base",
            "_view_module_version": "1.2.0",
            "_view_name": "LayoutView",
            "align_content": null,
            "align_items": null,
            "align_self": null,
            "border": null,
            "bottom": null,
            "display": null,
            "flex": null,
            "flex_flow": null,
            "grid_area": null,
            "grid_auto_columns": null,
            "grid_auto_flow": null,
            "grid_auto_rows": null,
            "grid_column": null,
            "grid_gap": null,
            "grid_row": null,
            "grid_template_areas": null,
            "grid_template_columns": null,
            "grid_template_rows": null,
            "height": null,
            "justify_content": null,
            "justify_items": null,
            "left": null,
            "margin": null,
            "max_height": null,
            "max_width": null,
            "min_height": null,
            "min_width": null,
            "object_fit": null,
            "object_position": null,
            "order": null,
            "overflow": null,
            "overflow_x": null,
            "overflow_y": null,
            "padding": null,
            "right": null,
            "top": null,
            "visibility": null,
            "width": null
          }
        },
        "56cc29ceee7840239e87deacd0d315e0": {
          "model_module": "@jupyter-widgets/controls",
          "model_name": "ButtonModel",
          "model_module_version": "1.5.0",
          "state": {
            "_dom_classes": [],
            "_model_module": "@jupyter-widgets/controls",
            "_model_module_version": "1.5.0",
            "_model_name": "ButtonModel",
            "_view_count": null,
            "_view_module": "@jupyter-widgets/controls",
            "_view_module_version": "1.5.0",
            "_view_name": "ButtonView",
            "button_style": "",
            "description": "Generate",
            "disabled": false,
            "icon": "",
            "layout": "IPY_MODEL_0326212e2e0d448ca956b86c1c75351b",
            "style": "IPY_MODEL_3e68ecf1a8cd4a2baaf377adf03bc183",
            "tooltip": ""
          }
        },
        "81cb4c6c9c2645ce8e6fa1d5e1f3c3d7": {
          "model_module": "@jupyter-widgets/controls",
          "model_name": "DropdownModel",
          "model_module_version": "1.5.0",
          "state": {
            "_dom_classes": [],
            "_model_module": "@jupyter-widgets/controls",
            "_model_module_version": "1.5.0",
            "_model_name": "DropdownModel",
            "_options_labels": [
              "C",
              "D",
              "E",
              "F",
              "G",
              "A",
              "B"
            ],
            "_view_count": null,
            "_view_module": "@jupyter-widgets/controls",
            "_view_module_version": "1.5.0",
            "_view_name": "DropdownView",
            "description": "Key:",
            "description_tooltip": null,
            "disabled": false,
            "index": 1,
            "layout": "IPY_MODEL_2bdd3f6d351b4cb59249f4d5501d5dc0",
            "style": "IPY_MODEL_ea61a29796b2443aba48027b9f3b355f"
          }
        },
        "3a38ff10bc8342b6a62ce408fb2a96f0": {
          "model_module": "@jupyter-widgets/controls",
          "model_name": "DropdownModel",
          "model_module_version": "1.5.0",
          "state": {
            "_dom_classes": [],
            "_model_module": "@jupyter-widgets/controls",
            "_model_module_version": "1.5.0",
            "_model_name": "DropdownModel",
            "_options_labels": [
              "Major",
              "Mel. Minor",
              "Har. Minor"
            ],
            "_view_count": null,
            "_view_module": "@jupyter-widgets/controls",
            "_view_module_version": "1.5.0",
            "_view_name": "DropdownView",
            "description": "Scale:",
            "description_tooltip": null,
            "disabled": false,
            "index": 0,
            "layout": "IPY_MODEL_e175c920123543db8fa75147cfc2929e",
            "style": "IPY_MODEL_dd51bdcbf7ad423e9134e1a5dcd87d51"
          }
        },
        "7325c225b14b49cfba531489eaf69591": {
          "model_module": "@jupyter-widgets/controls",
          "model_name": "DropdownModel",
          "model_module_version": "1.5.0",
          "state": {
            "_dom_classes": [],
            "_model_module": "@jupyter-widgets/controls",
            "_model_module_version": "1.5.0",
            "_model_name": "DropdownModel",
            "_options_labels": [
              "Triad",
              "Seventh"
            ],
            "_view_count": null,
            "_view_module": "@jupyter-widgets/controls",
            "_view_module_version": "1.5.0",
            "_view_name": "DropdownView",
            "description": "Chord:",
            "description_tooltip": null,
            "disabled": false,
            "index": 0,
            "layout": "IPY_MODEL_a84fcfb21e7b45bc8713b0c16d99393a",
            "style": "IPY_MODEL_fb351c48781a4d7a89da933c0d89d9ca"
          }
        },
        "372f3112ba9e4f5bae9060b646130534": {
          "model_module": "@jupyter-widgets/base",
          "model_name": "LayoutModel",
          "model_module_version": "1.2.0",
          "state": {
            "_model_module": "@jupyter-widgets/base",
            "_model_module_version": "1.2.0",
            "_model_name": "LayoutModel",
            "_view_count": null,
            "_view_module": "@jupyter-widgets/base",
            "_view_module_version": "1.2.0",
            "_view_name": "LayoutView",
            "align_content": null,
            "align_items": null,
            "align_self": null,
            "border": null,
            "bottom": null,
            "display": null,
            "flex": null,
            "flex_flow": null,
            "grid_area": null,
            "grid_auto_columns": null,
            "grid_auto_flow": null,
            "grid_auto_rows": null,
            "grid_column": null,
            "grid_gap": null,
            "grid_row": null,
            "grid_template_areas": null,
            "grid_template_columns": null,
            "grid_template_rows": null,
            "height": null,
            "justify_content": null,
            "justify_items": null,
            "left": null,
            "margin": null,
            "max_height": null,
            "max_width": null,
            "min_height": null,
            "min_width": null,
            "object_fit": null,
            "object_position": null,
            "order": null,
            "overflow": null,
            "overflow_x": null,
            "overflow_y": null,
            "padding": null,
            "right": null,
            "top": null,
            "visibility": null,
            "width": null
          }
        },
        "0326212e2e0d448ca956b86c1c75351b": {
          "model_module": "@jupyter-widgets/base",
          "model_name": "LayoutModel",
          "model_module_version": "1.2.0",
          "state": {
            "_model_module": "@jupyter-widgets/base",
            "_model_module_version": "1.2.0",
            "_model_name": "LayoutModel",
            "_view_count": null,
            "_view_module": "@jupyter-widgets/base",
            "_view_module_version": "1.2.0",
            "_view_name": "LayoutView",
            "align_content": null,
            "align_items": null,
            "align_self": null,
            "border": null,
            "bottom": null,
            "display": null,
            "flex": null,
            "flex_flow": null,
            "grid_area": null,
            "grid_auto_columns": null,
            "grid_auto_flow": null,
            "grid_auto_rows": null,
            "grid_column": null,
            "grid_gap": null,
            "grid_row": null,
            "grid_template_areas": null,
            "grid_template_columns": null,
            "grid_template_rows": null,
            "height": null,
            "justify_content": null,
            "justify_items": null,
            "left": null,
            "margin": null,
            "max_height": null,
            "max_width": null,
            "min_height": null,
            "min_width": null,
            "object_fit": null,
            "object_position": null,
            "order": null,
            "overflow": null,
            "overflow_x": null,
            "overflow_y": null,
            "padding": null,
            "right": null,
            "top": null,
            "visibility": null,
            "width": null
          }
        },
        "3e68ecf1a8cd4a2baaf377adf03bc183": {
          "model_module": "@jupyter-widgets/controls",
          "model_name": "ButtonStyleModel",
          "model_module_version": "1.5.0",
          "state": {
            "_model_module": "@jupyter-widgets/controls",
            "_model_module_version": "1.5.0",
            "_model_name": "ButtonStyleModel",
            "_view_count": null,
            "_view_module": "@jupyter-widgets/base",
            "_view_module_version": "1.2.0",
            "_view_name": "StyleView",
            "button_color": "lightgreen",
            "font_weight": ""
          }
        },
        "2bdd3f6d351b4cb59249f4d5501d5dc0": {
          "model_module": "@jupyter-widgets/base",
          "model_name": "LayoutModel",
          "model_module_version": "1.2.0",
          "state": {
            "_model_module": "@jupyter-widgets/base",
            "_model_module_version": "1.2.0",
            "_model_name": "LayoutModel",
            "_view_count": null,
            "_view_module": "@jupyter-widgets/base",
            "_view_module_version": "1.2.0",
            "_view_name": "LayoutView",
            "align_content": null,
            "align_items": null,
            "align_self": null,
            "border": null,
            "bottom": null,
            "display": null,
            "flex": null,
            "flex_flow": null,
            "grid_area": null,
            "grid_auto_columns": null,
            "grid_auto_flow": null,
            "grid_auto_rows": null,
            "grid_column": null,
            "grid_gap": null,
            "grid_row": null,
            "grid_template_areas": null,
            "grid_template_columns": null,
            "grid_template_rows": null,
            "height": null,
            "justify_content": null,
            "justify_items": null,
            "left": null,
            "margin": null,
            "max_height": null,
            "max_width": null,
            "min_height": null,
            "min_width": null,
            "object_fit": null,
            "object_position": null,
            "order": null,
            "overflow": null,
            "overflow_x": null,
            "overflow_y": null,
            "padding": null,
            "right": null,
            "top": null,
            "visibility": null,
            "width": null
          }
        },
        "ea61a29796b2443aba48027b9f3b355f": {
          "model_module": "@jupyter-widgets/controls",
          "model_name": "DescriptionStyleModel",
          "model_module_version": "1.5.0",
          "state": {
            "_model_module": "@jupyter-widgets/controls",
            "_model_module_version": "1.5.0",
            "_model_name": "DescriptionStyleModel",
            "_view_count": null,
            "_view_module": "@jupyter-widgets/base",
            "_view_module_version": "1.2.0",
            "_view_name": "StyleView",
            "description_width": ""
          }
        },
        "e175c920123543db8fa75147cfc2929e": {
          "model_module": "@jupyter-widgets/base",
          "model_name": "LayoutModel",
          "model_module_version": "1.2.0",
          "state": {
            "_model_module": "@jupyter-widgets/base",
            "_model_module_version": "1.2.0",
            "_model_name": "LayoutModel",
            "_view_count": null,
            "_view_module": "@jupyter-widgets/base",
            "_view_module_version": "1.2.0",
            "_view_name": "LayoutView",
            "align_content": null,
            "align_items": null,
            "align_self": null,
            "border": null,
            "bottom": null,
            "display": null,
            "flex": null,
            "flex_flow": null,
            "grid_area": null,
            "grid_auto_columns": null,
            "grid_auto_flow": null,
            "grid_auto_rows": null,
            "grid_column": null,
            "grid_gap": null,
            "grid_row": null,
            "grid_template_areas": null,
            "grid_template_columns": null,
            "grid_template_rows": null,
            "height": null,
            "justify_content": null,
            "justify_items": null,
            "left": null,
            "margin": null,
            "max_height": null,
            "max_width": null,
            "min_height": null,
            "min_width": null,
            "object_fit": null,
            "object_position": null,
            "order": null,
            "overflow": null,
            "overflow_x": null,
            "overflow_y": null,
            "padding": null,
            "right": null,
            "top": null,
            "visibility": null,
            "width": null
          }
        },
        "dd51bdcbf7ad423e9134e1a5dcd87d51": {
          "model_module": "@jupyter-widgets/controls",
          "model_name": "DescriptionStyleModel",
          "model_module_version": "1.5.0",
          "state": {
            "_model_module": "@jupyter-widgets/controls",
            "_model_module_version": "1.5.0",
            "_model_name": "DescriptionStyleModel",
            "_view_count": null,
            "_view_module": "@jupyter-widgets/base",
            "_view_module_version": "1.2.0",
            "_view_name": "StyleView",
            "description_width": ""
          }
        },
        "a84fcfb21e7b45bc8713b0c16d99393a": {
          "model_module": "@jupyter-widgets/base",
          "model_name": "LayoutModel",
          "model_module_version": "1.2.0",
          "state": {
            "_model_module": "@jupyter-widgets/base",
            "_model_module_version": "1.2.0",
            "_model_name": "LayoutModel",
            "_view_count": null,
            "_view_module": "@jupyter-widgets/base",
            "_view_module_version": "1.2.0",
            "_view_name": "LayoutView",
            "align_content": null,
            "align_items": null,
            "align_self": null,
            "border": null,
            "bottom": null,
            "display": null,
            "flex": null,
            "flex_flow": null,
            "grid_area": null,
            "grid_auto_columns": null,
            "grid_auto_flow": null,
            "grid_auto_rows": null,
            "grid_column": null,
            "grid_gap": null,
            "grid_row": null,
            "grid_template_areas": null,
            "grid_template_columns": null,
            "grid_template_rows": null,
            "height": null,
            "justify_content": null,
            "justify_items": null,
            "left": null,
            "margin": null,
            "max_height": null,
            "max_width": null,
            "min_height": null,
            "min_width": null,
            "object_fit": null,
            "object_position": null,
            "order": null,
            "overflow": null,
            "overflow_x": null,
            "overflow_y": null,
            "padding": null,
            "right": null,
            "top": null,
            "visibility": null,
            "width": null
          }
        },
        "fb351c48781a4d7a89da933c0d89d9ca": {
          "model_module": "@jupyter-widgets/controls",
          "model_name": "DescriptionStyleModel",
          "model_module_version": "1.5.0",
          "state": {
            "_model_module": "@jupyter-widgets/controls",
            "_model_module_version": "1.5.0",
            "_model_name": "DescriptionStyleModel",
            "_view_count": null,
            "_view_module": "@jupyter-widgets/base",
            "_view_module_version": "1.2.0",
            "_view_name": "StyleView",
            "description_width": ""
          }
        },
        "a425aa3fdc404298b51584cc2f4b43a2": {
          "model_module": "@jupyter-widgets/base",
          "model_name": "LayoutModel",
          "model_module_version": "1.2.0",
          "state": {
            "_model_module": "@jupyter-widgets/base",
            "_model_module_version": "1.2.0",
            "_model_name": "LayoutModel",
            "_view_count": null,
            "_view_module": "@jupyter-widgets/base",
            "_view_module_version": "1.2.0",
            "_view_name": "LayoutView",
            "align_content": null,
            "align_items": null,
            "align_self": null,
            "border": "1px solid black",
            "bottom": null,
            "display": null,
            "flex": null,
            "flex_flow": null,
            "grid_area": null,
            "grid_auto_columns": null,
            "grid_auto_flow": null,
            "grid_auto_rows": null,
            "grid_column": null,
            "grid_gap": null,
            "grid_row": null,
            "grid_template_areas": null,
            "grid_template_columns": null,
            "grid_template_rows": null,
            "height": null,
            "justify_content": null,
            "justify_items": null,
            "left": null,
            "margin": null,
            "max_height": null,
            "max_width": null,
            "min_height": null,
            "min_width": null,
            "object_fit": null,
            "object_position": null,
            "order": null,
            "overflow": null,
            "overflow_x": null,
            "overflow_y": null,
            "padding": null,
            "right": null,
            "top": null,
            "visibility": null,
            "width": null
          }
        },
        "dfda8c9644114904bed665f621924623": {
          "model_module": "@jupyter-widgets/output",
          "model_name": "OutputModel",
          "model_module_version": "1.0.0",
          "state": {
            "_dom_classes": [],
            "_model_module": "@jupyter-widgets/output",
            "_model_module_version": "1.0.0",
            "_model_name": "OutputModel",
            "_view_count": null,
            "_view_module": "@jupyter-widgets/output",
            "_view_module_version": "1.0.0",
            "_view_name": "OutputView",
            "layout": "IPY_MODEL_17d3fb71b60941a58024ff183edc40a2",
            "msg_id": "",
            "outputs": [
              {
                "output_type": "stream",
                "name": "stdout",
                "text": [
                  "('D', 'F#', 'A')\n",
                  "('B', 'E', 'G')\n",
                  "('A', 'C#', 'F#')\n",
                  "('G', 'B', 'D')\n",
                  "('E', 'A', 'C#')\n",
                  "('D', 'F#', 'B')\n",
                  "('C#', 'E', 'G')\n",
                  "---------------\n",
                  "('A', 'D', 'F#')\n",
                  "('G', 'B', 'E')\n",
                  "('F#', 'A', 'C#')\n",
                  "('D', 'G', 'B')\n",
                  "('C#', 'E', 'A')\n",
                  "('B', 'D', 'F#')\n",
                  "('G', 'C#', 'E')\n",
                  "---------------\n",
                  "('F#', 'A', 'D')\n",
                  "('E', 'G', 'B')\n",
                  "('C#', 'F#', 'A')\n",
                  "('B', 'D', 'G')\n",
                  "('A', 'C#', 'E')\n",
                  "('F#', 'B', 'D')\n",
                  "('E', 'G', 'C#')\n",
                  "---------------\n",
                  "================\n",
                  "('D', 'A', 'F#')\n",
                  "('B', 'G', 'E')\n",
                  "('A', 'F#', 'C#')\n",
                  "('G', 'D', 'B')\n",
                  "('E', 'C#', 'A')\n",
                  "('D', 'B', 'F#')\n",
                  "('C#', 'G', 'E')\n",
                  "---------------\n",
                  "('A', 'F#', 'D')\n",
                  "('G', 'E', 'B')\n",
                  "('F#', 'C#', 'A')\n",
                  "('D', 'B', 'G')\n",
                  "('C#', 'A', 'E')\n",
                  "('B', 'F#', 'D')\n",
                  "('G', 'E', 'C#')\n",
                  "---------------\n",
                  "('F#', 'D', 'A')\n",
                  "('E', 'B', 'G')\n",
                  "('C#', 'A', 'F#')\n",
                  "('B', 'G', 'D')\n",
                  "('A', 'E', 'C#')\n",
                  "('F#', 'D', 'B')\n",
                  "('E', 'C#', 'G')\n",
                  "---------------\n",
                  "================\n"
                ]
              }
            ]
          }
        },
        "17d3fb71b60941a58024ff183edc40a2": {
          "model_module": "@jupyter-widgets/base",
          "model_name": "LayoutModel",
          "model_module_version": "1.2.0",
          "state": {
            "_model_module": "@jupyter-widgets/base",
            "_model_module_version": "1.2.0",
            "_model_name": "LayoutModel",
            "_view_count": null,
            "_view_module": "@jupyter-widgets/base",
            "_view_module_version": "1.2.0",
            "_view_name": "LayoutView",
            "align_content": null,
            "align_items": null,
            "align_self": null,
            "border": null,
            "bottom": null,
            "display": null,
            "flex": null,
            "flex_flow": null,
            "grid_area": null,
            "grid_auto_columns": null,
            "grid_auto_flow": null,
            "grid_auto_rows": null,
            "grid_column": null,
            "grid_gap": null,
            "grid_row": null,
            "grid_template_areas": null,
            "grid_template_columns": null,
            "grid_template_rows": null,
            "height": null,
            "justify_content": null,
            "justify_items": null,
            "left": null,
            "margin": null,
            "max_height": null,
            "max_width": null,
            "min_height": null,
            "min_width": null,
            "object_fit": null,
            "object_position": null,
            "order": null,
            "overflow": null,
            "overflow_x": null,
            "overflow_y": null,
            "padding": null,
            "right": null,
            "top": null,
            "visibility": null,
            "width": null
          }
        }
      }
    }
  },
  "cells": [
    {
      "cell_type": "markdown",
      "metadata": {
        "id": "view-in-github",
        "colab_type": "text"
      },
      "source": [
        "<a href=\"https://colab.research.google.com/github/danadler-dev/voice_leading/blob/main/VoiceLeading.ipynb\" target=\"_parent\"><img src=\"https://colab.research.google.com/assets/colab-badge.svg\" alt=\"Open In Colab\"/></a>"
      ]
    },
    {
      "cell_type": "code",
      "source": [
        "import pandas as pd\n",
        "from enum import Enum\n",
        "\n",
        "class Scale(Enum):\n",
        "    MAJOR = 1\n",
        "    H_MINOR = 2\n",
        "    M_MINOR = 3\n",
        "\n",
        "############################################################\n",
        "# Class to generate 3,4,5 part diatonic chords for any scale\n",
        "# For example: 4 part chords in F Major:\n",
        "# c = Diatonic(\"F\", Scale.MAJOR)\n",
        "# c.chords(4)\n",
        "############################################################\n",
        "\n",
        "class Diatonic:\n",
        "  _tonic = '?'\n",
        "  _scale = []\n",
        "  _notes_flat  = [\"C\", \"Db\", \"D\", \"Eb\", \"E\", \"F\", \"Gb\", \"G\", \"Ab\", \"A\", \"Bb\", \"B\"]\n",
        "  _Notes_flat  = pd.Series(_notes_flat)\n",
        "\n",
        "  _notes_sharp = [\"C\", \"C#\", \"D\", \"D#\", \"E\", \"F\", \"F#\", \"G\", \"G#\", \"A\", \"A#\", \"B\"]\n",
        "  _Notes_sharp = pd.Series(_notes_sharp)\n",
        "\n",
        "  def _mk_scale(self, intervals):\n",
        "    sharp = lambda t: ('#' in t) or (t in [\"D\", \"E\", \"G\", \"A\", \"B\"])\n",
        "    notes = self._notes_sharp if sharp(self._tonic) else self._notes_flat\n",
        "    Notes = self._Notes_sharp if sharp(self._tonic) else self._Notes_flat\n",
        "    offset = notes.index(self._tonic)\n",
        "    ivals = [(x + offset) % 12 for x in intervals]\n",
        "    return list(Notes[ivals])\n",
        "\n",
        "  def _major(self):\n",
        "    return self._mk_scale([0,2,4,5,7,9,11])\n",
        "\n",
        "  def _mel_minor(self):\n",
        "    return self._mk_scale([0,2,3,5,7,9,11])\n",
        "\n",
        "  def _har_minor(self):\n",
        "    return self._mk_scale([0,2,3,5,7,8,11])\n",
        "\n",
        "  def __init__(self, tonic:str, kind:Scale ):\n",
        "    self._tonic = tonic\n",
        "    if kind == Scale.MAJOR:\n",
        "      self._scale = self._major()\n",
        "    elif kind == Scale.M_MINOR:\n",
        "      self._scale = self._mel_minor()\n",
        "    else:\n",
        "      self._scale = self._har_minor() \n",
        "\n",
        "  def chords(self, num=3):\n",
        "    next = lambda x, n=1: self._scale[(self._scale.index(x)+n) % len(self._scale)]\n",
        "    return [tuple([next(c,2*i) for i in range(num)]) for c in self._scale]\n"
      ],
      "metadata": {
        "id": "Yoa5FaEOJFpj"
      },
      "execution_count": 45,
      "outputs": []
    },
    {
      "cell_type": "code",
      "source": [
        "# 4-part diatonic chords in F melodic minor\n",
        "c = Diatonic(\"F\", Scale.M_MINOR)\n",
        "assert c.chords(4) == [\n",
        " ('F', 'Ab', 'C', 'E'),\n",
        " ('G', 'Bb', 'D', 'F'),\n",
        " ('Ab', 'C', 'E', 'G'),\n",
        " ('Bb', 'D', 'F', 'Ab'),\n",
        " ('C', 'E', 'G', 'Bb'),\n",
        " ('D', 'F', 'Ab', 'C'),\n",
        " ('E', 'G', 'Bb', 'D')]"
      ],
      "metadata": {
        "id": "SqdbfISQJQ6C"
      },
      "execution_count": 46,
      "outputs": []
    },
    {
      "cell_type": "code",
      "source": [
        "# 5-part diatonic chords in C major\n",
        "c = Diatonic(\"C\", Scale.MAJOR)\n",
        "assert c.chords(5) == [\n",
        " ('C', 'E', 'G', 'B', 'D'),\n",
        " ('D', 'F', 'A', 'C', 'E'),\n",
        " ('E', 'G', 'B', 'D', 'F'),\n",
        " ('F', 'A', 'C', 'E', 'G'),\n",
        " ('G', 'B', 'D', 'F', 'A'),\n",
        " ('A', 'C', 'E', 'G', 'B'),\n",
        " ('B', 'D', 'F', 'A', 'C') \n",
        "]"
      ],
      "metadata": {
        "id": "ve0ElvvuJ-1h"
      },
      "execution_count": 47,
      "outputs": []
    },
    {
      "cell_type": "code",
      "source": [
        "# 5-part diatonic chords in D major\n",
        "d = Diatonic(\"D\", Scale.MAJOR)\n",
        "assert d.chords(4) == [\n",
        " ('D', 'F#', 'A', 'C#'),\n",
        " ('E', 'G', 'B', 'D'),\n",
        " ('F#', 'A', 'C#', 'E'),\n",
        " ('G', 'B', 'D', 'F#'),\n",
        " ('A', 'C#', 'E', 'G'),\n",
        " ('B', 'D', 'F#', 'A'),\n",
        " ('C#', 'E', 'G', 'B')\n",
        "]"
      ],
      "metadata": {
        "id": "Y8i11EqU0jl-"
      },
      "execution_count": 48,
      "outputs": []
    },
    {
      "cell_type": "code",
      "source": [
        "class VoicingCycle:\n",
        "  # The 6 cycles as defined in the book intro\n",
        "  _pc = (5,3,1) # cycle: 5->3->1->5...\n",
        "  \n",
        "  def _perm(self, *args):\n",
        "    return tuple([self._pc[(self._pc.index(a)+1) % len(self._pc)] for a in args[0]])\n",
        "  \n",
        "  def __init__(self, chords, pc):\n",
        "    self.Cycle2 = []; self.Cycle3 = []; self.Cycle4 = []; self.Cycle5 = []; self.Cycle6 = []; self.Cycle7 = []\n",
        "    self.Cycles = [self.Cycle2, self.Cycle3, self.Cycle4, self.Cycle5, self.Cycle6, self.Cycle7 ]\n",
        "    for i in range(len(self.Cycles)):\n",
        "      j=0\n",
        "      for k in range(len(chords)):\n",
        "        self.Cycles[i].append(chords[j])\n",
        "        j = (j + i + 1) % len(chords)\n",
        "    self._pc = pc  \n",
        "\n",
        "  # invert a chord like (C,E, G) by a permutation like (3,1,5)\n",
        "  @classmethod\n",
        "  def _invert(cls, chord, prm):\n",
        "    _chord_tone = {1:0, 3:1, 5:2, 7:3, 9:4}\n",
        "    loc = tuple([_chord_tone[t] for t in prm]) \n",
        "    return tuple([chord[loc[i]] for i in range(len(prm))])\n",
        "    \n",
        "  def gen(self, cycle, start):\n",
        "    for p in start:\n",
        "      for i in range(len(p)):\n",
        "        for c in cycle:\n",
        "          print(self._invert(c, p))\n",
        "          p = self._perm(p)\n",
        "        print('---------------')\n",
        "      print('================')\n"
      ],
      "metadata": {
        "id": "GJTLO9AlUOup"
      },
      "execution_count": 49,
      "outputs": []
    },
    {
      "cell_type": "code",
      "source": [
        "assert VoicingCycle._invert(('C','E','G'), (3,5,1)) == ('E', 'G', 'C')"
      ],
      "metadata": {
        "id": "Qy18h921WTZ1"
      },
      "execution_count": 50,
      "outputs": []
    },
    {
      "cell_type": "code",
      "source": [
        "# start with C Major Triads\n",
        "c = Diatonic(\"C\", Scale.MAJOR)"
      ],
      "metadata": {
        "id": "ht1aUnzjbc7j"
      },
      "execution_count": 51,
      "outputs": []
    },
    {
      "cell_type": "code",
      "source": [
        "vc = VoicingCycle(c.chords(3), (5,3,1)) # cycle: 5->3->1->5...\n",
        "voicings = [(1,3,5), (1,5,3)] # close voicing, spread voicing\n",
        "vc.gen(vc.Cycle2, voicings ) "
      ],
      "metadata": {
        "colab": {
          "base_uri": "https://localhost:8080/"
        },
        "id": "0Tw6MZwfYZvy",
        "outputId": "52c20c1a-818d-4274-c547-001d2a16e367"
      },
      "execution_count": 52,
      "outputs": [
        {
          "output_type": "stream",
          "name": "stdout",
          "text": [
            "('C', 'E', 'G')\n",
            "('A', 'D', 'F')\n",
            "('G', 'B', 'E')\n",
            "('F', 'A', 'C')\n",
            "('D', 'G', 'B')\n",
            "('C', 'E', 'A')\n",
            "('B', 'D', 'F')\n",
            "---------------\n",
            "('G', 'C', 'E')\n",
            "('F', 'A', 'D')\n",
            "('E', 'G', 'B')\n",
            "('C', 'F', 'A')\n",
            "('B', 'D', 'G')\n",
            "('A', 'C', 'E')\n",
            "('F', 'B', 'D')\n",
            "---------------\n",
            "('E', 'G', 'C')\n",
            "('D', 'F', 'A')\n",
            "('B', 'E', 'G')\n",
            "('A', 'C', 'F')\n",
            "('G', 'B', 'D')\n",
            "('E', 'A', 'C')\n",
            "('D', 'F', 'B')\n",
            "---------------\n",
            "================\n",
            "('C', 'G', 'E')\n",
            "('A', 'F', 'D')\n",
            "('G', 'E', 'B')\n",
            "('F', 'C', 'A')\n",
            "('D', 'B', 'G')\n",
            "('C', 'A', 'E')\n",
            "('B', 'F', 'D')\n",
            "---------------\n",
            "('G', 'E', 'C')\n",
            "('F', 'D', 'A')\n",
            "('E', 'B', 'G')\n",
            "('C', 'A', 'F')\n",
            "('B', 'G', 'D')\n",
            "('A', 'E', 'C')\n",
            "('F', 'D', 'B')\n",
            "---------------\n",
            "('E', 'C', 'G')\n",
            "('D', 'A', 'F')\n",
            "('B', 'G', 'E')\n",
            "('A', 'F', 'C')\n",
            "('G', 'D', 'B')\n",
            "('E', 'C', 'A')\n",
            "('D', 'B', 'F')\n",
            "---------------\n",
            "================\n"
          ]
        }
      ]
    },
    {
      "cell_type": "code",
      "source": [
        "vc = VoicingCycle(c.chords(3), (5,3,1)) # cycle: 5->3->1->5...\n",
        "voicings = [(1,3,5), (1,5,3)] # close voicing, spread voicing\n",
        "vc.gen(vc.Cycle4, voicings) # close voicing, spread voicing"
      ],
      "metadata": {
        "colab": {
          "base_uri": "https://localhost:8080/"
        },
        "id": "bF-EqtNFceuC",
        "outputId": "3be61737-12e8-42c7-a090-576f8e9d7487"
      },
      "execution_count": 53,
      "outputs": [
        {
          "output_type": "stream",
          "name": "stdout",
          "text": [
            "('C', 'E', 'G')\n",
            "('C', 'F', 'A')\n",
            "('D', 'F', 'B')\n",
            "('E', 'G', 'B')\n",
            "('E', 'A', 'C')\n",
            "('F', 'A', 'D')\n",
            "('G', 'B', 'D')\n",
            "---------------\n",
            "('G', 'C', 'E')\n",
            "('A', 'C', 'F')\n",
            "('B', 'D', 'F')\n",
            "('B', 'E', 'G')\n",
            "('C', 'E', 'A')\n",
            "('D', 'F', 'A')\n",
            "('D', 'G', 'B')\n",
            "---------------\n",
            "('E', 'G', 'C')\n",
            "('F', 'A', 'C')\n",
            "('F', 'B', 'D')\n",
            "('G', 'B', 'E')\n",
            "('A', 'C', 'E')\n",
            "('A', 'D', 'F')\n",
            "('B', 'D', 'G')\n",
            "---------------\n",
            "================\n",
            "('C', 'G', 'E')\n",
            "('C', 'A', 'F')\n",
            "('D', 'B', 'F')\n",
            "('E', 'B', 'G')\n",
            "('E', 'C', 'A')\n",
            "('F', 'D', 'A')\n",
            "('G', 'D', 'B')\n",
            "---------------\n",
            "('G', 'E', 'C')\n",
            "('A', 'F', 'C')\n",
            "('B', 'F', 'D')\n",
            "('B', 'G', 'E')\n",
            "('C', 'A', 'E')\n",
            "('D', 'A', 'F')\n",
            "('D', 'B', 'G')\n",
            "---------------\n",
            "('E', 'C', 'G')\n",
            "('F', 'C', 'A')\n",
            "('F', 'D', 'B')\n",
            "('G', 'E', 'B')\n",
            "('A', 'E', 'C')\n",
            "('A', 'F', 'D')\n",
            "('B', 'G', 'D')\n",
            "---------------\n",
            "================\n"
          ]
        }
      ]
    },
    {
      "cell_type": "code",
      "source": [
        "vc = VoicingCycle(c.chords(3), (5,1,3)) # cycle: 5->3->1->5...\n",
        "voicings = [(1,3,5), (1,5,3)] # close voicing, spread voicing\n",
        "vc.gen(vc.Cycle6, voicings) # close voicing, spread voicing"
      ],
      "metadata": {
        "colab": {
          "base_uri": "https://localhost:8080/"
        },
        "id": "AnIIuAVVjVL1",
        "outputId": "edf16acf-0c49-48eb-998e-8ac6d2ecf227"
      },
      "execution_count": 54,
      "outputs": [
        {
          "output_type": "stream",
          "name": "stdout",
          "text": [
            "('C', 'E', 'G')\n",
            "('C', 'E', 'A')\n",
            "('C', 'F', 'A')\n",
            "('D', 'F', 'A')\n",
            "('D', 'F', 'B')\n",
            "('D', 'G', 'B')\n",
            "('E', 'G', 'B')\n",
            "---------------\n",
            "('E', 'G', 'C')\n",
            "('E', 'A', 'C')\n",
            "('F', 'A', 'C')\n",
            "('F', 'A', 'D')\n",
            "('F', 'B', 'D')\n",
            "('G', 'B', 'D')\n",
            "('G', 'B', 'E')\n",
            "---------------\n",
            "('G', 'C', 'E')\n",
            "('A', 'C', 'E')\n",
            "('A', 'C', 'F')\n",
            "('A', 'D', 'F')\n",
            "('B', 'D', 'F')\n",
            "('B', 'D', 'G')\n",
            "('B', 'E', 'G')\n",
            "---------------\n",
            "================\n",
            "('C', 'G', 'E')\n",
            "('C', 'A', 'E')\n",
            "('C', 'A', 'F')\n",
            "('D', 'A', 'F')\n",
            "('D', 'B', 'F')\n",
            "('D', 'B', 'G')\n",
            "('E', 'B', 'G')\n",
            "---------------\n",
            "('E', 'C', 'G')\n",
            "('E', 'C', 'A')\n",
            "('F', 'C', 'A')\n",
            "('F', 'D', 'A')\n",
            "('F', 'D', 'B')\n",
            "('G', 'D', 'B')\n",
            "('G', 'E', 'B')\n",
            "---------------\n",
            "('G', 'E', 'C')\n",
            "('A', 'E', 'C')\n",
            "('A', 'F', 'C')\n",
            "('A', 'F', 'D')\n",
            "('B', 'F', 'D')\n",
            "('B', 'G', 'D')\n",
            "('B', 'G', 'E')\n",
            "---------------\n",
            "================\n"
          ]
        }
      ]
    },
    {
      "cell_type": "code",
      "source": [
        "vc = VoicingCycle(c.chords(3), (5,1,3)) # cycle: 5->3->1->5...\n",
        "voicings = [(1,3,5), (1,5,3)] # close voicing, spread voicing\n",
        "vc.gen(vc.Cycle7, voicings) # close voicing, spread voicing"
      ],
      "metadata": {
        "colab": {
          "base_uri": "https://localhost:8080/"
        },
        "id": "HkXb8QcQFst-",
        "outputId": "3c1f2b4e-ed8c-49c6-9dca-303fe66211a6"
      },
      "execution_count": 55,
      "outputs": [
        {
          "output_type": "stream",
          "name": "stdout",
          "text": [
            "('C', 'E', 'G')\n",
            "('D', 'F', 'B')\n",
            "('E', 'A', 'C')\n",
            "('G', 'B', 'D')\n",
            "('A', 'C', 'F')\n",
            "('B', 'E', 'G')\n",
            "('D', 'F', 'A')\n",
            "---------------\n",
            "('E', 'G', 'C')\n",
            "('F', 'B', 'D')\n",
            "('A', 'C', 'E')\n",
            "('B', 'D', 'G')\n",
            "('C', 'F', 'A')\n",
            "('E', 'G', 'B')\n",
            "('F', 'A', 'D')\n",
            "---------------\n",
            "('G', 'C', 'E')\n",
            "('B', 'D', 'F')\n",
            "('C', 'E', 'A')\n",
            "('D', 'G', 'B')\n",
            "('F', 'A', 'C')\n",
            "('G', 'B', 'E')\n",
            "('A', 'D', 'F')\n",
            "---------------\n",
            "================\n",
            "('C', 'G', 'E')\n",
            "('D', 'B', 'F')\n",
            "('E', 'C', 'A')\n",
            "('G', 'D', 'B')\n",
            "('A', 'F', 'C')\n",
            "('B', 'G', 'E')\n",
            "('D', 'A', 'F')\n",
            "---------------\n",
            "('E', 'C', 'G')\n",
            "('F', 'D', 'B')\n",
            "('A', 'E', 'C')\n",
            "('B', 'G', 'D')\n",
            "('C', 'A', 'F')\n",
            "('E', 'B', 'G')\n",
            "('F', 'D', 'A')\n",
            "---------------\n",
            "('G', 'E', 'C')\n",
            "('B', 'F', 'D')\n",
            "('C', 'A', 'E')\n",
            "('D', 'B', 'G')\n",
            "('F', 'C', 'A')\n",
            "('G', 'E', 'B')\n",
            "('A', 'F', 'D')\n",
            "---------------\n",
            "================\n"
          ]
        }
      ]
    },
    {
      "cell_type": "code",
      "source": [
        "vc = VoicingCycle(c.chords(3), (1,3, 5)) # cycle: 1->3->5->1...\n",
        "voicings = [(1,3,5), (1,5,3)] # close voicing, spread voicing\n",
        "vc.gen(vc.Cycle5, voicings) # close voicing, spread voicing"
      ],
      "metadata": {
        "colab": {
          "base_uri": "https://localhost:8080/"
        },
        "id": "pgCMezBFkqOl",
        "outputId": "18e56475-3f3c-494c-9d57-b647521d9ca6"
      },
      "execution_count": 56,
      "outputs": [
        {
          "output_type": "stream",
          "name": "stdout",
          "text": [
            "('C', 'E', 'G')\n",
            "('B', 'D', 'G')\n",
            "('A', 'D', 'F')\n",
            "('A', 'C', 'E')\n",
            "('G', 'B', 'E')\n",
            "('F', 'B', 'D')\n",
            "('F', 'A', 'C')\n",
            "---------------\n",
            "('E', 'G', 'C')\n",
            "('D', 'G', 'B')\n",
            "('D', 'F', 'A')\n",
            "('C', 'E', 'A')\n",
            "('B', 'E', 'G')\n",
            "('B', 'D', 'F')\n",
            "('A', 'C', 'F')\n",
            "---------------\n",
            "('G', 'C', 'E')\n",
            "('G', 'B', 'D')\n",
            "('F', 'A', 'D')\n",
            "('E', 'A', 'C')\n",
            "('E', 'G', 'B')\n",
            "('D', 'F', 'B')\n",
            "('C', 'F', 'A')\n",
            "---------------\n",
            "================\n",
            "('C', 'G', 'E')\n",
            "('B', 'G', 'D')\n",
            "('A', 'F', 'D')\n",
            "('A', 'E', 'C')\n",
            "('G', 'E', 'B')\n",
            "('F', 'D', 'B')\n",
            "('F', 'C', 'A')\n",
            "---------------\n",
            "('E', 'C', 'G')\n",
            "('D', 'B', 'G')\n",
            "('D', 'A', 'F')\n",
            "('C', 'A', 'E')\n",
            "('B', 'G', 'E')\n",
            "('B', 'F', 'D')\n",
            "('A', 'F', 'C')\n",
            "---------------\n",
            "('G', 'E', 'C')\n",
            "('G', 'D', 'B')\n",
            "('F', 'D', 'A')\n",
            "('E', 'C', 'A')\n",
            "('E', 'B', 'G')\n",
            "('D', 'B', 'F')\n",
            "('C', 'A', 'F')\n",
            "---------------\n",
            "================\n"
          ]
        }
      ]
    },
    {
      "cell_type": "code",
      "source": [
        "vc = VoicingCycle(c.chords(3), (1,5, 3)) # cycle: 1->5->3->1...\n",
        "voicings = [(1,3,5), (1,5,3)] # close voicing, spread voicing\n",
        "vc.gen(vc.Cycle3, voicings) # close voicing, spread voicing"
      ],
      "metadata": {
        "colab": {
          "base_uri": "https://localhost:8080/"
        },
        "id": "R37F-3v3k68e",
        "outputId": "21c7c600-3768-4c46-a8d6-60504b3b959e"
      },
      "execution_count": 57,
      "outputs": [
        {
          "output_type": "stream",
          "name": "stdout",
          "text": [
            "('C', 'E', 'G')\n",
            "('B', 'E', 'G')\n",
            "('B', 'D', 'G')\n",
            "('B', 'D', 'F')\n",
            "('A', 'D', 'F')\n",
            "('A', 'C', 'F')\n",
            "('A', 'C', 'E')\n",
            "---------------\n",
            "('G', 'C', 'E')\n",
            "('G', 'B', 'E')\n",
            "('G', 'B', 'D')\n",
            "('F', 'B', 'D')\n",
            "('F', 'A', 'D')\n",
            "('F', 'A', 'C')\n",
            "('E', 'A', 'C')\n",
            "---------------\n",
            "('E', 'G', 'C')\n",
            "('E', 'G', 'B')\n",
            "('D', 'G', 'B')\n",
            "('D', 'F', 'B')\n",
            "('D', 'F', 'A')\n",
            "('C', 'F', 'A')\n",
            "('C', 'E', 'A')\n",
            "---------------\n",
            "================\n",
            "('C', 'G', 'E')\n",
            "('B', 'G', 'E')\n",
            "('B', 'G', 'D')\n",
            "('B', 'F', 'D')\n",
            "('A', 'F', 'D')\n",
            "('A', 'F', 'C')\n",
            "('A', 'E', 'C')\n",
            "---------------\n",
            "('G', 'E', 'C')\n",
            "('G', 'E', 'B')\n",
            "('G', 'D', 'B')\n",
            "('F', 'D', 'B')\n",
            "('F', 'D', 'A')\n",
            "('F', 'C', 'A')\n",
            "('E', 'C', 'A')\n",
            "---------------\n",
            "('E', 'C', 'G')\n",
            "('E', 'B', 'G')\n",
            "('D', 'B', 'G')\n",
            "('D', 'B', 'F')\n",
            "('D', 'A', 'F')\n",
            "('C', 'A', 'F')\n",
            "('C', 'A', 'E')\n",
            "---------------\n",
            "================\n"
          ]
        }
      ]
    },
    {
      "cell_type": "code",
      "source": [
        "# start with C Melodic Minor Triads\n",
        "c = Diatonic(\"C\", Scale.M_MINOR)"
      ],
      "metadata": {
        "id": "rhPGTCRBmf7F"
      },
      "execution_count": 58,
      "outputs": []
    },
    {
      "cell_type": "code",
      "source": [
        "vc = VoicingCycle(c.chords(3), (5,3,1)) # cycle: 5->3->1->5...\n",
        "voicings = [(1,3,5), (1,5,3)] # close voicing, spread voicing\n",
        "vc.gen(vc.Cycle2, voicings ) "
      ],
      "metadata": {
        "colab": {
          "base_uri": "https://localhost:8080/"
        },
        "id": "qVle4EnUlLEm",
        "outputId": "76c9a619-24a5-4140-cc41-c26c9605d384"
      },
      "execution_count": 59,
      "outputs": [
        {
          "output_type": "stream",
          "name": "stdout",
          "text": [
            "('C', 'Eb', 'G')\n",
            "('A', 'D', 'F')\n",
            "('G', 'B', 'Eb')\n",
            "('F', 'A', 'C')\n",
            "('D', 'G', 'B')\n",
            "('C', 'Eb', 'A')\n",
            "('B', 'D', 'F')\n",
            "---------------\n",
            "('G', 'C', 'Eb')\n",
            "('F', 'A', 'D')\n",
            "('Eb', 'G', 'B')\n",
            "('C', 'F', 'A')\n",
            "('B', 'D', 'G')\n",
            "('A', 'C', 'Eb')\n",
            "('F', 'B', 'D')\n",
            "---------------\n",
            "('Eb', 'G', 'C')\n",
            "('D', 'F', 'A')\n",
            "('B', 'Eb', 'G')\n",
            "('A', 'C', 'F')\n",
            "('G', 'B', 'D')\n",
            "('Eb', 'A', 'C')\n",
            "('D', 'F', 'B')\n",
            "---------------\n",
            "================\n",
            "('C', 'G', 'Eb')\n",
            "('A', 'F', 'D')\n",
            "('G', 'Eb', 'B')\n",
            "('F', 'C', 'A')\n",
            "('D', 'B', 'G')\n",
            "('C', 'A', 'Eb')\n",
            "('B', 'F', 'D')\n",
            "---------------\n",
            "('G', 'Eb', 'C')\n",
            "('F', 'D', 'A')\n",
            "('Eb', 'B', 'G')\n",
            "('C', 'A', 'F')\n",
            "('B', 'G', 'D')\n",
            "('A', 'Eb', 'C')\n",
            "('F', 'D', 'B')\n",
            "---------------\n",
            "('Eb', 'C', 'G')\n",
            "('D', 'A', 'F')\n",
            "('B', 'G', 'Eb')\n",
            "('A', 'F', 'C')\n",
            "('G', 'D', 'B')\n",
            "('Eb', 'C', 'A')\n",
            "('D', 'B', 'F')\n",
            "---------------\n",
            "================\n"
          ]
        }
      ]
    },
    {
      "cell_type": "code",
      "source": [
        "# start with C Harmonic Minor Triads\n",
        "c = Diatonic(\"C\", Scale.H_MINOR)"
      ],
      "metadata": {
        "id": "4dNGGcq6mlTG"
      },
      "execution_count": 60,
      "outputs": []
    },
    {
      "cell_type": "code",
      "source": [
        "vc = VoicingCycle(c.chords(3), (5,3,1)) # cycle: 5->3->1->5...\n",
        "voicings = [(1,3,5), (1,5,3)] # close voicing, spread voicing\n",
        "vc.gen(vc.Cycle2, voicings ) "
      ],
      "metadata": {
        "colab": {
          "base_uri": "https://localhost:8080/"
        },
        "id": "_dqWihGEnJOH",
        "outputId": "920e9d1b-046d-43aa-8ca8-a9fd073a24c7"
      },
      "execution_count": 61,
      "outputs": [
        {
          "output_type": "stream",
          "name": "stdout",
          "text": [
            "('C', 'Eb', 'G')\n",
            "('Ab', 'D', 'F')\n",
            "('G', 'B', 'Eb')\n",
            "('F', 'Ab', 'C')\n",
            "('D', 'G', 'B')\n",
            "('C', 'Eb', 'Ab')\n",
            "('B', 'D', 'F')\n",
            "---------------\n",
            "('G', 'C', 'Eb')\n",
            "('F', 'Ab', 'D')\n",
            "('Eb', 'G', 'B')\n",
            "('C', 'F', 'Ab')\n",
            "('B', 'D', 'G')\n",
            "('Ab', 'C', 'Eb')\n",
            "('F', 'B', 'D')\n",
            "---------------\n",
            "('Eb', 'G', 'C')\n",
            "('D', 'F', 'Ab')\n",
            "('B', 'Eb', 'G')\n",
            "('Ab', 'C', 'F')\n",
            "('G', 'B', 'D')\n",
            "('Eb', 'Ab', 'C')\n",
            "('D', 'F', 'B')\n",
            "---------------\n",
            "================\n",
            "('C', 'G', 'Eb')\n",
            "('Ab', 'F', 'D')\n",
            "('G', 'Eb', 'B')\n",
            "('F', 'C', 'Ab')\n",
            "('D', 'B', 'G')\n",
            "('C', 'Ab', 'Eb')\n",
            "('B', 'F', 'D')\n",
            "---------------\n",
            "('G', 'Eb', 'C')\n",
            "('F', 'D', 'Ab')\n",
            "('Eb', 'B', 'G')\n",
            "('C', 'Ab', 'F')\n",
            "('B', 'G', 'D')\n",
            "('Ab', 'Eb', 'C')\n",
            "('F', 'D', 'B')\n",
            "---------------\n",
            "('Eb', 'C', 'G')\n",
            "('D', 'Ab', 'F')\n",
            "('B', 'G', 'Eb')\n",
            "('Ab', 'F', 'C')\n",
            "('G', 'D', 'B')\n",
            "('Eb', 'C', 'Ab')\n",
            "('D', 'B', 'F')\n",
            "---------------\n",
            "================\n"
          ]
        }
      ]
    },
    {
      "cell_type": "code",
      "source": [
        "# start with C Major 7sth Chords\n",
        "c = Diatonic(\"C\", Scale.MAJOR)"
      ],
      "metadata": {
        "id": "tmsA-JnrnKQP"
      },
      "execution_count": 62,
      "outputs": []
    },
    {
      "cell_type": "code",
      "source": [
        "vc = VoicingCycle(c.chords(4), (5,3,1,7)) # cycle: 5->3->1->7->5...\n",
        "voicings = [(1,3,5,7)] # close voicing\n",
        "vc.gen(vc.Cycle2, voicings ) "
      ],
      "metadata": {
        "colab": {
          "base_uri": "https://localhost:8080/"
        },
        "id": "TtVMwL03omGQ",
        "outputId": "5c8ed23e-3266-469b-eaa3-371c956f955c"
      },
      "execution_count": 63,
      "outputs": [
        {
          "output_type": "stream",
          "name": "stdout",
          "text": [
            "('C', 'E', 'G', 'B')\n",
            "('C', 'D', 'F', 'A')\n",
            "('B', 'D', 'E', 'G')\n",
            "('A', 'C', 'E', 'F')\n",
            "('G', 'B', 'D', 'F')\n",
            "('G', 'A', 'C', 'E')\n",
            "('F', 'A', 'B', 'D')\n",
            "---------------\n",
            "('E', 'G', 'B', 'C')\n",
            "('D', 'F', 'A', 'C')\n",
            "('D', 'E', 'G', 'B')\n",
            "('C', 'E', 'F', 'A')\n",
            "('B', 'D', 'F', 'G')\n",
            "('A', 'C', 'E', 'G')\n",
            "('A', 'B', 'D', 'F')\n",
            "---------------\n",
            "('G', 'B', 'C', 'E')\n",
            "('F', 'A', 'C', 'D')\n",
            "('E', 'G', 'B', 'D')\n",
            "('E', 'F', 'A', 'C')\n",
            "('D', 'F', 'G', 'B')\n",
            "('C', 'E', 'G', 'A')\n",
            "('B', 'D', 'F', 'A')\n",
            "---------------\n",
            "('B', 'C', 'E', 'G')\n",
            "('A', 'C', 'D', 'F')\n",
            "('G', 'B', 'D', 'E')\n",
            "('F', 'A', 'C', 'E')\n",
            "('F', 'G', 'B', 'D')\n",
            "('E', 'G', 'A', 'C')\n",
            "('D', 'F', 'A', 'B')\n",
            "---------------\n",
            "================\n"
          ]
        }
      ]
    },
    {
      "cell_type": "code",
      "source": [
        "voicings = [(1,5,7,3)] # drop-2 voicing\n",
        "vc.gen(vc.Cycle2, voicings ) "
      ],
      "metadata": {
        "colab": {
          "base_uri": "https://localhost:8080/"
        },
        "id": "akB8xary8Fao",
        "outputId": "d37dc11b-bc76-4056-fee2-bd360a3bac08"
      },
      "execution_count": 64,
      "outputs": [
        {
          "output_type": "stream",
          "name": "stdout",
          "text": [
            "('C', 'G', 'B', 'E')\n",
            "('C', 'F', 'A', 'D')\n",
            "('B', 'E', 'G', 'D')\n",
            "('A', 'E', 'F', 'C')\n",
            "('G', 'D', 'F', 'B')\n",
            "('G', 'C', 'E', 'A')\n",
            "('F', 'B', 'D', 'A')\n",
            "---------------\n",
            "('E', 'B', 'C', 'G')\n",
            "('D', 'A', 'C', 'F')\n",
            "('D', 'G', 'B', 'E')\n",
            "('C', 'F', 'A', 'E')\n",
            "('B', 'F', 'G', 'D')\n",
            "('A', 'E', 'G', 'C')\n",
            "('A', 'D', 'F', 'B')\n",
            "---------------\n",
            "('G', 'C', 'E', 'B')\n",
            "('F', 'C', 'D', 'A')\n",
            "('E', 'B', 'D', 'G')\n",
            "('E', 'A', 'C', 'F')\n",
            "('D', 'G', 'B', 'F')\n",
            "('C', 'G', 'A', 'E')\n",
            "('B', 'F', 'A', 'D')\n",
            "---------------\n",
            "('B', 'E', 'G', 'C')\n",
            "('A', 'D', 'F', 'C')\n",
            "('G', 'D', 'E', 'B')\n",
            "('F', 'C', 'E', 'A')\n",
            "('F', 'B', 'D', 'G')\n",
            "('E', 'A', 'C', 'G')\n",
            "('D', 'A', 'B', 'F')\n",
            "---------------\n",
            "================\n"
          ]
        }
      ]
    },
    {
      "cell_type": "code",
      "source": [
        "voicings = [(1,7,3,5)] # drop 3 voicing\n",
        "vc.gen(vc.Cycle2, voicings ) "
      ],
      "metadata": {
        "colab": {
          "base_uri": "https://localhost:8080/"
        },
        "id": "-z6dUk_89ADg",
        "outputId": "7b142023-74d2-4c29-a039-84c3d83b7e1e"
      },
      "execution_count": 65,
      "outputs": [
        {
          "output_type": "stream",
          "name": "stdout",
          "text": [
            "('C', 'B', 'E', 'G')\n",
            "('C', 'A', 'D', 'F')\n",
            "('B', 'G', 'D', 'E')\n",
            "('A', 'F', 'C', 'E')\n",
            "('G', 'F', 'B', 'D')\n",
            "('G', 'E', 'A', 'C')\n",
            "('F', 'D', 'A', 'B')\n",
            "---------------\n",
            "('E', 'C', 'G', 'B')\n",
            "('D', 'C', 'F', 'A')\n",
            "('D', 'B', 'E', 'G')\n",
            "('C', 'A', 'E', 'F')\n",
            "('B', 'G', 'D', 'F')\n",
            "('A', 'G', 'C', 'E')\n",
            "('A', 'F', 'B', 'D')\n",
            "---------------\n",
            "('G', 'E', 'B', 'C')\n",
            "('F', 'D', 'A', 'C')\n",
            "('E', 'D', 'G', 'B')\n",
            "('E', 'C', 'F', 'A')\n",
            "('D', 'B', 'F', 'G')\n",
            "('C', 'A', 'E', 'G')\n",
            "('B', 'A', 'D', 'F')\n",
            "---------------\n",
            "('B', 'G', 'C', 'E')\n",
            "('A', 'F', 'C', 'D')\n",
            "('G', 'E', 'B', 'D')\n",
            "('F', 'E', 'A', 'C')\n",
            "('F', 'D', 'G', 'B')\n",
            "('E', 'C', 'G', 'A')\n",
            "('D', 'B', 'F', 'A')\n",
            "---------------\n",
            "================\n"
          ]
        }
      ]
    },
    {
      "cell_type": "code",
      "source": [
        "voicings = [(1,3,7,5)] # drop 2 & 3 voicing\n",
        "vc.gen(vc.Cycle2, voicings ) "
      ],
      "metadata": {
        "colab": {
          "base_uri": "https://localhost:8080/"
        },
        "id": "RHcz7KAV9Uth",
        "outputId": "5f91e9e9-0bb2-479a-f32e-a345f35a24f5"
      },
      "execution_count": 66,
      "outputs": [
        {
          "output_type": "stream",
          "name": "stdout",
          "text": [
            "('C', 'E', 'B', 'G')\n",
            "('C', 'D', 'A', 'F')\n",
            "('B', 'D', 'G', 'E')\n",
            "('A', 'C', 'F', 'E')\n",
            "('G', 'B', 'F', 'D')\n",
            "('G', 'A', 'E', 'C')\n",
            "('F', 'A', 'D', 'B')\n",
            "---------------\n",
            "('E', 'G', 'C', 'B')\n",
            "('D', 'F', 'C', 'A')\n",
            "('D', 'E', 'B', 'G')\n",
            "('C', 'E', 'A', 'F')\n",
            "('B', 'D', 'G', 'F')\n",
            "('A', 'C', 'G', 'E')\n",
            "('A', 'B', 'F', 'D')\n",
            "---------------\n",
            "('G', 'B', 'E', 'C')\n",
            "('F', 'A', 'D', 'C')\n",
            "('E', 'G', 'D', 'B')\n",
            "('E', 'F', 'C', 'A')\n",
            "('D', 'F', 'B', 'G')\n",
            "('C', 'E', 'A', 'G')\n",
            "('B', 'D', 'A', 'F')\n",
            "---------------\n",
            "('B', 'C', 'G', 'E')\n",
            "('A', 'C', 'F', 'D')\n",
            "('G', 'B', 'E', 'D')\n",
            "('F', 'A', 'E', 'C')\n",
            "('F', 'G', 'D', 'B')\n",
            "('E', 'G', 'C', 'A')\n",
            "('D', 'F', 'B', 'A')\n",
            "---------------\n",
            "================\n"
          ]
        }
      ]
    },
    {
      "cell_type": "code",
      "source": [
        "voicings = [(1,5,3,7)] # drop 2 & 4 voicing\n",
        "vc.gen(vc.Cycle2, voicings ) "
      ],
      "metadata": {
        "colab": {
          "base_uri": "https://localhost:8080/"
        },
        "id": "DyGaq43y90UR",
        "outputId": "6df99635-3547-4de7-9403-0738a81a9eaa"
      },
      "execution_count": 67,
      "outputs": [
        {
          "output_type": "stream",
          "name": "stdout",
          "text": [
            "('C', 'G', 'E', 'B')\n",
            "('C', 'F', 'D', 'A')\n",
            "('B', 'E', 'D', 'G')\n",
            "('A', 'E', 'C', 'F')\n",
            "('G', 'D', 'B', 'F')\n",
            "('G', 'C', 'A', 'E')\n",
            "('F', 'B', 'A', 'D')\n",
            "---------------\n",
            "('E', 'B', 'G', 'C')\n",
            "('D', 'A', 'F', 'C')\n",
            "('D', 'G', 'E', 'B')\n",
            "('C', 'F', 'E', 'A')\n",
            "('B', 'F', 'D', 'G')\n",
            "('A', 'E', 'C', 'G')\n",
            "('A', 'D', 'B', 'F')\n",
            "---------------\n",
            "('G', 'C', 'B', 'E')\n",
            "('F', 'C', 'A', 'D')\n",
            "('E', 'B', 'G', 'D')\n",
            "('E', 'A', 'F', 'C')\n",
            "('D', 'G', 'F', 'B')\n",
            "('C', 'G', 'E', 'A')\n",
            "('B', 'F', 'D', 'A')\n",
            "---------------\n",
            "('B', 'E', 'C', 'G')\n",
            "('A', 'D', 'C', 'F')\n",
            "('G', 'D', 'B', 'E')\n",
            "('F', 'C', 'A', 'E')\n",
            "('F', 'B', 'G', 'D')\n",
            "('E', 'A', 'G', 'C')\n",
            "('D', 'A', 'F', 'B')\n",
            "---------------\n",
            "================\n"
          ]
        }
      ]
    },
    {
      "cell_type": "code",
      "source": [
        "voicings = [(1,7,5,3)] # double drop 2 & 3 voicing\n",
        "vc.gen(vc.Cycle2, voicings ) "
      ],
      "metadata": {
        "colab": {
          "base_uri": "https://localhost:8080/"
        },
        "id": "s0-Q_WUz-YeQ",
        "outputId": "870f9a0c-1923-4460-de48-73222d4c927d"
      },
      "execution_count": 68,
      "outputs": [
        {
          "output_type": "stream",
          "name": "stdout",
          "text": [
            "('C', 'B', 'G', 'E')\n",
            "('C', 'A', 'F', 'D')\n",
            "('B', 'G', 'E', 'D')\n",
            "('A', 'F', 'E', 'C')\n",
            "('G', 'F', 'D', 'B')\n",
            "('G', 'E', 'C', 'A')\n",
            "('F', 'D', 'B', 'A')\n",
            "---------------\n",
            "('E', 'C', 'B', 'G')\n",
            "('D', 'C', 'A', 'F')\n",
            "('D', 'B', 'G', 'E')\n",
            "('C', 'A', 'F', 'E')\n",
            "('B', 'G', 'F', 'D')\n",
            "('A', 'G', 'E', 'C')\n",
            "('A', 'F', 'D', 'B')\n",
            "---------------\n",
            "('G', 'E', 'C', 'B')\n",
            "('F', 'D', 'C', 'A')\n",
            "('E', 'D', 'B', 'G')\n",
            "('E', 'C', 'A', 'F')\n",
            "('D', 'B', 'G', 'F')\n",
            "('C', 'A', 'G', 'E')\n",
            "('B', 'A', 'F', 'D')\n",
            "---------------\n",
            "('B', 'G', 'E', 'C')\n",
            "('A', 'F', 'D', 'C')\n",
            "('G', 'E', 'D', 'B')\n",
            "('F', 'E', 'C', 'A')\n",
            "('F', 'D', 'B', 'G')\n",
            "('E', 'C', 'A', 'G')\n",
            "('D', 'B', 'A', 'F')\n",
            "---------------\n",
            "================\n"
          ]
        }
      ]
    },
    {
      "cell_type": "code",
      "source": [
        "from google.colab import widgets\n",
        "import ipywidgets\n",
        "from IPython.display import display, clear_output\n",
        "\n",
        "bw = ipywidgets.widgets.Button(description=\"Generate\", colors=['Green'])\n",
        "# create output widget\n",
        "output = ipywidgets.widgets.Output()\n",
        "\n",
        "def on_button_clicked(b):\n",
        "  with output:\n",
        "    clear_output()  \n",
        "    scale = {'Major': Scale.MAJOR, 'Mel. Minor': Scale.M_MINOR,'Har. Minor': Scale.H_MINOR }\n",
        "    dd = Diatonic(kw.value, scale[sw.value])\n",
        "    if cw.value == 'Seventh':\n",
        "      vc = VoicingCycle(dd.chords(4), (5,3,1,7)) # cycle: 5->3->1->5...\n",
        "      voicings = [(1,3,5,7)] # close voicing\n",
        "      vc.gen(vc.Cycle2, voicings ) \n",
        "    else:\n",
        "      vc = VoicingCycle(dd.chords(3), (5,3,1)) # cycle: 5->3->1->5...\n",
        "      voicings = [(1,3,5), (1,5,3)] # close voicing, spread voicing\n",
        "      vc.gen(vc.Cycle2, voicings ) \n",
        "  display(output)\n",
        "\n",
        "bw.on_click(on_button_clicked)\n",
        "bw.style.button_color = 'lightgreen'\n",
        "\n",
        "kw = ipywidgets.widgets.Dropdown(\n",
        "    options=['C', 'D', 'E', 'F', 'G', 'A', 'B'],\n",
        "    value='C',\n",
        "    size=10,\n",
        "    description='Key:'\n",
        ")\n",
        "\n",
        "sw = ipywidgets.widgets.Dropdown(\n",
        "    options=['Major', 'Mel. Minor', 'Har. Minor'],\n",
        "    value='Major',\n",
        "    description='Scale:'\n",
        ")\n",
        "\n",
        "cw = ipywidgets.widgets.Dropdown(\n",
        "    options=['Triad', 'Seventh'],\n",
        "    value='Triad',\n",
        "    description='Chord:'\n",
        ")\n",
        "\n",
        "ipywidgets.widgets.VBox([ipywidgets.widgets.HBox([bw, kw, sw, cw]), out])\n"
      ],
      "metadata": {
        "colab": {
          "base_uri": "https://localhost:8080/",
          "height": 944,
          "referenced_widgets": [
            "15bea2f34cce4e0ab3cbf0a22c020963",
            "3037c46ed3424d17a1876c42d0c4425c",
            "ad1db5b359d2446ca53adda7472202af",
            "415820bbc4e84611922921e92475d1f8",
            "56cc29ceee7840239e87deacd0d315e0",
            "81cb4c6c9c2645ce8e6fa1d5e1f3c3d7",
            "3a38ff10bc8342b6a62ce408fb2a96f0",
            "7325c225b14b49cfba531489eaf69591",
            "372f3112ba9e4f5bae9060b646130534",
            "0326212e2e0d448ca956b86c1c75351b",
            "3e68ecf1a8cd4a2baaf377adf03bc183",
            "2bdd3f6d351b4cb59249f4d5501d5dc0",
            "ea61a29796b2443aba48027b9f3b355f",
            "e175c920123543db8fa75147cfc2929e",
            "dd51bdcbf7ad423e9134e1a5dcd87d51",
            "a84fcfb21e7b45bc8713b0c16d99393a",
            "fb351c48781a4d7a89da933c0d89d9ca",
            "a425aa3fdc404298b51584cc2f4b43a2",
            "dfda8c9644114904bed665f621924623",
            "17d3fb71b60941a58024ff183edc40a2"
          ]
        },
        "id": "HZ1x_Q_6-zsg",
        "outputId": "4da9813a-ab3a-4fcc-ab1e-860760a6c7f5"
      },
      "execution_count": 69,
      "outputs": [
        {
          "output_type": "display_data",
          "data": {
            "text/plain": [
              "VBox(children=(HBox(children=(Button(description='Generate', style=ButtonStyle(button_color='lightgreen')), Dr…"
            ],
            "application/vnd.jupyter.widget-view+json": {
              "version_major": 2,
              "version_minor": 0,
              "model_id": "15bea2f34cce4e0ab3cbf0a22c020963"
            }
          },
          "metadata": {}
        },
        {
          "output_type": "display_data",
          "data": {
            "text/plain": [
              "Output()"
            ],
            "application/vnd.jupyter.widget-view+json": {
              "version_major": 2,
              "version_minor": 0,
              "model_id": "dfda8c9644114904bed665f621924623"
            }
          },
          "metadata": {}
        }
      ]
    },
    {
      "cell_type": "code",
      "source": [],
      "metadata": {
        "id": "MnLy7b54EELd"
      },
      "execution_count": 69,
      "outputs": []
    }
  ]
}